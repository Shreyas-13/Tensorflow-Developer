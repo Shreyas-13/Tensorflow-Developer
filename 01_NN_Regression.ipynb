{
  "nbformat": 4,
  "nbformat_minor": 0,
  "metadata": {
    "colab": {
      "name": "01_NN_Regression.ipynb",
      "provenance": [],
      "authorship_tag": "ABX9TyP3aaJqZS9pXmjGrj7zD08C",
      "include_colab_link": true
    },
    "kernelspec": {
      "name": "python3",
      "display_name": "Python 3"
    },
    "language_info": {
      "name": "python"
    }
  },
  "cells": [
    {
      "cell_type": "markdown",
      "metadata": {
        "id": "view-in-github",
        "colab_type": "text"
      },
      "source": [
        "<a href=\"https://colab.research.google.com/github/Shreyas-13/Tensorflow-Developer/blob/main/01_NN_Regression.ipynb\" target=\"_parent\"><img src=\"https://colab.research.google.com/assets/colab-badge.svg\" alt=\"Open In Colab\"/></a>"
      ]
    },
    {
      "cell_type": "code",
      "execution_count": 28,
      "metadata": {
        "colab": {
          "base_uri": "https://localhost:8080/"
        },
        "id": "ZKvxgnv9VS73",
        "outputId": "a3526695-34e8-4054-9267-244900b8c3da"
      },
      "outputs": [
        {
          "output_type": "stream",
          "name": "stdout",
          "text": [
            "2.8.2\n"
          ]
        }
      ],
      "source": [
        "import tensorflow as tf\n",
        "\n",
        "print(tf.__version__)"
      ]
    },
    {
      "cell_type": "markdown",
      "source": [
        "## Introduction to Regression using TF\n",
        "\n",
        "Predicting the value of dependent variable based on some independent variables"
      ],
      "metadata": {
        "id": "yhz30TH0VeXM"
      }
    },
    {
      "cell_type": "markdown",
      "source": [
        "### Creating Data to Fit"
      ],
      "metadata": {
        "id": "gsCdsfwnWEjo"
      }
    },
    {
      "cell_type": "code",
      "source": [
        "import numpy as np\n",
        "import matplotlib.pyplot as plt\n",
        "import seaborn as sns\n",
        "\n",
        "sns.set_theme(style=\"whitegrid\")\n",
        "\n",
        "X = np.arange(-7.0, 15.0, 3.0)\n",
        "y = np.arange(3, 25, 3)\n",
        "\n",
        "sns.scatterplot(x=X, y=y)"
      ],
      "metadata": {
        "colab": {
          "base_uri": "https://localhost:8080/",
          "height": 72
        },
        "id": "WLZ-RRiEVsx1",
        "outputId": "8023e2ee-9c8b-487f-f2f4-4307db9b9545"
      },
      "execution_count": 29,
      "outputs": [
        {
          "output_type": "execute_result",
          "data": {
            "text/plain": [
              "<matplotlib.axes._subplots.AxesSubplot at 0x7f1cd09ef4d0>"
            ]
          },
          "metadata": {},
          "execution_count": 29
        },
        {
          "output_type": "display_data",
          "data": {
            "text/plain": [
              "<Figure size 432x288 with 1 Axes>"
            ],
            "image/png": "[encoded data removed]"
          },
          "metadata": {}
        }
      ]
    },
    {
      "cell_type": "markdown",
      "source": [
        "### Input And Output Shape\n",
        "\n",
        "One of the most important concepts when working with neural networks are the `input` and `output` shapes.\n",
        "\n",
        "The input shape is the shape of your data that goes into the model.\n",
        "\n",
        "The output shape is the shape of your data you want to come out of your model.\n",
        "\n",
        "These will differ depending on the problem you're working on.\n",
        "\n",
        "Neural networks accept numbers and output numbers. These numbers are typically represented as tensors (or arrays).\n",
        "\n",
        "Before, we created data using NumPy arrays, but we could do the same with tensors."
      ],
      "metadata": {
        "id": "gmaxYZdDYNeX"
      }
    },
    {
      "cell_type": "code",
      "source": [
        "# Example input and output shapes of a regresson model\n",
        "house_info = tf.constant([\"bedroom\", \"bathroom\", \"garage\"])\n",
        "house_price = tf.constant([939700])\n",
        "house_info, house_price"
      ],
      "metadata": {
        "colab": {
          "base_uri": "https://localhost:8080/"
        },
        "id": "aDGy_ndhXUWu",
        "outputId": "3e8f77ef-cd92-4a1a-8eb4-7b15dca788bf"
      },
      "execution_count": 30,
      "outputs": [
        {
          "output_type": "execute_result",
          "data": {
            "text/plain": [
              "(<tf.Tensor: shape=(3,), dtype=string, numpy=array([b'bedroom', b'bathroom', b'garage'], dtype=object)>,\n",
              " <tf.Tensor: shape=(1,), dtype=int32, numpy=array([939700], dtype=int32)>)"
            ]
          },
          "metadata": {},
          "execution_count": 30
        }
      ]
    },
    {
      "cell_type": "markdown",
      "source": [
        "Here the input shape is `(3, )` and the output shape is `(1, )`"
      ],
      "metadata": {
        "id": "9X7BEzOeZPoR"
      }
    },
    {
      "cell_type": "markdown",
      "source": [
        "\n",
        "Our goal here will be to use X to predict y.\n",
        "\n",
        "So our input will be X and our output will be y.\n",
        "\n",
        "Knowing this, what do you think our input and output shapes will be?\n",
        "\n",
        "Let's take a look.\n"
      ],
      "metadata": {
        "id": "08TZj_I3Zjva"
      }
    },
    {
      "cell_type": "code",
      "source": [
        "# Take a single example of X\n",
        "input_shape = X[0].shape \n",
        "\n",
        "# Take a single example of y\n",
        "output_shape = y[0].shape\n",
        "\n",
        "input_shape, output_shape # these are both scalars (no shape)\n"
      ],
      "metadata": {
        "colab": {
          "base_uri": "https://localhost:8080/"
        },
        "id": "LlOJc1saZLPA",
        "outputId": "0a38ef11-ff5e-4eae-8a8b-696c94e11092"
      },
      "execution_count": 31,
      "outputs": [
        {
          "output_type": "execute_result",
          "data": {
            "text/plain": [
              "((), ())"
            ]
          },
          "metadata": {},
          "execution_count": 31
        }
      ]
    },
    {
      "cell_type": "markdown",
      "source": [
        "\n",
        "\n",
        "Huh?\n",
        "\n",
        "From this it seems our inputs and outputs have no shape?\n",
        "\n",
        "How could that be?\n",
        "\n",
        "It's because no matter what kind of data we pass to our model, it's always going to take as input and return as ouput some kind of tensor.\n",
        "\n",
        "But in our case because of our dataset (only 2 small lists of numbers), we're looking at a special kind of tensor, more specifically a rank 0 tensor or a scalar.\n"
      ],
      "metadata": {
        "id": "kz76i4voZxpU"
      }
    },
    {
      "cell_type": "markdown",
      "source": [
        "In our case, we're trying to build a model to predict the pattern between `X[0]` equalling `-7.0` and `y[0]` equalling `3.0.`\n",
        "\n",
        "So now we get our answer, we're trying to use `1 X` value to predict `1 y` value.\n",
        "\n",
        "You might be thinking, \"this seems pretty complicated for just predicting a straight line...\".\n",
        "\n",
        "And you'd be right.\n",
        "\n",
        "But the concepts we're covering here, the concepts of input and output shapes to a model are fundamental.\n",
        "\n",
        "In fact, they're probably two of the things you'll spend the most time on when you work with neural networks: making sure your input and outputs are in the correct shape."
      ],
      "metadata": {
        "id": "onQgcw03aI8-"
      }
    },
    {
      "cell_type": "code",
      "source": [
        "##Turn numpy array to tensors\n",
        "\n",
        "X = tf.constant(X)\n",
        "y = tf.constant(y)\n",
        "\n",
        "X,y"
      ],
      "metadata": {
        "colab": {
          "base_uri": "https://localhost:8080/"
        },
        "id": "EUCXpPVbZq0a",
        "outputId": "2a08f507-eecd-49b7-8b78-44f066341eb4"
      },
      "execution_count": 32,
      "outputs": [
        {
          "output_type": "execute_result",
          "data": {
            "text/plain": [
              "(<tf.Tensor: shape=(8,), dtype=float64, numpy=array([-7., -4., -1.,  2.,  5.,  8., 11., 14.])>,\n",
              " <tf.Tensor: shape=(8,), dtype=int64, numpy=array([ 3,  6,  9, 12, 15, 18, 21, 24])>)"
            ]
          },
          "metadata": {},
          "execution_count": 32
        }
      ]
    },
    {
      "cell_type": "markdown",
      "source": [
        "We are making use on `1 X` value to predict `1 y` value"
      ],
      "metadata": {
        "id": "pkygDKYda1sU"
      }
    },
    {
      "cell_type": "markdown",
      "source": [
        "### Steps in modelling with TensorFlow\n",
        "\n",
        "1. **Creating the model** - Define the input, output and hidden layers.\n",
        "\n",
        "2. **Compile the model** - Define the loss function(how wrong our model is), the optimizer(how to improve the model) and the evaluation metrics\n",
        "\n",
        "3. **Fitting a model** - Allowing the model to find patterns between X and y"
      ],
      "metadata": {
        "id": "SQfLEKYgbA4j"
      }
    },
    {
      "cell_type": "code",
      "source": [
        "tf.random.set_seed(42)\n",
        "\n",
        "model = tf.keras.Sequential([\n",
        "                             tf.keras.layers.Dense(units = 1, input_shape=[1])\n",
        "])\n",
        "\n",
        "model.compile(loss = tf.keras.losses.mae,\n",
        "              optimizer = tf.keras.optimizers.SGD(),\n",
        "              metrics=['mae'])\n",
        "\n",
        "model.fit(X,y, epochs=6)\n",
        "\n",
        "'''Another Way:\n",
        "model = tf.keras.Sequential()\n",
        "model.add(tf.keras.layers.Dense(1,input_shape=[1]))\n",
        "##We can keep on adding multiple layers\n",
        "model.compile(.....)\n",
        "model.fit(......)\n",
        "'''\n",
        "print('Prediction = ', model.predict([17]))"
      ],
      "metadata": {
        "colab": {
          "base_uri": "https://localhost:8080/"
        },
        "id": "CqgfSgeEaxB2",
        "outputId": "c93f7ce1-58bb-401a-f973-24aadfdd2ff8"
      },
      "execution_count": 33,
      "outputs": [
        {
          "output_type": "stream",
          "name": "stdout",
          "text": [
            "Epoch 1/6\n",
            "1/1 [==============================] - 0s 278ms/step - loss: 11.5048 - mae: 11.5048\n",
            "Epoch 2/6\n",
            "1/1 [==============================] - 0s 7ms/step - loss: 11.3723 - mae: 11.3723\n",
            "Epoch 3/6\n",
            "1/1 [==============================] - 0s 9ms/step - loss: 11.2398 - mae: 11.2398\n",
            "Epoch 4/6\n",
            "1/1 [==============================] - 0s 9ms/step - loss: 11.1073 - mae: 11.1073\n",
            "Epoch 5/6\n",
            "1/1 [==============================] - 0s 9ms/step - loss: 10.9748 - mae: 10.9748\n",
            "Epoch 6/6\n",
            "1/1 [==============================] - 0s 8ms/step - loss: 10.8423 - mae: 10.8423\n",
            "WARNING:tensorflow:6 out of the last 6 calls to <function Model.make_predict_function.<locals>.predict_function at 0x7f1cd0c47830> triggered tf.function retracing. Tracing is expensive and the excessive number of tracings could be due to (1) creating @tf.function repeatedly in a loop, (2) passing tensors with different shapes, (3) passing Python objects instead of tensors. For (1), please define your @tf.function outside of the loop. For (2), @tf.function has experimental_relax_shapes=True option that relaxes argument shapes that can avoid unnecessary retracing. For (3), please refer to https://www.tensorflow.org/guide/function#controlling_retracing and https://www.tensorflow.org/api_docs/python/tf/function for  more details.\n",
            "Prediction =  [[13.321021]]\n"
          ]
        }
      ]
    },
    {
      "cell_type": "markdown",
      "source": [
        "We have set `units = 1` coz we are making use of a single neuron to make prediction for each input "
      ],
      "metadata": {
        "id": "b-DCN1OUpR8T"
      }
    },
    {
      "cell_type": "code",
      "source": [
        "##Trying to fit the same data using Linear Regression\n",
        "\n",
        "from sklearn.linear_model import LinearRegression\n",
        "\n",
        "lr = LinearRegression()\n",
        "lr.fit(X.numpy().reshape(-1,1),y)\n",
        "print('Prediction = ', lr.predict([[17.0]]))\n",
        "print('Coefficient- ', lr.coef_, 'Intercept- ', lr.intercept_)"
      ],
      "metadata": {
        "colab": {
          "base_uri": "https://localhost:8080/"
        },
        "id": "jI0Fv7Y8m7r_",
        "outputId": "ec0e0548-09f8-47f8-c237-42f70fa3e673"
      },
      "execution_count": 34,
      "outputs": [
        {
          "output_type": "stream",
          "name": "stdout",
          "text": [
            "Prediction =  [27.]\n",
            "Coefficient-  [1.] Intercept-  10.0\n"
          ]
        }
      ]
    },
    {
      "cell_type": "markdown",
      "source": [
        "### Improving our Deep Learning Model\n",
        "\n",
        "1. **Creating a model** - Add more layers, increase hidden units and change the activation function of each layer.\n",
        "\n",
        "2. **Compiling a model** - Change optimization function or perhaps the learning rate.\n",
        "\n",
        "3. **Fitting the model** - Run for more epochs or add more data for training"
      ],
      "metadata": {
        "id": "ikGKOr_9sii2"
      }
    },
    {
      "cell_type": "code",
      "source": [
        "model = tf.keras.Sequential([\n",
        "                             tf.keras.layers.Dense(1, input_shape=[1]),\n",
        "                             tf.keras.layers.Dense(100, activation='relu'),\n",
        "                             tf.keras.layers.Dense(100, activation='relu'),\n",
        "                            #  tf.keras.layers.Dense(100, activation='relu'),\n",
        "                             tf.keras.layers.Dense(1)\n",
        "])\n",
        "\n",
        "model.compile(loss = tf.keras.losses.mean_squared_error,\n",
        "              optimizer=tf.keras.optimizers.Adam(lr=.01),\n",
        "              metrics=['mse']\n",
        "              )\n",
        "\n",
        "model.fit(X, y, epochs=100)"
      ],
      "metadata": {
        "id": "EbdalU07rUnl",
        "outputId": "ec182caa-41ae-4671-bd32-4856a58cac32",
        "colab": {
          "base_uri": "https://localhost:8080/"
        }
      },
      "execution_count": 35,
      "outputs": [
        {
          "output_type": "stream",
          "name": "stdout",
          "text": [
            "Epoch 1/100\n"
          ]
        },
        {
          "output_type": "stream",
          "name": "stderr",
          "text": [
            "/usr/local/lib/python3.7/dist-packages/keras/optimizer_v2/adam.py:105: UserWarning: The `lr` argument is deprecated, use `learning_rate` instead.\n",
            "  super(Adam, self).__init__(name, **kwargs)\n"
          ]
        },
        {
          "output_type": "stream",
          "name": "stdout",
          "text": [
            "1/1 [==============================] - 0s 457ms/step - loss: 247.1779 - mse: 247.1779\n",
            "Epoch 2/100\n",
            "1/1 [==============================] - 0s 12ms/step - loss: 187.9903 - mse: 187.9903\n",
            "Epoch 3/100\n",
            "1/1 [==============================] - 0s 9ms/step - loss: 141.9341 - mse: 141.9341\n",
            "Epoch 4/100\n",
            "1/1 [==============================] - 0s 18ms/step - loss: 105.3785 - mse: 105.3785\n",
            "Epoch 5/100\n",
            "1/1 [==============================] - 0s 13ms/step - loss: 72.2983 - mse: 72.2983\n",
            "Epoch 6/100\n",
            "1/1 [==============================] - 0s 11ms/step - loss: 43.8231 - mse: 43.8231\n",
            "Epoch 7/100\n",
            "1/1 [==============================] - 0s 11ms/step - loss: 24.6989 - mse: 24.6989\n",
            "Epoch 8/100\n",
            "1/1 [==============================] - 0s 9ms/step - loss: 22.9831 - mse: 22.9831\n",
            "Epoch 9/100\n",
            "1/1 [==============================] - 0s 9ms/step - loss: 38.8598 - mse: 38.8598\n",
            "Epoch 10/100\n",
            "1/1 [==============================] - 0s 9ms/step - loss: 51.5460 - mse: 51.5460\n",
            "Epoch 11/100\n",
            "1/1 [==============================] - 0s 7ms/step - loss: 49.4937 - mse: 49.4937\n",
            "Epoch 12/100\n",
            "1/1 [==============================] - 0s 7ms/step - loss: 39.1573 - mse: 39.1573\n",
            "Epoch 13/100\n",
            "1/1 [==============================] - 0s 7ms/step - loss: 27.7251 - mse: 27.7251\n",
            "Epoch 14/100\n",
            "1/1 [==============================] - 0s 7ms/step - loss: 20.1637 - mse: 20.1637\n",
            "Epoch 15/100\n",
            "1/1 [==============================] - 0s 7ms/step - loss: 17.1267 - mse: 17.1267\n",
            "Epoch 16/100\n",
            "1/1 [==============================] - 0s 7ms/step - loss: 17.8035 - mse: 17.8035\n",
            "Epoch 17/100\n",
            "1/1 [==============================] - 0s 8ms/step - loss: 19.8983 - mse: 19.8983\n",
            "Epoch 18/100\n",
            "1/1 [==============================] - 0s 7ms/step - loss: 21.5245 - mse: 21.5245\n",
            "Epoch 19/100\n",
            "1/1 [==============================] - 0s 7ms/step - loss: 21.5678 - mse: 21.5678\n",
            "Epoch 20/100\n",
            "1/1 [==============================] - 0s 7ms/step - loss: 19.7006 - mse: 19.7006\n",
            "Epoch 21/100\n",
            "1/1 [==============================] - 0s 7ms/step - loss: 16.3147 - mse: 16.3147\n",
            "Epoch 22/100\n",
            "1/1 [==============================] - 0s 7ms/step - loss: 12.4699 - mse: 12.4699\n",
            "Epoch 23/100\n",
            "1/1 [==============================] - 0s 7ms/step - loss: 9.7921 - mse: 9.7921\n",
            "Epoch 24/100\n",
            "1/1 [==============================] - 0s 7ms/step - loss: 9.7635 - mse: 9.7635\n",
            "Epoch 25/100\n",
            "1/1 [==============================] - 0s 8ms/step - loss: 11.4247 - mse: 11.4247\n",
            "Epoch 26/100\n",
            "1/1 [==============================] - 0s 7ms/step - loss: 11.1551 - mse: 11.1551\n",
            "Epoch 27/100\n",
            "1/1 [==============================] - 0s 7ms/step - loss: 8.7036 - mse: 8.7036\n",
            "Epoch 28/100\n",
            "1/1 [==============================] - 0s 13ms/step - loss: 6.1958 - mse: 6.1958\n",
            "Epoch 29/100\n",
            "1/1 [==============================] - 0s 10ms/step - loss: 4.6364 - mse: 4.6364\n",
            "Epoch 30/100\n",
            "1/1 [==============================] - 0s 7ms/step - loss: 4.1301 - mse: 4.1301\n",
            "Epoch 31/100\n",
            "1/1 [==============================] - 0s 10ms/step - loss: 3.9396 - mse: 3.9396\n",
            "Epoch 32/100\n",
            "1/1 [==============================] - 0s 7ms/step - loss: 3.4876 - mse: 3.4876\n",
            "Epoch 33/100\n",
            "1/1 [==============================] - 0s 7ms/step - loss: 2.6094 - mse: 2.6094\n",
            "Epoch 34/100\n",
            "1/1 [==============================] - 0s 11ms/step - loss: 1.6015 - mse: 1.6015\n",
            "Epoch 35/100\n",
            "1/1 [==============================] - 0s 7ms/step - loss: 0.9859 - mse: 0.9859\n",
            "Epoch 36/100\n",
            "1/1 [==============================] - 0s 10ms/step - loss: 1.0214 - mse: 1.0214\n",
            "Epoch 37/100\n",
            "1/1 [==============================] - 0s 8ms/step - loss: 1.2561 - mse: 1.2561\n",
            "Epoch 38/100\n",
            "1/1 [==============================] - 0s 10ms/step - loss: 0.9900 - mse: 0.9900\n",
            "Epoch 39/100\n",
            "1/1 [==============================] - 0s 9ms/step - loss: 0.3681 - mse: 0.3681\n",
            "Epoch 40/100\n",
            "1/1 [==============================] - 0s 8ms/step - loss: 0.0510 - mse: 0.0510\n",
            "Epoch 41/100\n",
            "1/1 [==============================] - 0s 8ms/step - loss: 0.2461 - mse: 0.2461\n",
            "Epoch 42/100\n",
            "1/1 [==============================] - 0s 8ms/step - loss: 0.5627 - mse: 0.5627\n",
            "Epoch 43/100\n",
            "1/1 [==============================] - 0s 7ms/step - loss: 0.6134 - mse: 0.6134\n",
            "Epoch 44/100\n",
            "1/1 [==============================] - 0s 7ms/step - loss: 0.4066 - mse: 0.4066\n",
            "Epoch 45/100\n",
            "1/1 [==============================] - 0s 7ms/step - loss: 0.2374 - mse: 0.2374\n",
            "Epoch 46/100\n",
            "1/1 [==============================] - 0s 7ms/step - loss: 0.3943 - mse: 0.3943\n",
            "Epoch 47/100\n",
            "1/1 [==============================] - 0s 7ms/step - loss: 0.6299 - mse: 0.6299\n",
            "Epoch 48/100\n",
            "1/1 [==============================] - 0s 9ms/step - loss: 0.5480 - mse: 0.5480\n",
            "Epoch 49/100\n",
            "1/1 [==============================] - 0s 9ms/step - loss: 0.3320 - mse: 0.3320\n",
            "Epoch 50/100\n",
            "1/1 [==============================] - 0s 7ms/step - loss: 0.3043 - mse: 0.3043\n",
            "Epoch 51/100\n",
            "1/1 [==============================] - 0s 8ms/step - loss: 0.3821 - mse: 0.3821\n",
            "Epoch 52/100\n",
            "1/1 [==============================] - 0s 8ms/step - loss: 0.3369 - mse: 0.3369\n",
            "Epoch 53/100\n",
            "1/1 [==============================] - 0s 8ms/step - loss: 0.2017 - mse: 0.2017\n",
            "Epoch 54/100\n",
            "1/1 [==============================] - 0s 17ms/step - loss: 0.1221 - mse: 0.1221\n",
            "Epoch 55/100\n",
            "1/1 [==============================] - 0s 9ms/step - loss: 0.1415 - mse: 0.1415\n",
            "Epoch 56/100\n",
            "1/1 [==============================] - 0s 9ms/step - loss: 0.1577 - mse: 0.1577\n",
            "Epoch 57/100\n",
            "1/1 [==============================] - 0s 9ms/step - loss: 0.1022 - mse: 0.1022\n",
            "Epoch 58/100\n",
            "1/1 [==============================] - 0s 9ms/step - loss: 0.0425 - mse: 0.0425\n",
            "Epoch 59/100\n",
            "1/1 [==============================] - 0s 10ms/step - loss: 0.0486 - mse: 0.0486\n",
            "Epoch 60/100\n",
            "1/1 [==============================] - 0s 10ms/step - loss: 0.0901 - mse: 0.0901\n",
            "Epoch 61/100\n",
            "1/1 [==============================] - 0s 7ms/step - loss: 0.1006 - mse: 0.1006\n",
            "Epoch 62/100\n",
            "1/1 [==============================] - 0s 8ms/step - loss: 0.0707 - mse: 0.0707\n",
            "Epoch 63/100\n",
            "1/1 [==============================] - 0s 10ms/step - loss: 0.0480 - mse: 0.0480\n",
            "Epoch 64/100\n",
            "1/1 [==============================] - 0s 10ms/step - loss: 0.0616 - mse: 0.0616\n",
            "Epoch 65/100\n",
            "1/1 [==============================] - 0s 10ms/step - loss: 0.0844 - mse: 0.0844\n",
            "Epoch 66/100\n",
            "1/1 [==============================] - 0s 8ms/step - loss: 0.0805 - mse: 0.0805\n",
            "Epoch 67/100\n",
            "1/1 [==============================] - 0s 10ms/step - loss: 0.0593 - mse: 0.0593\n",
            "Epoch 68/100\n",
            "1/1 [==============================] - 0s 10ms/step - loss: 0.0519 - mse: 0.0519\n",
            "Epoch 69/100\n",
            "1/1 [==============================] - 0s 11ms/step - loss: 0.0601 - mse: 0.0601\n",
            "Epoch 70/100\n",
            "1/1 [==============================] - 0s 7ms/step - loss: 0.0602 - mse: 0.0602\n",
            "Epoch 71/100\n",
            "1/1 [==============================] - 0s 10ms/step - loss: 0.0440 - mse: 0.0440\n",
            "Epoch 72/100\n",
            "1/1 [==============================] - 0s 10ms/step - loss: 0.0289 - mse: 0.0289\n",
            "Epoch 73/100\n",
            "1/1 [==============================] - 0s 10ms/step - loss: 0.0291 - mse: 0.0291\n",
            "Epoch 74/100\n",
            "1/1 [==============================] - 0s 8ms/step - loss: 0.0344 - mse: 0.0344\n",
            "Epoch 75/100\n",
            "1/1 [==============================] - 0s 6ms/step - loss: 0.0287 - mse: 0.0287\n",
            "Epoch 76/100\n",
            "1/1 [==============================] - 0s 7ms/step - loss: 0.0162 - mse: 0.0162\n",
            "Epoch 77/100\n",
            "1/1 [==============================] - 0s 7ms/step - loss: 0.0115 - mse: 0.0115\n",
            "Epoch 78/100\n",
            "1/1 [==============================] - 0s 11ms/step - loss: 0.0154 - mse: 0.0154\n",
            "Epoch 79/100\n",
            "1/1 [==============================] - 0s 8ms/step - loss: 0.0166 - mse: 0.0166\n",
            "Epoch 80/100\n",
            "1/1 [==============================] - 0s 9ms/step - loss: 0.0119 - mse: 0.0119\n",
            "Epoch 81/100\n",
            "1/1 [==============================] - 0s 8ms/step - loss: 0.0090 - mse: 0.0090\n",
            "Epoch 82/100\n",
            "1/1 [==============================] - 0s 8ms/step - loss: 0.0116 - mse: 0.0116\n",
            "Epoch 83/100\n",
            "1/1 [==============================] - 0s 8ms/step - loss: 0.0136 - mse: 0.0136\n",
            "Epoch 84/100\n",
            "1/1 [==============================] - 0s 9ms/step - loss: 0.0110 - mse: 0.0110\n",
            "Epoch 85/100\n",
            "1/1 [==============================] - 0s 8ms/step - loss: 0.0085 - mse: 0.0085\n",
            "Epoch 86/100\n",
            "1/1 [==============================] - 0s 8ms/step - loss: 0.0100 - mse: 0.0100\n",
            "Epoch 87/100\n",
            "1/1 [==============================] - 0s 8ms/step - loss: 0.0118 - mse: 0.0118\n",
            "Epoch 88/100\n",
            "1/1 [==============================] - 0s 10ms/step - loss: 0.0101 - mse: 0.0101\n",
            "Epoch 89/100\n",
            "1/1 [==============================] - 0s 9ms/step - loss: 0.0075 - mse: 0.0075\n",
            "Epoch 90/100\n",
            "1/1 [==============================] - 0s 11ms/step - loss: 0.0075 - mse: 0.0075\n",
            "Epoch 91/100\n",
            "1/1 [==============================] - 0s 13ms/step - loss: 0.0087 - mse: 0.0087\n",
            "Epoch 92/100\n",
            "1/1 [==============================] - 0s 11ms/step - loss: 0.0079 - mse: 0.0079\n",
            "Epoch 93/100\n",
            "1/1 [==============================] - 0s 10ms/step - loss: 0.0060 - mse: 0.0060\n",
            "Epoch 94/100\n",
            "1/1 [==============================] - 0s 10ms/step - loss: 0.0058 - mse: 0.0058\n",
            "Epoch 95/100\n",
            "1/1 [==============================] - 0s 9ms/step - loss: 0.0064 - mse: 0.0064\n",
            "Epoch 96/100\n",
            "1/1 [==============================] - 0s 9ms/step - loss: 0.0060 - mse: 0.0060\n",
            "Epoch 97/100\n",
            "1/1 [==============================] - 0s 16ms/step - loss: 0.0051 - mse: 0.0051\n",
            "Epoch 98/100\n",
            "1/1 [==============================] - 0s 17ms/step - loss: 0.0052 - mse: 0.0052\n",
            "Epoch 99/100\n",
            "1/1 [==============================] - 0s 13ms/step - loss: 0.0057 - mse: 0.0057\n",
            "Epoch 100/100\n",
            "1/1 [==============================] - 0s 10ms/step - loss: 0.0054 - mse: 0.0054\n"
          ]
        },
        {
          "output_type": "execute_result",
          "data": {
            "text/plain": [
              "<keras.callbacks.History at 0x7f1cd014f3d0>"
            ]
          },
          "metadata": {},
          "execution_count": 35
        }
      ]
    },
    {
      "cell_type": "code",
      "source": [
        "X, y"
      ],
      "metadata": {
        "id": "lbTYhcdIrXwJ",
        "outputId": "f7876b6d-f01a-4f7a-f85f-b1cd521f2e8c",
        "colab": {
          "base_uri": "https://localhost:8080/"
        }
      },
      "execution_count": 36,
      "outputs": [
        {
          "output_type": "execute_result",
          "data": {
            "text/plain": [
              "(<tf.Tensor: shape=(8,), dtype=float64, numpy=array([-7., -4., -1.,  2.,  5.,  8., 11., 14.])>,\n",
              " <tf.Tensor: shape=(8,), dtype=int64, numpy=array([ 3,  6,  9, 12, 15, 18, 21, 24])>)"
            ]
          },
          "metadata": {},
          "execution_count": 36
        }
      ]
    },
    {
      "cell_type": "code",
      "source": [
        "model.predict([17.0])"
      ],
      "metadata": {
        "id": "_Gq9uq2YrmQZ",
        "outputId": "4c4ba1e6-2966-43ad-966b-02f51f00b7b4",
        "colab": {
          "base_uri": "https://localhost:8080/"
        }
      },
      "execution_count": 37,
      "outputs": [
        {
          "output_type": "execute_result",
          "data": {
            "text/plain": [
              "array([[27.25651]], dtype=float32)"
            ]
          },
          "metadata": {},
          "execution_count": 37
        }
      ]
    },
    {
      "cell_type": "markdown",
      "source": [
        "### Evaluating a model\n",
        "\n",
        "```\n",
        "Build -> Fit -> Evaluate -> Tweak -> Repeat\n",
        "```\n",
        "Key aspect is to:\n",
        "\n",
        "> Visualize the data\n",
        "\n",
        "> Visualize the model itself\n",
        "\n",
        "> Visualize the training phase\n",
        "\n",
        "> Visualize the results"
      ],
      "metadata": {
        "id": "oLwHNFApsYB5"
      }
    },
    {
      "cell_type": "code",
      "source": [
        "X = tf.range(-100, 100, 4)\n",
        "y = X+10\n",
        "X,y\n"
      ],
      "metadata": {
        "id": "UANYr3_0u_2T",
        "outputId": "12611f75-addd-4539-bcdc-004f5151a191",
        "colab": {
          "base_uri": "https://localhost:8080/"
        }
      },
      "execution_count": 42,
      "outputs": [
        {
          "output_type": "execute_result",
          "data": {
            "text/plain": [
              "(<tf.Tensor: shape=(50,), dtype=int32, numpy=\n",
              " array([-100,  -96,  -92,  -88,  -84,  -80,  -76,  -72,  -68,  -64,  -60,\n",
              "         -56,  -52,  -48,  -44,  -40,  -36,  -32,  -28,  -24,  -20,  -16,\n",
              "         -12,   -8,   -4,    0,    4,    8,   12,   16,   20,   24,   28,\n",
              "          32,   36,   40,   44,   48,   52,   56,   60,   64,   68,   72,\n",
              "          76,   80,   84,   88,   92,   96], dtype=int32)>,\n",
              " <tf.Tensor: shape=(50,), dtype=int32, numpy=\n",
              " array([-90, -86, -82, -78, -74, -70, -66, -62, -58, -54, -50, -46, -42,\n",
              "        -38, -34, -30, -26, -22, -18, -14, -10,  -6,  -2,   2,   6,  10,\n",
              "         14,  18,  22,  26,  30,  34,  38,  42,  46,  50,  54,  58,  62,\n",
              "         66,  70,  74,  78,  82,  86,  90,  94,  98, 102, 106], dtype=int32)>)"
            ]
          },
          "metadata": {},
          "execution_count": 42
        }
      ]
    },
    {
      "cell_type": "code",
      "source": [
        "## Visulaize the data\n",
        "sns.scatterplot(x=X, y=y)"
      ],
      "metadata": {
        "id": "Q4JY_fbh7PXI",
        "outputId": "c8a8e338-3c9d-4607-b6ab-7a763609cbf5",
        "colab": {
          "base_uri": "https://localhost:8080/",
          "height": 285
        }
      },
      "execution_count": 43,
      "outputs": [
        {
          "output_type": "execute_result",
          "data": {
            "text/plain": [
              "<matplotlib.axes._subplots.AxesSubplot at 0x7f1cd5362310>"
            ]
          },
          "metadata": {},
          "execution_count": 43
        },
        {
          "output_type": "display_data",
          "data": {
            "text/plain": [
              "<Figure size 432x288 with 1 Axes>"
            ],
            "image/png": "[encoded data removed]"
          },
          "metadata": {}
        }
      ]
    },
    {
      "cell_type": "markdown",
      "source": [
        "#### The 3 Sets:\n",
        "1. **Training Set** - 70-80 percent data\n",
        "2. **Validation Set** - 10-15 percent of the available data\n",
        "3. **Test Set** - 10-15 percent of the available data"
      ],
      "metadata": {
        "id": "Xxbacxiv8A5S"
      }
    },
    {
      "cell_type": "code",
      "source": [
        "##We create train and test set cz of small dataset and hence no validation set\n",
        "\n",
        "X_train = X[:40]\n",
        "y_train = y[:40]\n",
        "\n",
        "X_test = X[40:]\n",
        "y_test = y[40:]\n",
        "\n",
        "print(X_train.shape, X_test.shape, y_train.shape, y_test.shape)"
      ],
      "metadata": {
        "id": "GoBLxGwX7XFR",
        "outputId": "29f05882-8a27-4b40-ad3a-a5d58eef8fd5",
        "colab": {
          "base_uri": "https://localhost:8080/"
        }
      },
      "execution_count": 45,
      "outputs": [
        {
          "output_type": "stream",
          "name": "stdout",
          "text": [
            "(40,) (10,) (40,) (10,)\n"
          ]
        }
      ]
    },
    {
      "cell_type": "markdown",
      "source": [
        "####Visualize"
      ],
      "metadata": {
        "id": "VYcoJpK4-Aep"
      }
    },
    {
      "cell_type": "code",
      "source": [
        "##THE DATA\n",
        "\n",
        "plt.figure(figsize=(10,7))\n",
        "sns.set_theme(style='darkgrid', font_scale=1.2)\n",
        "sns.set_palette('Blues_r', 10)\n",
        "\n",
        "##Plot training data\n",
        "sns.scatterplot(x=X_train, y=y_train, label='Training Data')\n",
        "##Plot testing data\n",
        "sns.scatterplot(x=X_test, y=y_test, label='Testing Data')"
      ],
      "metadata": {
        "id": "P7KAbWJ89ni8",
        "outputId": "06420e47-c05f-4ff1-e6a3-7532bd1ce55f",
        "colab": {
          "base_uri": "https://localhost:8080/",
          "height": 451
        }
      },
      "execution_count": 75,
      "outputs": [
        {
          "output_type": "execute_result",
          "data": {
            "text/plain": [
              "<matplotlib.axes._subplots.AxesSubplot at 0x7f1cd3327dd0>"
            ]
          },
          "metadata": {},
          "execution_count": 75
        },
        {
          "output_type": "display_data",
          "data": {
            "text/plain": [
              "<Figure size 720x504 with 1 Axes>"
            ],
            "image/png": "[encoded data removed]"
          },
          "metadata": {}
        }
      ]
    },
    {
      "cell_type": "code",
      "source": [
        "##Create a model for the data\n",
        "tf.random.set_seed(42)\n",
        "\n",
        "model = tf.keras.Sequential([\n",
        "                             tf.keras.layers.Dense(1, input_shape=[1])\n",
        "])\n",
        "model.compile(loss='mae', optimizer='Adam', metrics='mae')\n",
        "\n",
        "##Visulaizing the model\n",
        "model.summary()"
      ],
      "metadata": {
        "id": "dLhwXZ5l-vqR",
        "outputId": "58ec3d92-2893-4ea3-bb74-d801da3454e7",
        "colab": {
          "base_uri": "https://localhost:8080/"
        }
      },
      "execution_count": 77,
      "outputs": [
        {
          "output_type": "stream",
          "name": "stdout",
          "text": [
            "Model: \"sequential_16\"\n",
            "_________________________________________________________________\n",
            " Layer (type)                Output Shape              Param #   \n",
            "=================================================================\n",
            " dense_41 (Dense)            (None, 1)                 2         \n",
            "                                                                 \n",
            "=================================================================\n",
            "Total params: 2\n",
            "Trainable params: 2\n",
            "Non-trainable params: 0\n",
            "_________________________________________________________________\n"
          ]
        }
      ]
    },
    {
      "cell_type": "markdown",
      "source": [
        "*  Trainable Parameters - Parameters that can be changed\n",
        "\n",
        "*  Non-Trainable Parameters - Parameters that can't be changed. (Used when you use **transfer learning** and you don't want to change the params that the model has already learnt)"
      ],
      "metadata": {
        "id": "dqPaCZwIGPR_"
      }
    },
    {
      "cell_type": "code",
      "source": [
        ""
      ],
      "metadata": {
        "id": "f3RM5405GFzJ"
      },
      "execution_count": null,
      "outputs": []
    }
  ]
}