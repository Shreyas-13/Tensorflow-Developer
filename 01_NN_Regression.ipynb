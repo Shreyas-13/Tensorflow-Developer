{
  "nbformat": 4,
  "nbformat_minor": 0,
  "metadata": {
    "colab": {
      "name": "01_NN_Regression.ipynb",
      "provenance": [],
      "authorship_tag": "ABX9TyMWSu3646EQpicfZhxVsW5t",
      "include_colab_link": true
    },
    "kernelspec": {
      "name": "python3",
      "display_name": "Python 3"
    },
    "language_info": {
      "name": "python"
    }
  },
  "cells": [
    {
      "cell_type": "markdown",
      "metadata": {
        "id": "view-in-github",
        "colab_type": "text"
      },
      "source": [
        "<a href=\"https://colab.research.google.com/github/Shreyas-13/Tensorflow-Developer/blob/main/01_NN_Regression.ipynb\" target=\"_parent\"><img src=\"https://colab.research.google.com/assets/colab-badge.svg\" alt=\"Open In Colab\"/></a>"
      ]
    },
    {
      "cell_type": "code",
      "execution_count": 2,
      "metadata": {
        "colab": {
          "base_uri": "https://localhost:8080/"
        },
        "id": "ZKvxgnv9VS73",
        "outputId": "36e9e6d1-cae2-44ec-8350-886807bfaa9c"
      },
      "outputs": [
        {
          "output_type": "stream",
          "name": "stdout",
          "text": [
            "2.8.2\n"
          ]
        }
      ],
      "source": [
        "import tensorflow as tf\n",
        "\n",
        "print(tf.__version__)"
      ]
    },
    {
      "cell_type": "markdown",
      "source": [
        "## Introduction to Regression using TF\n",
        "\n",
        "Predicting the value of dependent variable based on some independent variables"
      ],
      "metadata": {
        "id": "yhz30TH0VeXM"
      }
    },
    {
      "cell_type": "markdown",
      "source": [
        "### Creating Data to Fit"
      ],
      "metadata": {
        "id": "gsCdsfwnWEjo"
      }
    },
    {
      "cell_type": "code",
      "source": [
        "import numpy as np\n",
        "import matplotlib.pyplot as plt\n",
        "import seaborn as sns\n",
        "\n",
        "sns.set_theme(style=\"whitegrid\")\n",
        "\n",
        "X = np.arange(-7.0, 15.0, 3.0)\n",
        "y = np.arange(3, 25, 3)\n",
        "\n",
        "sns.scatterplot(x=X, y=y)"
      ],
      "metadata": {
        "colab": {
          "base_uri": "https://localhost:8080/",
          "height": 288
        },
        "id": "WLZ-RRiEVsx1",
        "outputId": "627d089b-baaf-4b48-d338-8fa48cd42815"
      },
      "execution_count": 3,
      "outputs": [
        {
          "output_type": "execute_result",
          "data": {
            "text/plain": [
              "<matplotlib.axes._subplots.AxesSubplot at 0x7f009f3a4750>"
            ]
          },
          "metadata": {},
          "execution_count": 3
        },
        {
          "output_type": "display_data",
          "data": {
            "text/plain": [
              "<Figure size 432x288 with 1 Axes>"
            ],
            "image/png": "[encoded data removed]"
          },
          "metadata": {}
        }
      ]
    },
    {
      "cell_type": "markdown",
      "source": [
        "### Input And Output Shape\n",
        "\n",
        "One of the most important concepts when working with neural networks are the `input` and `output` shapes.\n",
        "\n",
        "The input shape is the shape of your data that goes into the model.\n",
        "\n",
        "The output shape is the shape of your data you want to come out of your model.\n",
        "\n",
        "These will differ depending on the problem you're working on.\n",
        "\n",
        "Neural networks accept numbers and output numbers. These numbers are typically represented as tensors (or arrays).\n",
        "\n",
        "Before, we created data using NumPy arrays, but we could do the same with tensors."
      ],
      "metadata": {
        "id": "gmaxYZdDYNeX"
      }
    },
    {
      "cell_type": "code",
      "source": [
        "# Example input and output shapes of a regresson model\n",
        "house_info = tf.constant([\"bedroom\", \"bathroom\", \"garage\"])\n",
        "house_price = tf.constant([939700])\n",
        "house_info, house_price"
      ],
      "metadata": {
        "colab": {
          "base_uri": "https://localhost:8080/"
        },
        "id": "aDGy_ndhXUWu",
        "outputId": "b3ec3803-629c-4ccd-b261-fd2a72448e4b"
      },
      "execution_count": 4,
      "outputs": [
        {
          "output_type": "execute_result",
          "data": {
            "text/plain": [
              "(<tf.Tensor: shape=(3,), dtype=string, numpy=array([b'bedroom', b'bathroom', b'garage'], dtype=object)>,\n",
              " <tf.Tensor: shape=(1,), dtype=int32, numpy=array([939700], dtype=int32)>)"
            ]
          },
          "metadata": {},
          "execution_count": 4
        }
      ]
    },
    {
      "cell_type": "markdown",
      "source": [
        "Here the input shape is `(3, )` and the output shape is `(1, )`"
      ],
      "metadata": {
        "id": "9X7BEzOeZPoR"
      }
    },
    {
      "cell_type": "markdown",
      "source": [
        "\n",
        "Our goal here will be to use X to predict y.\n",
        "\n",
        "So our input will be X and our output will be y.\n",
        "\n",
        "Knowing this, what do you think our input and output shapes will be?\n",
        "\n",
        "Let's take a look.\n"
      ],
      "metadata": {
        "id": "08TZj_I3Zjva"
      }
    },
    {
      "cell_type": "code",
      "source": [
        "# Take a single example of X\n",
        "input_shape = X[0].shape \n",
        "\n",
        "# Take a single example of y\n",
        "output_shape = y[0].shape\n",
        "\n",
        "input_shape, output_shape # these are both scalars (no shape)\n"
      ],
      "metadata": {
        "colab": {
          "base_uri": "https://localhost:8080/"
        },
        "id": "LlOJc1saZLPA",
        "outputId": "3c6a9258-cfd8-46e7-8370-2ef17fd7bc95"
      },
      "execution_count": 5,
      "outputs": [
        {
          "output_type": "execute_result",
          "data": {
            "text/plain": [
              "((), ())"
            ]
          },
          "metadata": {},
          "execution_count": 5
        }
      ]
    },
    {
      "cell_type": "markdown",
      "source": [
        "\n",
        "\n",
        "Huh?\n",
        "\n",
        "From this it seems our inputs and outputs have no shape?\n",
        "\n",
        "How could that be?\n",
        "\n",
        "It's because no matter what kind of data we pass to our model, it's always going to take as input and return as ouput some kind of tensor.\n",
        "\n",
        "But in our case because of our dataset (only 2 small lists of numbers), we're looking at a special kind of tensor, more specifically a rank 0 tensor or a scalar.\n"
      ],
      "metadata": {
        "id": "kz76i4voZxpU"
      }
    },
    {
      "cell_type": "markdown",
      "source": [
        "In our case, we're trying to build a model to predict the pattern between `X[0]` equalling `-7.0` and `y[0]` equalling `3.0.`\n",
        "\n",
        "So now we get our answer, we're trying to use `1 X` value to predict `1 y` value.\n",
        "\n",
        "You might be thinking, \"this seems pretty complicated for just predicting a straight line...\".\n",
        "\n",
        "And you'd be right.\n",
        "\n",
        "But the concepts we're covering here, the concepts of input and output shapes to a model are fundamental.\n",
        "\n",
        "In fact, they're probably two of the things you'll spend the most time on when you work with neural networks: making sure your input and outputs are in the correct shape."
      ],
      "metadata": {
        "id": "onQgcw03aI8-"
      }
    },
    {
      "cell_type": "code",
      "source": [
        "##Turn numpy array to tensors\n",
        "\n",
        "X = tf.constant(X)\n",
        "y = tf.constant(y)\n",
        "\n",
        "X,y"
      ],
      "metadata": {
        "colab": {
          "base_uri": "https://localhost:8080/"
        },
        "id": "EUCXpPVbZq0a",
        "outputId": "d2dfae75-2c44-4447-afaa-a4a94b8aaeb8"
      },
      "execution_count": 6,
      "outputs": [
        {
          "output_type": "execute_result",
          "data": {
            "text/plain": [
              "(<tf.Tensor: shape=(8,), dtype=float64, numpy=array([-7., -4., -1.,  2.,  5.,  8., 11., 14.])>,\n",
              " <tf.Tensor: shape=(8,), dtype=int64, numpy=array([ 3,  6,  9, 12, 15, 18, 21, 24])>)"
            ]
          },
          "metadata": {},
          "execution_count": 6
        }
      ]
    },
    {
      "cell_type": "markdown",
      "source": [
        "We are making use on `1 X` value to predict `1 y` value"
      ],
      "metadata": {
        "id": "pkygDKYda1sU"
      }
    },
    {
      "cell_type": "markdown",
      "source": [
        "### Steps in modelling with TensorFlow\n",
        "\n",
        "1. **Creating the model** - Define the input, output and hidden layers.\n",
        "\n",
        "2. **Compile the model** - Define the loss function(how wrong our model is), the optimizer(how to improve the model) and the evaluation metrics\n",
        "\n",
        "3. **Fitting a model** - Allowing the model to find patterns between X and y"
      ],
      "metadata": {
        "id": "SQfLEKYgbA4j"
      }
    },
    {
      "cell_type": "code",
      "source": [
        "tf.random.set_seed(42)\n",
        "\n",
        "model = tf.keras.Sequential([\n",
        "                             tf.keras.layers.Dense(units = 1, input_shape=[1])\n",
        "])\n",
        "\n",
        "model.compile(loss = tf.keras.losses.mae,\n",
        "              optimizer = tf.keras.optimizers.SGD(),\n",
        "              metrics=['mae'])\n",
        "\n",
        "model.fit(X,y, epochs=6)\n",
        "\n",
        "'''Another Way:\n",
        "model = tf.keras.Sequential()\n",
        "model.add(tf.keras.layers.Dense(1,input_shape=[1]))\n",
        "##We can keep on adding multiple layers\n",
        "model.compile(.....)\n",
        "model.fit(......)\n",
        "'''\n",
        "print('Prediction = ', model.predict([17]))"
      ],
      "metadata": {
        "colab": {
          "base_uri": "https://localhost:8080/"
        },
        "id": "CqgfSgeEaxB2",
        "outputId": "dd3897ea-e442-4560-84d5-2fe15e854a43"
      },
      "execution_count": 7,
      "outputs": [
        {
          "output_type": "stream",
          "name": "stdout",
          "text": [
            "Epoch 1/6\n",
            "1/1 [==============================] - 1s 562ms/step - loss: 11.5048 - mae: 11.5048\n",
            "Epoch 2/6\n",
            "1/1 [==============================] - 0s 6ms/step - loss: 11.3723 - mae: 11.3723\n",
            "Epoch 3/6\n",
            "1/1 [==============================] - 0s 8ms/step - loss: 11.2398 - mae: 11.2398\n",
            "Epoch 4/6\n",
            "1/1 [==============================] - 0s 8ms/step - loss: 11.1073 - mae: 11.1073\n",
            "Epoch 5/6\n",
            "1/1 [==============================] - 0s 8ms/step - loss: 10.9748 - mae: 10.9748\n",
            "Epoch 6/6\n",
            "1/1 [==============================] - 0s 9ms/step - loss: 10.8423 - mae: 10.8423\n",
            "Prediction =  [[13.321021]]\n"
          ]
        }
      ]
    },
    {
      "cell_type": "markdown",
      "source": [
        "We have set `units = 1` coz we are making use of a single neuron to make prediction for each input "
      ],
      "metadata": {
        "id": "b-DCN1OUpR8T"
      }
    },
    {
      "cell_type": "code",
      "source": [
        "##Trying to fit the same data using Linear Regression\n",
        "\n",
        "from sklearn.linear_model import LinearRegression\n",
        "\n",
        "lr = LinearRegression()\n",
        "lr.fit(X.numpy().reshape(-1,1),y)\n",
        "print('Prediction = ', lr.predict([[17.0]]))\n",
        "print('Coefficient- ', lr.coef_, 'Intercept- ', lr.intercept_)"
      ],
      "metadata": {
        "colab": {
          "base_uri": "https://localhost:8080/"
        },
        "id": "jI0Fv7Y8m7r_",
        "outputId": "591650e5-3d75-4018-e576-dedc56585ac3"
      },
      "execution_count": 8,
      "outputs": [
        {
          "output_type": "stream",
          "name": "stdout",
          "text": [
            "Prediction =  [27.]\n",
            "Coefficient-  [1.] Intercept-  10.0\n"
          ]
        }
      ]
    },
    {
      "cell_type": "markdown",
      "source": [
        "### Improving our Deep Learning Model\n",
        "\n",
        "1. **Creating a model** - Add more layers, increase hidden units and change the activation function of each layer.\n",
        "\n",
        "2. **Compiling a model** - Change optimization function or perhaps the learning rate.\n",
        "\n",
        "3. **Fitting the model** - Run for more epochs or add more data for training"
      ],
      "metadata": {
        "id": "ikGKOr_9sii2"
      }
    },
    {
      "cell_type": "code",
      "source": [
        "model = tf.keras.Sequential([\n",
        "                             tf.keras.layers.Dense(1, input_shape=[1]),\n",
        "                             tf.keras.layers.Dense(100, activation='relu'),\n",
        "                             tf.keras.layers.Dense(100, activation='relu'),\n",
        "                            #  tf.keras.layers.Dense(100, activation='relu'),\n",
        "                             tf.keras.layers.Dense(1)\n",
        "])\n",
        "\n",
        "model.compile(loss = tf.keras.losses.mean_squared_error,\n",
        "              optimizer=tf.keras.optimizers.Adam(lr=.01),\n",
        "              metrics=['mse']\n",
        "              )\n",
        "\n",
        "model.fit(X, y, epochs=100)"
      ],
      "metadata": {
        "id": "EbdalU07rUnl",
        "outputId": "183818ed-63c2-4414-b3ee-a9d71341c19c",
        "colab": {
          "base_uri": "https://localhost:8080/"
        }
      },
      "execution_count": 9,
      "outputs": [
        {
          "output_type": "stream",
          "name": "stdout",
          "text": [
            "Epoch 1/100\n"
          ]
        },
        {
          "output_type": "stream",
          "name": "stderr",
          "text": [
            "/usr/local/lib/python3.7/dist-packages/keras/optimizer_v2/adam.py:105: UserWarning: The `lr` argument is deprecated, use `learning_rate` instead.\n",
            "  super(Adam, self).__init__(name, **kwargs)\n"
          ]
        },
        {
          "output_type": "stream",
          "name": "stdout",
          "text": [
            "1/1 [==============================] - 1s 527ms/step - loss: 247.1779 - mse: 247.1779\n",
            "Epoch 2/100\n",
            "1/1 [==============================] - 0s 13ms/step - loss: 187.9903 - mse: 187.9903\n",
            "Epoch 3/100\n",
            "1/1 [==============================] - 0s 9ms/step - loss: 141.9341 - mse: 141.9341\n",
            "Epoch 4/100\n",
            "1/1 [==============================] - 0s 8ms/step - loss: 105.3785 - mse: 105.3785\n",
            "Epoch 5/100\n",
            "1/1 [==============================] - 0s 8ms/step - loss: 72.2983 - mse: 72.2983\n",
            "Epoch 6/100\n",
            "1/1 [==============================] - 0s 7ms/step - loss: 43.8231 - mse: 43.8231\n",
            "Epoch 7/100\n",
            "1/1 [==============================] - 0s 9ms/step - loss: 24.6989 - mse: 24.6989\n",
            "Epoch 8/100\n",
            "1/1 [==============================] - 0s 9ms/step - loss: 22.9831 - mse: 22.9831\n",
            "Epoch 9/100\n",
            "1/1 [==============================] - 0s 9ms/step - loss: 38.8598 - mse: 38.8598\n",
            "Epoch 10/100\n",
            "1/1 [==============================] - 0s 10ms/step - loss: 51.5460 - mse: 51.5460\n",
            "Epoch 11/100\n",
            "1/1 [==============================] - 0s 10ms/step - loss: 49.4937 - mse: 49.4937\n",
            "Epoch 12/100\n",
            "1/1 [==============================] - 0s 10ms/step - loss: 39.1573 - mse: 39.1573\n",
            "Epoch 13/100\n",
            "1/1 [==============================] - 0s 10ms/step - loss: 27.7251 - mse: 27.7251\n",
            "Epoch 14/100\n",
            "1/1 [==============================] - 0s 9ms/step - loss: 20.1637 - mse: 20.1637\n",
            "Epoch 15/100\n",
            "1/1 [==============================] - 0s 10ms/step - loss: 17.1267 - mse: 17.1267\n",
            "Epoch 16/100\n",
            "1/1 [==============================] - 0s 18ms/step - loss: 17.8035 - mse: 17.8035\n",
            "Epoch 17/100\n",
            "1/1 [==============================] - 0s 17ms/step - loss: 19.8983 - mse: 19.8983\n",
            "Epoch 18/100\n",
            "1/1 [==============================] - 0s 12ms/step - loss: 21.5245 - mse: 21.5245\n",
            "Epoch 19/100\n",
            "1/1 [==============================] - 0s 11ms/step - loss: 21.5678 - mse: 21.5678\n",
            "Epoch 20/100\n",
            "1/1 [==============================] - 0s 10ms/step - loss: 19.7006 - mse: 19.7006\n",
            "Epoch 21/100\n",
            "1/1 [==============================] - 0s 13ms/step - loss: 16.3147 - mse: 16.3147\n",
            "Epoch 22/100\n",
            "1/1 [==============================] - 0s 11ms/step - loss: 12.4699 - mse: 12.4699\n",
            "Epoch 23/100\n",
            "1/1 [==============================] - 0s 10ms/step - loss: 9.7921 - mse: 9.7921\n",
            "Epoch 24/100\n",
            "1/1 [==============================] - 0s 11ms/step - loss: 9.7635 - mse: 9.7635\n",
            "Epoch 25/100\n",
            "1/1 [==============================] - 0s 9ms/step - loss: 11.4247 - mse: 11.4247\n",
            "Epoch 26/100\n",
            "1/1 [==============================] - 0s 10ms/step - loss: 11.1551 - mse: 11.1551\n",
            "Epoch 27/100\n",
            "1/1 [==============================] - 0s 10ms/step - loss: 8.7036 - mse: 8.7036\n",
            "Epoch 28/100\n",
            "1/1 [==============================] - 0s 10ms/step - loss: 6.1958 - mse: 6.1958\n",
            "Epoch 29/100\n",
            "1/1 [==============================] - 0s 10ms/step - loss: 4.6364 - mse: 4.6364\n",
            "Epoch 30/100\n",
            "1/1 [==============================] - 0s 10ms/step - loss: 4.1301 - mse: 4.1301\n",
            "Epoch 31/100\n",
            "1/1 [==============================] - 0s 10ms/step - loss: 3.9396 - mse: 3.9396\n",
            "Epoch 32/100\n",
            "1/1 [==============================] - 0s 10ms/step - loss: 3.4876 - mse: 3.4876\n",
            "Epoch 33/100\n",
            "1/1 [==============================] - 0s 10ms/step - loss: 2.6094 - mse: 2.6094\n",
            "Epoch 34/100\n",
            "1/1 [==============================] - 0s 15ms/step - loss: 1.6015 - mse: 1.6015\n",
            "Epoch 35/100\n",
            "1/1 [==============================] - 0s 34ms/step - loss: 0.9859 - mse: 0.9859\n",
            "Epoch 36/100\n",
            "1/1 [==============================] - 0s 12ms/step - loss: 1.0214 - mse: 1.0214\n",
            "Epoch 37/100\n",
            "1/1 [==============================] - 0s 12ms/step - loss: 1.2561 - mse: 1.2561\n",
            "Epoch 38/100\n",
            "1/1 [==============================] - 0s 13ms/step - loss: 0.9900 - mse: 0.9900\n",
            "Epoch 39/100\n",
            "1/1 [==============================] - 0s 11ms/step - loss: 0.3681 - mse: 0.3681\n",
            "Epoch 40/100\n",
            "1/1 [==============================] - 0s 10ms/step - loss: 0.0510 - mse: 0.0510\n",
            "Epoch 41/100\n",
            "1/1 [==============================] - 0s 9ms/step - loss: 0.2461 - mse: 0.2461\n",
            "Epoch 42/100\n",
            "1/1 [==============================] - 0s 9ms/step - loss: 0.5627 - mse: 0.5627\n",
            "Epoch 43/100\n",
            "1/1 [==============================] - 0s 10ms/step - loss: 0.6134 - mse: 0.6134\n",
            "Epoch 44/100\n",
            "1/1 [==============================] - 0s 14ms/step - loss: 0.4066 - mse: 0.4066\n",
            "Epoch 45/100\n",
            "1/1 [==============================] - 0s 9ms/step - loss: 0.2374 - mse: 0.2374\n",
            "Epoch 46/100\n",
            "1/1 [==============================] - 0s 10ms/step - loss: 0.3943 - mse: 0.3943\n",
            "Epoch 47/100\n",
            "1/1 [==============================] - 0s 9ms/step - loss: 0.6299 - mse: 0.6299\n",
            "Epoch 48/100\n",
            "1/1 [==============================] - 0s 9ms/step - loss: 0.5480 - mse: 0.5480\n",
            "Epoch 49/100\n",
            "1/1 [==============================] - 0s 9ms/step - loss: 0.3320 - mse: 0.3320\n",
            "Epoch 50/100\n",
            "1/1 [==============================] - 0s 9ms/step - loss: 0.3043 - mse: 0.3043\n",
            "Epoch 51/100\n",
            "1/1 [==============================] - 0s 9ms/step - loss: 0.3821 - mse: 0.3821\n",
            "Epoch 52/100\n",
            "1/1 [==============================] - 0s 9ms/step - loss: 0.3369 - mse: 0.3369\n",
            "Epoch 53/100\n",
            "1/1 [==============================] - 0s 8ms/step - loss: 0.2017 - mse: 0.2017\n",
            "Epoch 54/100\n",
            "1/1 [==============================] - 0s 11ms/step - loss: 0.1221 - mse: 0.1221\n",
            "Epoch 55/100\n",
            "1/1 [==============================] - 0s 10ms/step - loss: 0.1415 - mse: 0.1415\n",
            "Epoch 56/100\n",
            "1/1 [==============================] - 0s 9ms/step - loss: 0.1577 - mse: 0.1577\n",
            "Epoch 57/100\n",
            "1/1 [==============================] - 0s 9ms/step - loss: 0.1022 - mse: 0.1022\n",
            "Epoch 58/100\n",
            "1/1 [==============================] - 0s 9ms/step - loss: 0.0425 - mse: 0.0425\n",
            "Epoch 59/100\n",
            "1/1 [==============================] - 0s 10ms/step - loss: 0.0486 - mse: 0.0486\n",
            "Epoch 60/100\n",
            "1/1 [==============================] - 0s 13ms/step - loss: 0.0901 - mse: 0.0901\n",
            "Epoch 61/100\n",
            "1/1 [==============================] - 0s 11ms/step - loss: 0.1006 - mse: 0.1006\n",
            "Epoch 62/100\n",
            "1/1 [==============================] - 0s 10ms/step - loss: 0.0707 - mse: 0.0707\n",
            "Epoch 63/100\n",
            "1/1 [==============================] - 0s 10ms/step - loss: 0.0480 - mse: 0.0480\n",
            "Epoch 64/100\n",
            "1/1 [==============================] - 0s 10ms/step - loss: 0.0616 - mse: 0.0616\n",
            "Epoch 65/100\n",
            "1/1 [==============================] - 0s 10ms/step - loss: 0.0844 - mse: 0.0844\n",
            "Epoch 66/100\n",
            "1/1 [==============================] - 0s 12ms/step - loss: 0.0805 - mse: 0.0805\n",
            "Epoch 67/100\n",
            "1/1 [==============================] - 0s 10ms/step - loss: 0.0593 - mse: 0.0593\n",
            "Epoch 68/100\n",
            "1/1 [==============================] - 0s 9ms/step - loss: 0.0519 - mse: 0.0519\n",
            "Epoch 69/100\n",
            "1/1 [==============================] - 0s 9ms/step - loss: 0.0601 - mse: 0.0601\n",
            "Epoch 70/100\n",
            "1/1 [==============================] - 0s 9ms/step - loss: 0.0602 - mse: 0.0602\n",
            "Epoch 71/100\n",
            "1/1 [==============================] - 0s 10ms/step - loss: 0.0440 - mse: 0.0440\n",
            "Epoch 72/100\n",
            "1/1 [==============================] - 0s 9ms/step - loss: 0.0289 - mse: 0.0289\n",
            "Epoch 73/100\n",
            "1/1 [==============================] - 0s 10ms/step - loss: 0.0291 - mse: 0.0291\n",
            "Epoch 74/100\n",
            "1/1 [==============================] - 0s 9ms/step - loss: 0.0344 - mse: 0.0344\n",
            "Epoch 75/100\n",
            "1/1 [==============================] - 0s 33ms/step - loss: 0.0287 - mse: 0.0287\n",
            "Epoch 76/100\n",
            "1/1 [==============================] - 0s 11ms/step - loss: 0.0162 - mse: 0.0162\n",
            "Epoch 77/100\n",
            "1/1 [==============================] - 0s 16ms/step - loss: 0.0115 - mse: 0.0115\n",
            "Epoch 78/100\n",
            "1/1 [==============================] - 0s 13ms/step - loss: 0.0154 - mse: 0.0154\n",
            "Epoch 79/100\n",
            "1/1 [==============================] - 0s 12ms/step - loss: 0.0166 - mse: 0.0166\n",
            "Epoch 80/100\n",
            "1/1 [==============================] - 0s 22ms/step - loss: 0.0119 - mse: 0.0119\n",
            "Epoch 81/100\n",
            "1/1 [==============================] - 0s 16ms/step - loss: 0.0090 - mse: 0.0090\n",
            "Epoch 82/100\n",
            "1/1 [==============================] - 0s 16ms/step - loss: 0.0116 - mse: 0.0116\n",
            "Epoch 83/100\n",
            "1/1 [==============================] - 0s 14ms/step - loss: 0.0136 - mse: 0.0136\n",
            "Epoch 84/100\n",
            "1/1 [==============================] - 0s 13ms/step - loss: 0.0110 - mse: 0.0110\n",
            "Epoch 85/100\n",
            "1/1 [==============================] - 0s 15ms/step - loss: 0.0085 - mse: 0.0085\n",
            "Epoch 86/100\n",
            "1/1 [==============================] - 0s 14ms/step - loss: 0.0100 - mse: 0.0100\n",
            "Epoch 87/100\n",
            "1/1 [==============================] - 0s 11ms/step - loss: 0.0118 - mse: 0.0118\n",
            "Epoch 88/100\n",
            "1/1 [==============================] - 0s 14ms/step - loss: 0.0101 - mse: 0.0101\n",
            "Epoch 89/100\n",
            "1/1 [==============================] - 0s 13ms/step - loss: 0.0075 - mse: 0.0075\n",
            "Epoch 90/100\n",
            "1/1 [==============================] - 0s 9ms/step - loss: 0.0075 - mse: 0.0075\n",
            "Epoch 91/100\n",
            "1/1 [==============================] - 0s 10ms/step - loss: 0.0087 - mse: 0.0087\n",
            "Epoch 92/100\n",
            "1/1 [==============================] - 0s 9ms/step - loss: 0.0079 - mse: 0.0079\n",
            "Epoch 93/100\n",
            "1/1 [==============================] - 0s 17ms/step - loss: 0.0060 - mse: 0.0060\n",
            "Epoch 94/100\n",
            "1/1 [==============================] - 0s 13ms/step - loss: 0.0058 - mse: 0.0058\n",
            "Epoch 95/100\n",
            "1/1 [==============================] - 0s 12ms/step - loss: 0.0064 - mse: 0.0064\n",
            "Epoch 96/100\n",
            "1/1 [==============================] - 0s 11ms/step - loss: 0.0060 - mse: 0.0060\n",
            "Epoch 97/100\n",
            "1/1 [==============================] - 0s 77ms/step - loss: 0.0051 - mse: 0.0051\n",
            "Epoch 98/100\n",
            "1/1 [==============================] - 0s 35ms/step - loss: 0.0052 - mse: 0.0052\n",
            "Epoch 99/100\n",
            "1/1 [==============================] - 0s 20ms/step - loss: 0.0057 - mse: 0.0057\n",
            "Epoch 100/100\n",
            "1/1 [==============================] - 0s 18ms/step - loss: 0.0054 - mse: 0.0054\n"
          ]
        },
        {
          "output_type": "execute_result",
          "data": {
            "text/plain": [
              "<keras.callbacks.History at 0x7f0095c88bd0>"
            ]
          },
          "metadata": {},
          "execution_count": 9
        }
      ]
    },
    {
      "cell_type": "code",
      "source": [
        "X, y"
      ],
      "metadata": {
        "id": "lbTYhcdIrXwJ",
        "outputId": "bf2baba7-4adc-4387-e384-c4186f98fdaa",
        "colab": {
          "base_uri": "https://localhost:8080/"
        }
      },
      "execution_count": 10,
      "outputs": [
        {
          "output_type": "execute_result",
          "data": {
            "text/plain": [
              "(<tf.Tensor: shape=(8,), dtype=float64, numpy=array([-7., -4., -1.,  2.,  5.,  8., 11., 14.])>,\n",
              " <tf.Tensor: shape=(8,), dtype=int64, numpy=array([ 3,  6,  9, 12, 15, 18, 21, 24])>)"
            ]
          },
          "metadata": {},
          "execution_count": 10
        }
      ]
    },
    {
      "cell_type": "code",
      "source": [
        "model.predict([17.0])"
      ],
      "metadata": {
        "id": "_Gq9uq2YrmQZ",
        "outputId": "14389b01-9769-4b54-a791-732bc5b53178",
        "colab": {
          "base_uri": "https://localhost:8080/"
        }
      },
      "execution_count": 11,
      "outputs": [
        {
          "output_type": "execute_result",
          "data": {
            "text/plain": [
              "array([[27.25651]], dtype=float32)"
            ]
          },
          "metadata": {},
          "execution_count": 11
        }
      ]
    },
    {
      "cell_type": "markdown",
      "source": [
        "### Evaluating a model\n",
        "\n",
        "```\n",
        "Build -> Fit -> Evaluate -> Tweak -> Repeat\n",
        "```\n",
        "Key aspect is to:\n",
        "\n",
        "> Visualize the data\n",
        "\n",
        "> Visualize the model itself\n",
        "\n",
        "> Visualize the training phase\n",
        "\n",
        "> Visualize the results"
      ],
      "metadata": {
        "id": "oLwHNFApsYB5"
      }
    },
    {
      "cell_type": "code",
      "source": [
        "X = tf.range(-100, 100, 4)\n",
        "y = X+10\n",
        "X,y\n"
      ],
      "metadata": {
        "id": "UANYr3_0u_2T",
        "outputId": "47c9a3a3-4f89-4920-fb08-092de06bff86",
        "colab": {
          "base_uri": "https://localhost:8080/"
        }
      },
      "execution_count": 12,
      "outputs": [
        {
          "output_type": "execute_result",
          "data": {
            "text/plain": [
              "(<tf.Tensor: shape=(50,), dtype=int32, numpy=\n",
              " array([-100,  -96,  -92,  -88,  -84,  -80,  -76,  -72,  -68,  -64,  -60,\n",
              "         -56,  -52,  -48,  -44,  -40,  -36,  -32,  -28,  -24,  -20,  -16,\n",
              "         -12,   -8,   -4,    0,    4,    8,   12,   16,   20,   24,   28,\n",
              "          32,   36,   40,   44,   48,   52,   56,   60,   64,   68,   72,\n",
              "          76,   80,   84,   88,   92,   96], dtype=int32)>,\n",
              " <tf.Tensor: shape=(50,), dtype=int32, numpy=\n",
              " array([-90, -86, -82, -78, -74, -70, -66, -62, -58, -54, -50, -46, -42,\n",
              "        -38, -34, -30, -26, -22, -18, -14, -10,  -6,  -2,   2,   6,  10,\n",
              "         14,  18,  22,  26,  30,  34,  38,  42,  46,  50,  54,  58,  62,\n",
              "         66,  70,  74,  78,  82,  86,  90,  94,  98, 102, 106], dtype=int32)>)"
            ]
          },
          "metadata": {},
          "execution_count": 12
        }
      ]
    },
    {
      "cell_type": "code",
      "source": [
        "## Visulaize the data\n",
        "sns.scatterplot(x=X, y=y)"
      ],
      "metadata": {
        "id": "Q4JY_fbh7PXI",
        "outputId": "0c7da2ce-a1e1-401a-901d-4a9383f1caed",
        "colab": {
          "base_uri": "https://localhost:8080/",
          "height": 285
        }
      },
      "execution_count": 13,
      "outputs": [
        {
          "output_type": "execute_result",
          "data": {
            "text/plain": [
              "<matplotlib.axes._subplots.AxesSubplot at 0x7f0094177510>"
            ]
          },
          "metadata": {},
          "execution_count": 13
        },
        {
          "output_type": "display_data",
          "data": {
            "text/plain": [
              "<Figure size 432x288 with 1 Axes>"
            ],
            "image/png": "[encoded data removed]"
          },
          "metadata": {}
        }
      ]
    },
    {
      "cell_type": "markdown",
      "source": [
        "#### The 3 Sets:\n",
        "1. **Training Set** - 70-80 percent data\n",
        "2. **Validation Set** - 10-15 percent of the available data\n",
        "3. **Test Set** - 10-15 percent of the available data"
      ],
      "metadata": {
        "id": "Xxbacxiv8A5S"
      }
    },
    {
      "cell_type": "code",
      "source": [
        "##We create train and test set cz of small dataset and hence no validation set\n",
        "\n",
        "X_train = X[:40]\n",
        "y_train = y[:40]\n",
        "\n",
        "X_test = X[40:]\n",
        "y_test = y[40:]\n",
        "\n",
        "print(X_train.shape, X_test.shape, y_train.shape, y_test.shape)"
      ],
      "metadata": {
        "id": "GoBLxGwX7XFR",
        "outputId": "e03044da-fc3c-44c3-dc36-8fe79fdc578e",
        "colab": {
          "base_uri": "https://localhost:8080/"
        }
      },
      "execution_count": 14,
      "outputs": [
        {
          "output_type": "stream",
          "name": "stdout",
          "text": [
            "(40,) (10,) (40,) (10,)\n"
          ]
        }
      ]
    },
    {
      "cell_type": "markdown",
      "source": [
        "####Visualize"
      ],
      "metadata": {
        "id": "VYcoJpK4-Aep"
      }
    },
    {
      "cell_type": "code",
      "source": [
        "##THE DATA\n",
        "\n",
        "plt.figure(figsize=(10,7))\n",
        "sns.set_theme(style='darkgrid', font_scale=1.2)\n",
        "\n",
        "##Plot training data\n",
        "sns.scatterplot(x=X_train, y=y_train, label='Training Data')\n",
        "##Plot testing data\n",
        "sns.scatterplot(x=X_test, y=y_test, label='Testing Data')"
      ],
      "metadata": {
        "id": "P7KAbWJ89ni8",
        "outputId": "d7a5f682-c21c-4474-d72c-a51df33b9486",
        "colab": {
          "base_uri": "https://localhost:8080/",
          "height": 451
        }
      },
      "execution_count": 15,
      "outputs": [
        {
          "output_type": "execute_result",
          "data": {
            "text/plain": [
              "<matplotlib.axes._subplots.AxesSubplot at 0x7f0095bb0d50>"
            ]
          },
          "metadata": {},
          "execution_count": 15
        },
        {
          "output_type": "display_data",
          "data": {
            "text/plain": [
              "<Figure size 720x504 with 1 Axes>"
            ],
            "image/png": "[encoded data removed]"
          },
          "metadata": {}
        }
      ]
    },
    {
      "cell_type": "code",
      "source": [
        "##Create a model for the data\n",
        "tf.random.set_seed(42)\n",
        "\n",
        "model = tf.keras.Sequential([\n",
        "                             tf.keras.layers.Dense(1, input_shape=[1]),\n",
        "                             tf.keras.layers.Dense(100, activation='relu'),\n",
        "                             tf.keras.layers.Dense(1)\n",
        "])\n",
        "model.compile(loss='mae', optimizer='Adam', metrics='mae')\n",
        "\n",
        "##Visulaizing the model\n",
        "model.summary()"
      ],
      "metadata": {
        "id": "dLhwXZ5l-vqR",
        "outputId": "6fc85866-af58-4c3d-984b-ac553ff2064d",
        "colab": {
          "base_uri": "https://localhost:8080/"
        }
      },
      "execution_count": 16,
      "outputs": [
        {
          "output_type": "stream",
          "name": "stdout",
          "text": [
            "Model: \"sequential_2\"\n",
            "_________________________________________________________________\n",
            " Layer (type)                Output Shape              Param #   \n",
            "=================================================================\n",
            " dense_5 (Dense)             (None, 1)                 2         \n",
            "                                                                 \n",
            " dense_6 (Dense)             (None, 100)               200       \n",
            "                                                                 \n",
            " dense_7 (Dense)             (None, 1)                 101       \n",
            "                                                                 \n",
            "=================================================================\n",
            "Total params: 303\n",
            "Trainable params: 303\n",
            "Non-trainable params: 0\n",
            "_________________________________________________________________\n"
          ]
        }
      ]
    },
    {
      "cell_type": "markdown",
      "source": [
        "*  Trainable Parameters - Parameters that can be changed\n",
        "\n",
        "*  Non-Trainable Parameters - Parameters that can't be changed. (Used when you use **transfer learning** and you don't want to change the params that the model has already learnt)"
      ],
      "metadata": {
        "id": "dqPaCZwIGPR_"
      }
    },
    {
      "cell_type": "code",
      "source": [
        "model.fit(X_train, y_train, epochs=100, verbose=0)"
      ],
      "metadata": {
        "id": "f3RM5405GFzJ",
        "outputId": "535779c2-a2ee-4893-d17a-1f0641ec9a76",
        "colab": {
          "base_uri": "https://localhost:8080/"
        }
      },
      "execution_count": 17,
      "outputs": [
        {
          "output_type": "execute_result",
          "data": {
            "text/plain": [
              "<keras.callbacks.History at 0x7f009724d090>"
            ]
          },
          "metadata": {},
          "execution_count": 17
        }
      ]
    },
    {
      "cell_type": "code",
      "source": [
        "from tensorflow.keras.utils import plot_model\n",
        "\n",
        "plot_model(model=model, show_shapes=True)"
      ],
      "metadata": {
        "id": "Rtp-EnF8YcYD",
        "outputId": "722335c9-4b71-410e-b23c-b2d16cb26510",
        "colab": {
          "base_uri": "https://localhost:8080/",
          "height": 54
        }
      },
      "execution_count": 18,
      "outputs": [
        {
          "output_type": "execute_result",
          "data": {
            "text/plain": [
              "<IPython.core.display.Image object>"
            ],
            "image/png": "[encoded data removed]"
          },
          "metadata": {},
          "execution_count": 18
        }
      ]
    },
    {
      "cell_type": "markdown",
      "source": [
        "####Visulaize model's prediction\n",
        "\n",
        "It is good to plot `y_pred` against `y_true`"
      ],
      "metadata": {
        "id": "d7wKeztjbxS3"
      }
    },
    {
      "cell_type": "code",
      "source": [
        "y_pred = model.predict(X_test)\n",
        "y_pred"
      ],
      "metadata": {
        "id": "4lfXg7d2ZtY1",
        "outputId": "ae373bd5-84a8-4716-87d9-b2a51cbd93bf",
        "colab": {
          "base_uri": "https://localhost:8080/"
        }
      },
      "execution_count": 19,
      "outputs": [
        {
          "output_type": "execute_result",
          "data": {
            "text/plain": [
              "array([[ 73.041275],\n",
              "       [ 77.78419 ],\n",
              "       [ 82.52709 ],\n",
              "       [ 87.270004],\n",
              "       [ 92.01292 ],\n",
              "       [ 96.75584 ],\n",
              "       [101.49875 ],\n",
              "       [106.24166 ],\n",
              "       [110.98457 ],\n",
              "       [115.7275  ]], dtype=float32)"
            ]
          },
          "metadata": {},
          "execution_count": 19
        }
      ]
    },
    {
      "cell_type": "code",
      "source": [
        "y_test"
      ],
      "metadata": {
        "id": "g1fdVDiicArq",
        "outputId": "9c625067-10fb-429e-d5a7-ab7cfd2eb7a4",
        "colab": {
          "base_uri": "https://localhost:8080/"
        }
      },
      "execution_count": 20,
      "outputs": [
        {
          "output_type": "execute_result",
          "data": {
            "text/plain": [
              "<tf.Tensor: shape=(10,), dtype=int32, numpy=array([ 70,  74,  78,  82,  86,  90,  94,  98, 102, 106], dtype=int32)>"
            ]
          },
          "metadata": {},
          "execution_count": 20
        }
      ]
    },
    {
      "cell_type": "code",
      "source": [
        "###Plotting Function\n",
        "\n",
        "def plot_predictions(train_data = X_train,\n",
        "                     train_labels = y_train,\n",
        "                     test_data = X_test,\n",
        "                     test_labels=y_test,\n",
        "                     prediction=y_pred):\n",
        "  plt.figure(figsize=(10,7))\n",
        "  ##Plot training data\n",
        "  sns.scatterplot(x=train_data, y=train_labels, label='Train Data')\n",
        "  ##Plot test data\n",
        "  sns.scatterplot(x=test_data, y=test_labels, label='Test Data')\n",
        "  ##Plot prediction\n",
        "  sns.scatterplot(x=test_data, y=prediction.ravel(), label='Predictions')"
      ],
      "metadata": {
        "id": "9VDytcz1cLE4"
      },
      "execution_count": 21,
      "outputs": []
    },
    {
      "cell_type": "code",
      "source": [
        "plot_predictions()"
      ],
      "metadata": {
        "id": "iQUGO5UIdygl",
        "outputId": "9fd851dd-bb97-4936-a36b-bed846bbf8bc",
        "colab": {
          "base_uri": "https://localhost:8080/",
          "height": 54
        }
      },
      "execution_count": 22,
      "outputs": [
        {
          "output_type": "display_data",
          "data": {
            "text/plain": [
              "<Figure size 720x504 with 1 Axes>"
            ],
            "image/png": "[encoded data removed]"
          },
          "metadata": {}
        }
      ]
    },
    {
      "cell_type": "markdown",
      "source": [
        "#### Evaluate a model on evalutaion metrics\n",
        "\n",
        "Depending on the problem there are different evaluation metrics to evalute the model. For regression there is:\n",
        "* Mean Absolute Error\n",
        "* Mean Squared Error = Very sensitive to outliers\n",
        "* R2 Score\n",
        "* Huber = Combination of MSE and MAE. Less sensitive to outliers "
      ],
      "metadata": {
        "id": "J24hTxoTXYw1"
      }
    },
    {
      "cell_type": "code",
      "source": [
        "model.evaluate(X_test, y_test) \n",
        "## returns loss and metrics which is MAE in our case"
      ],
      "metadata": {
        "id": "pHfozuadd1bw",
        "outputId": "fa7e709c-731c-4b56-9c42-2f857538ccc8",
        "colab": {
          "base_uri": "https://localhost:8080/"
        }
      },
      "execution_count": 23,
      "outputs": [
        {
          "output_type": "stream",
          "name": "stdout",
          "text": [
            "1/1 [==============================] - 1s 742ms/step - loss: 6.3844 - mae: 6.3844\n"
          ]
        },
        {
          "output_type": "execute_result",
          "data": {
            "text/plain": [
              "[6.384380340576172, 6.384380340576172]"
            ]
          },
          "metadata": {},
          "execution_count": 23
        }
      ]
    },
    {
      "cell_type": "code",
      "source": [
        "## Exercise - Calculate the MAE using metrics function\n",
        "tf.keras.metrics.mean_absolute_error(y_test, y_pred.ravel())"
      ],
      "metadata": {
        "id": "vHCpKcX-ZYwA",
        "outputId": "70480b18-2854-4a24-8881-3c5489bfa86d",
        "colab": {
          "base_uri": "https://localhost:8080/"
        }
      },
      "execution_count": 24,
      "outputs": [
        {
          "output_type": "execute_result",
          "data": {
            "text/plain": [
              "<tf.Tensor: shape=(), dtype=float32, numpy=6.3843794>"
            ]
          },
          "metadata": {},
          "execution_count": 24
        }
      ]
    },
    {
      "cell_type": "code",
      "source": [
        "## Exercise - Calculate the MSE using metrics function\n",
        "tf.keras.metrics.mean_squared_error(y_test, y_pred.ravel())"
      ],
      "metadata": {
        "id": "pdpjdDd0Z1jP",
        "outputId": "f5fba664-906d-4f7f-de8e-f5b5f3caf03f",
        "colab": {
          "base_uri": "https://localhost:8080/"
        }
      },
      "execution_count": 25,
      "outputs": [
        {
          "output_type": "execute_result",
          "data": {
            "text/plain": [
              "<tf.Tensor: shape=(), dtype=float32, numpy=45.31365>"
            ]
          },
          "metadata": {},
          "execution_count": 25
        }
      ]
    },
    {
      "cell_type": "markdown",
      "source": [
        "### Running experiments to improve our model\n",
        "\n",
        "1. Get more data - Get more samples to train on (more opportunities to learn patterns)\n",
        "\n",
        "2. Make your model larger - Add more hidden layers\n",
        "\n",
        "3. Train for longer - Run for more epochs\n",
        "\n",
        "Let's make some models and evaluate them:\n",
        "* `model_1` - 1 layer 100 epochs\n",
        "* `model_2` - 2 layers 100 epochs\n",
        "* `model_3` - 2 layers 500 epochs"
      ],
      "metadata": {
        "id": "HtvLSvkWduRa"
      }
    },
    {
      "cell_type": "code",
      "source": [
        "## Model-1\n",
        "tf.random.set_seed(42)\n",
        "model_1 = tf.keras.Sequential([tf.keras.layers.Dense(units=1, input_shape=[1])])\n",
        "model_1.compile(loss=tf.keras.losses.mae, \n",
        "              optimizer=tf.keras.optimizers.Adam(lr=.01), \n",
        "              metrics='mae')\n",
        "model_1.fit(X_train, y_train, epochs=100)"
      ],
      "metadata": {
        "id": "roJDkwkeb-sV"
      },
      "execution_count": null,
      "outputs": []
    },
    {
      "cell_type": "code",
      "source": [
        "y_pred = model_1.predict(X_test)\n",
        "plot_predictions(prediction=y_pred)"
      ],
      "metadata": {
        "id": "FU5lHa0fgjhU",
        "outputId": "f3dac365-2f05-4c23-edbe-4de6ab1ab5ca",
        "colab": {
          "base_uri": "https://localhost:8080/",
          "height": 434
        }
      },
      "execution_count": 69,
      "outputs": [
        {
          "output_type": "display_data",
          "data": {
            "text/plain": [
              "<Figure size 720x504 with 1 Axes>"
            ],
            "image/png": "[encoded data removed]"
          },
          "metadata": {}
        }
      ]
    },
    {
      "cell_type": "code",
      "source": [
        "mae_1 = tf.keras.metrics.mean_absolute_error(y_test, y_pred.ravel())\n",
        "mse_1 = tf.keras.metrics.mean_squared_error(y_test, y_pred.ravel())\n",
        "print(mae_1.numpy(), mse_1.numpy())"
      ],
      "metadata": {
        "id": "G2SCiMNig8Ur",
        "outputId": "ca384091-eacc-4fe3-db21-021b422130f1",
        "colab": {
          "base_uri": "https://localhost:8080/"
        }
      },
      "execution_count": 70,
      "outputs": [
        {
          "output_type": "stream",
          "name": "stdout",
          "text": [
            "15.4527645 239.99292\n"
          ]
        }
      ]
    },
    {
      "cell_type": "code",
      "source": [
        "## Model-2\n",
        "model_2 = tf.keras.Sequential([\n",
        "                               tf.keras.layers.Dense(100, input_shape=[1]),\n",
        "                               tf.keras.layers.Dense(1),\n",
        "                              #  tf.keras.layers.Dense(1)\n",
        "])\n",
        "\n",
        "model_2.compile(loss='mae', optimizer=tf.keras.optimizers.Adam(lr=.01), metrics='mae')\n",
        "model_2.fit(X_test, y_test, epochs=100, verbose=0)"
      ],
      "metadata": {
        "id": "0FWjCgFphMSn",
        "outputId": "cf8586ba-eb89-4d99-9556-a291568606b6",
        "colab": {
          "base_uri": "https://localhost:8080/"
        }
      },
      "execution_count": 100,
      "outputs": [
        {
          "output_type": "stream",
          "name": "stderr",
          "text": [
            "/usr/local/lib/python3.7/dist-packages/keras/optimizer_v2/adam.py:105: UserWarning: The `lr` argument is deprecated, use `learning_rate` instead.\n",
            "  super(Adam, self).__init__(name, **kwargs)\n"
          ]
        },
        {
          "output_type": "execute_result",
          "data": {
            "text/plain": [
              "<keras.callbacks.History at 0x7f0093aede10>"
            ]
          },
          "metadata": {},
          "execution_count": 100
        }
      ]
    },
    {
      "cell_type": "code",
      "source": [
        "model_2.summary()"
      ],
      "metadata": {
        "id": "ilFqvbk7Z-_z",
        "outputId": "40f823a6-84cb-4def-85d2-aa6e23171036",
        "colab": {
          "base_uri": "https://localhost:8080/"
        }
      },
      "execution_count": 101,
      "outputs": [
        {
          "output_type": "stream",
          "name": "stdout",
          "text": [
            "Model: \"sequential_19\"\n",
            "_________________________________________________________________\n",
            " Layer (type)                Output Shape              Param #   \n",
            "=================================================================\n",
            " dense_41 (Dense)            (None, 100)               200       \n",
            "                                                                 \n",
            " dense_42 (Dense)            (None, 1)                 101       \n",
            "                                                                 \n",
            "=================================================================\n",
            "Total params: 301\n",
            "Trainable params: 301\n",
            "Non-trainable params: 0\n",
            "_________________________________________________________________\n"
          ]
        }
      ]
    },
    {
      "cell_type": "code",
      "source": [
        "from tensorflow.keras.utils import plot_model\n",
        "\n",
        "plot_model(model_2, show_shapes=True)"
      ],
      "metadata": {
        "id": "41gkL6X3aYIX"
      },
      "execution_count": null,
      "outputs": []
    },
    {
      "cell_type": "code",
      "source": [
        "y_pred = model_2.predict(X_test)\n",
        "# y_pred\n",
        "plot_predictions(prediction=y_pred.ravel())"
      ],
      "metadata": {
        "id": "P7ls6Ui_a6ZN",
        "outputId": "46e91619-d446-43d3-9c2c-e6577c351a87",
        "colab": {
          "base_uri": "https://localhost:8080/",
          "height": 434
        }
      },
      "execution_count": 103,
      "outputs": [
        {
          "output_type": "display_data",
          "data": {
            "text/plain": [
              "<Figure size 720x504 with 1 Axes>"
            ],
            "image/png": "[encoded data removed]"
          },
          "metadata": {}
        }
      ]
    },
    {
      "cell_type": "code",
      "source": [
        "mae_2 = tf.keras.metrics.mean_absolute_error(y_test, y_pred.ravel())\n",
        "mse_2 = tf.keras.metrics.mean_squared_error(y_test, y_pred.ravel())\n",
        "print(mae_2.numpy(), mse_2.numpy())"
      ],
      "metadata": {
        "id": "al4A0Z02btCb",
        "outputId": "73955e7e-50c8-4a61-f747-bec6d31207e2",
        "colab": {
          "base_uri": "https://localhost:8080/"
        }
      },
      "execution_count": 104,
      "outputs": [
        {
          "output_type": "stream",
          "name": "stdout",
          "text": [
            "1.0952232 1.583376\n"
          ]
        }
      ]
    },
    {
      "cell_type": "code",
      "source": [
        "## Model-3\n",
        "model_3 = tf.keras.Sequential([\n",
        "                               tf.keras.layers.Dense(500, input_shape=[1]),\n",
        "                               tf.keras.layers.Dense(1)\n",
        "])\n",
        "model_3.compile(loss=tf.keras.losses.mae,\n",
        "                optimizer=tf.keras.optimizers.Adam(lr=.01),\n",
        "                metrics='mse')\n",
        "\n",
        "model_3.fit(X_test, y_test, epochs=500, verbose=0)"
      ],
      "metadata": {
        "id": "_ZPey4AKcDLn",
        "outputId": "f3ed86c2-b3f3-44f4-c5ef-57badba5365b",
        "colab": {
          "base_uri": "https://localhost:8080/"
        }
      },
      "execution_count": 106,
      "outputs": [
        {
          "output_type": "stream",
          "name": "stderr",
          "text": [
            "/usr/local/lib/python3.7/dist-packages/keras/optimizer_v2/adam.py:105: UserWarning: The `lr` argument is deprecated, use `learning_rate` instead.\n",
            "  super(Adam, self).__init__(name, **kwargs)\n"
          ]
        },
        {
          "output_type": "execute_result",
          "data": {
            "text/plain": [
              "<keras.callbacks.History at 0x7f008acc9dd0>"
            ]
          },
          "metadata": {},
          "execution_count": 106
        }
      ]
    },
    {
      "cell_type": "code",
      "source": [
        "model_3.summary()"
      ],
      "metadata": {
        "id": "3vggBwiVegom",
        "outputId": "7c60df8e-d673-4e35-9ac6-88d4539979ff",
        "colab": {
          "base_uri": "https://localhost:8080/"
        }
      },
      "execution_count": 108,
      "outputs": [
        {
          "output_type": "stream",
          "name": "stdout",
          "text": [
            "Model: \"sequential_21\"\n",
            "_________________________________________________________________\n",
            " Layer (type)                Output Shape              Param #   \n",
            "=================================================================\n",
            " dense_45 (Dense)            (None, 500)               1000      \n",
            "                                                                 \n",
            " dense_46 (Dense)            (None, 1)                 501       \n",
            "                                                                 \n",
            "=================================================================\n",
            "Total params: 1,501\n",
            "Trainable params: 1,501\n",
            "Non-trainable params: 0\n",
            "_________________________________________________________________\n"
          ]
        }
      ]
    },
    {
      "cell_type": "code",
      "source": [
        "y_pred = model_3.predict(X_test)\n",
        "plot_predictions(prediction=y_pred.ravel())"
      ],
      "metadata": {
        "id": "J2j17vtkhJr7",
        "outputId": "2fc30ea7-6720-4e40-ec15-4572cbd1c41a",
        "colab": {
          "base_uri": "https://localhost:8080/",
          "height": 434
        }
      },
      "execution_count": 109,
      "outputs": [
        {
          "output_type": "display_data",
          "data": {
            "text/plain": [
              "<Figure size 720x504 with 1 Axes>"
            ],
            "image/png": "[encoded data removed]"
          },
          "metadata": {}
        }
      ]
    },
    {
      "cell_type": "code",
      "source": [
        "mae_3 = tf.keras.metrics.mean_absolute_error(y_test, y_pred.ravel())\n",
        "mse_3 = tf.keras.metrics.mean_squared_error(y_test, y_pred.ravel())\n",
        "print(mae_3.numpy(), mse_3.numpy())"
      ],
      "metadata": {
        "id": "cszFAouehS9U",
        "outputId": "1615e571-46db-4d94-93b9-b8c4bcecbbea",
        "colab": {
          "base_uri": "https://localhost:8080/"
        }
      },
      "execution_count": 110,
      "outputs": [
        {
          "output_type": "stream",
          "name": "stdout",
          "text": [
            "0.68876344 0.7104986\n"
          ]
        }
      ]
    },
    {
      "cell_type": "markdown",
      "source": [
        "##### we get model_3 as the best possible model with least value for mse and mae"
      ],
      "metadata": {
        "id": "96Hz4tEghfMc"
      }
    },
    {
      "cell_type": "code",
      "source": [
        ""
      ],
      "metadata": {
        "id": "nhUDCbkthX63"
      },
      "execution_count": null,
      "outputs": []
    },
    {
      "cell_type": "markdown",
      "source": [
        "### Comparing the results\n",
        "\n",
        "Use pandas to compare the results"
      ],
      "metadata": {
        "id": "kP2Y4qKViC5h"
      }
    },
    {
      "cell_type": "code",
      "source": [
        "import pandas as pd\n",
        "\n",
        "results = pd.DataFrame({'Model':['model_1', 'model_2', 'model_3'],\n",
        "                        'MSE':[mse_1.numpy(), mse_2.numpy(), mse_3.numpy()],\n",
        "                        'MAE':[mae_1.numpy(), mae_2.numpy(), mae_3.numpy()],\n",
        "                        'Epochs':[100, 100, 500]})\n",
        "results"
      ],
      "metadata": {
        "id": "ENzI7uiniFpt",
        "outputId": "1d5acae9-9113-4091-9018-b98cea1c974c",
        "colab": {
          "base_uri": "https://localhost:8080/",
          "height": 143
        }
      },
      "execution_count": 112,
      "outputs": [
        {
          "output_type": "execute_result",
          "data": {
            "text/plain": [
              "     Model         MSE        MAE  Epochs\n",
              "0  model_1  239.992920  15.452765     100\n",
              "1  model_2    1.583376   1.095223     100\n",
              "2  model_3    0.710499   0.688763     500"
            ],
            "text/html": [
              "\n",
              "  <div id=\"df-e8da726c-e41d-450b-a00a-b9eba16dd99b\">\n",
              "    <div class=\"colab-df-container\">\n",
              "      <div>\n",
              "<style scoped>\n",
              "    .dataframe tbody tr th:only-of-type {\n",
              "        vertical-align: middle;\n",
              "    }\n",
              "\n",
              "    .dataframe tbody tr th {\n",
              "        vertical-align: top;\n",
              "    }\n",
              "\n",
              "    .dataframe thead th {\n",
              "        text-align: right;\n",
              "    }\n",
              "</style>\n",
              "<table border=\"1\" class=\"dataframe\">\n",
              "  <thead>\n",
              "    <tr style=\"text-align: right;\">\n",
              "      <th></th>\n",
              "      <th>Model</th>\n",
              "      <th>MSE</th>\n",
              "      <th>MAE</th>\n",
              "      <th>Epochs</th>\n",
              "    </tr>\n",
              "  </thead>\n",
              "  <tbody>\n",
              "    <tr>\n",
              "      <th>0</th>\n",
              "      <td>model_1</td>\n",
              "      <td>239.992920</td>\n",
              "      <td>15.452765</td>\n",
              "      <td>100</td>\n",
              "    </tr>\n",
              "    <tr>\n",
              "      <th>1</th>\n",
              "      <td>model_2</td>\n",
              "      <td>1.583376</td>\n",
              "      <td>1.095223</td>\n",
              "      <td>100</td>\n",
              "    </tr>\n",
              "    <tr>\n",
              "      <th>2</th>\n",
              "      <td>model_3</td>\n",
              "      <td>0.710499</td>\n",
              "      <td>0.688763</td>\n",
              "      <td>500</td>\n",
              "    </tr>\n",
              "  </tbody>\n",
              "</table>\n",
              "</div>\n",
              "      <button class=\"colab-df-convert\" onclick=\"convertToInteractive('df-e8da726c-e41d-450b-a00a-b9eba16dd99b')\"\n",
              "              title=\"Convert this dataframe to an interactive table.\"\n",
              "              style=\"display:none;\">\n",
              "        \n",
              "  <svg xmlns=\"http://www.w3.org/2000/svg\" height=\"24px\"viewBox=\"0 0 24 24\"\n",
              "       width=\"24px\">\n",
              "    <path d=\"M0 0h24v24H0V0z\" fill=\"none\"/>\n",
              "    <path d=\"M18.56 5.44l.94 2.06.94-2.06 2.06-.94-2.06-.94-.94-2.06-.94 2.06-2.06.94zm-11 1L8.5 8.5l.94-2.06 2.06-.94-2.06-.94L8.5 2.5l-.94 2.06-2.06.94zm10 10l.94 2.06.94-2.06 2.06-.94-2.06-.94-.94-2.06-.94 2.06-2.06.94z\"/><path d=\"M17.41 7.96l-1.37-1.37c-.4-.4-.92-.59-1.43-.59-.52 0-1.04.2-1.43.59L10.3 9.45l-7.72 7.72c-.78.78-.78 2.05 0 2.83L4 21.41c.39.39.9.59 1.41.59.51 0 1.02-.2 1.41-.59l7.78-7.78 2.81-2.81c.8-.78.8-2.07 0-2.86zM5.41 20L4 18.59l7.72-7.72 1.47 1.35L5.41 20z\"/>\n",
              "  </svg>\n",
              "      </button>\n",
              "      \n",
              "  <style>\n",
              "    .colab-df-container {\n",
              "      display:flex;\n",
              "      flex-wrap:wrap;\n",
              "      gap: 12px;\n",
              "    }\n",
              "\n",
              "    .colab-df-convert {\n",
              "      background-color: #E8F0FE;\n",
              "      border: none;\n",
              "      border-radius: 50%;\n",
              "      cursor: pointer;\n",
              "      display: none;\n",
              "      fill: #1967D2;\n",
              "      height: 32px;\n",
              "      padding: 0 0 0 0;\n",
              "      width: 32px;\n",
              "    }\n",
              "\n",
              "    .colab-df-convert:hover {\n",
              "      background-color: #E2EBFA;\n",
              "      box-shadow: 0px 1px 2px rgba(60, 64, 67, 0.3), 0px 1px 3px 1px rgba(60, 64, 67, 0.15);\n",
              "      fill: #174EA6;\n",
              "    }\n",
              "\n",
              "    [theme=dark] .colab-df-convert {\n",
              "      background-color: #3B4455;\n",
              "      fill: #D2E3FC;\n",
              "    }\n",
              "\n",
              "    [theme=dark] .colab-df-convert:hover {\n",
              "      background-color: #434B5C;\n",
              "      box-shadow: 0px 1px 3px 1px rgba(0, 0, 0, 0.15);\n",
              "      filter: drop-shadow(0px 1px 2px rgba(0, 0, 0, 0.3));\n",
              "      fill: #FFFFFF;\n",
              "    }\n",
              "  </style>\n",
              "\n",
              "      <script>\n",
              "        const buttonEl =\n",
              "          document.querySelector('#df-e8da726c-e41d-450b-a00a-b9eba16dd99b button.colab-df-convert');\n",
              "        buttonEl.style.display =\n",
              "          google.colab.kernel.accessAllowed ? 'block' : 'none';\n",
              "\n",
              "        async function convertToInteractive(key) {\n",
              "          const element = document.querySelector('#df-e8da726c-e41d-450b-a00a-b9eba16dd99b');\n",
              "          const dataTable =\n",
              "            await google.colab.kernel.invokeFunction('convertToInteractive',\n",
              "                                                     [key], {});\n",
              "          if (!dataTable) return;\n",
              "\n",
              "          const docLinkHtml = 'Like what you see? Visit the ' +\n",
              "            '<a target=\"_blank\" href=https://colab.research.google.com/notebooks/data_table.ipynb>data table notebook</a>'\n",
              "            + ' to learn more about interactive tables.';\n",
              "          element.innerHTML = '';\n",
              "          dataTable['output_type'] = 'display_data';\n",
              "          await google.colab.output.renderOutput(dataTable, element);\n",
              "          const docLink = document.createElement('div');\n",
              "          docLink.innerHTML = docLinkHtml;\n",
              "          element.appendChild(docLink);\n",
              "        }\n",
              "      </script>\n",
              "    </div>\n",
              "  </div>\n",
              "  "
            ]
          },
          "metadata": {},
          "execution_count": 112
        }
      ]
    },
    {
      "cell_type": "markdown",
      "source": [
        "**`model_3` performed the best**"
      ],
      "metadata": {
        "id": "DkZEleJSjajn"
      }
    },
    {
      "cell_type": "markdown",
      "source": [
        "### Saving our models"
      ],
      "metadata": {
        "id": "c8fosdIbkEdg"
      }
    },
    {
      "cell_type": "code",
      "source": [
        ""
      ],
      "metadata": {
        "id": "4Tqc19XOi_LW"
      },
      "execution_count": null,
      "outputs": []
    }
  ]
}