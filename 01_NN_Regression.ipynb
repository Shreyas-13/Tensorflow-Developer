{
  "nbformat": 4,
  "nbformat_minor": 0,
  "metadata": {
    "colab": {
      "name": "01_NN_Regression.ipynb",
      "provenance": [],
      "authorship_tag": "ABX9TyNYOrlzLV6YMOov4v+qiewq",
      "include_colab_link": true
    },
    "kernelspec": {
      "name": "python3",
      "display_name": "Python 3"
    },
    "language_info": {
      "name": "python"
    }
  },
  "cells": [
    {
      "cell_type": "markdown",
      "metadata": {
        "id": "view-in-github",
        "colab_type": "text"
      },
      "source": [
        "<a href=\"https://colab.research.google.com/github/Shreyas-13/Tensorflow-Developer/blob/main/01_NN_Regression.ipynb\" target=\"_parent\"><img src=\"https://colab.research.google.com/assets/colab-badge.svg\" alt=\"Open In Colab\"/></a>"
      ]
    },
    {
      "cell_type": "code",
      "execution_count": 1,
      "metadata": {
        "colab": {
          "base_uri": "https://localhost:8080/"
        },
        "id": "ZKvxgnv9VS73",
        "outputId": "31283da6-1116-494e-8818-64fb00b0b0f6"
      },
      "outputs": [
        {
          "output_type": "stream",
          "name": "stdout",
          "text": [
            "2.8.2\n"
          ]
        }
      ],
      "source": [
        "import tensorflow as tf\n",
        "\n",
        "print(tf.__version__)"
      ]
    },
    {
      "cell_type": "markdown",
      "source": [
        "## Introduction to Regression using TF\n",
        "\n",
        "Predicting the value of dependent variable based on some independent variables"
      ],
      "metadata": {
        "id": "yhz30TH0VeXM"
      }
    },
    {
      "cell_type": "markdown",
      "source": [
        "### Creating Data to Fit"
      ],
      "metadata": {
        "id": "gsCdsfwnWEjo"
      }
    },
    {
      "cell_type": "code",
      "source": [
        "import numpy as np\n",
        "import matplotlib.pyplot as plt\n",
        "import seaborn as sns\n",
        "\n",
        "sns.set_theme(style=\"whitegrid\")\n",
        "\n",
        "X = np.arange(-7.0, 15.0, 3.0)\n",
        "y = np.arange(3, 25, 3)\n",
        "\n",
        "sns.scatterplot(x=X, y=y)"
      ],
      "metadata": {
        "colab": {
          "base_uri": "https://localhost:8080/",
          "height": 72
        },
        "id": "WLZ-RRiEVsx1",
        "outputId": "5543f0a2-86dd-4929-a08b-a714888cfed7"
      },
      "execution_count": 2,
      "outputs": [
        {
          "output_type": "execute_result",
          "data": {
            "text/plain": [
              "<matplotlib.axes._subplots.AxesSubplot at 0x7f1cddfba690>"
            ]
          },
          "metadata": {},
          "execution_count": 2
        },
        {
          "output_type": "display_data",
          "data": {
            "text/plain": [
              "<Figure size 432x288 with 1 Axes>"
            ],
            "image/png": "[encoded data removed]"
          },
          "metadata": {}
        }
      ]
    },
    {
      "cell_type": "markdown",
      "source": [
        "### Input And Output Shape\n",
        "\n",
        "One of the most important concepts when working with neural networks are the `input` and `output` shapes.\n",
        "\n",
        "The input shape is the shape of your data that goes into the model.\n",
        "\n",
        "The output shape is the shape of your data you want to come out of your model.\n",
        "\n",
        "These will differ depending on the problem you're working on.\n",
        "\n",
        "Neural networks accept numbers and output numbers. These numbers are typically represented as tensors (or arrays).\n",
        "\n",
        "Before, we created data using NumPy arrays, but we could do the same with tensors."
      ],
      "metadata": {
        "id": "gmaxYZdDYNeX"
      }
    },
    {
      "cell_type": "code",
      "source": [
        "# Example input and output shapes of a regresson model\n",
        "house_info = tf.constant([\"bedroom\", \"bathroom\", \"garage\"])\n",
        "house_price = tf.constant([939700])\n",
        "house_info, house_price"
      ],
      "metadata": {
        "colab": {
          "base_uri": "https://localhost:8080/"
        },
        "id": "aDGy_ndhXUWu",
        "outputId": "97b9198c-5ed7-469f-8594-7fa30f6b9d62"
      },
      "execution_count": 3,
      "outputs": [
        {
          "output_type": "execute_result",
          "data": {
            "text/plain": [
              "(<tf.Tensor: shape=(3,), dtype=string, numpy=array([b'bedroom', b'bathroom', b'garage'], dtype=object)>,\n",
              " <tf.Tensor: shape=(1,), dtype=int32, numpy=array([939700], dtype=int32)>)"
            ]
          },
          "metadata": {},
          "execution_count": 3
        }
      ]
    },
    {
      "cell_type": "markdown",
      "source": [
        "Here the input shape is `(3, )` and the output shape is `(1, )`"
      ],
      "metadata": {
        "id": "9X7BEzOeZPoR"
      }
    },
    {
      "cell_type": "markdown",
      "source": [
        "\n",
        "Our goal here will be to use X to predict y.\n",
        "\n",
        "So our input will be X and our output will be y.\n",
        "\n",
        "Knowing this, what do you think our input and output shapes will be?\n",
        "\n",
        "Let's take a look.\n"
      ],
      "metadata": {
        "id": "08TZj_I3Zjva"
      }
    },
    {
      "cell_type": "code",
      "source": [
        "# Take a single example of X\n",
        "input_shape = X[0].shape \n",
        "\n",
        "# Take a single example of y\n",
        "output_shape = y[0].shape\n",
        "\n",
        "input_shape, output_shape # these are both scalars (no shape)\n"
      ],
      "metadata": {
        "colab": {
          "base_uri": "https://localhost:8080/"
        },
        "id": "LlOJc1saZLPA",
        "outputId": "8d29955c-0bf4-45d8-e999-bb7e903daacc"
      },
      "execution_count": 4,
      "outputs": [
        {
          "output_type": "execute_result",
          "data": {
            "text/plain": [
              "((), ())"
            ]
          },
          "metadata": {},
          "execution_count": 4
        }
      ]
    },
    {
      "cell_type": "markdown",
      "source": [
        "\n",
        "\n",
        "Huh?\n",
        "\n",
        "From this it seems our inputs and outputs have no shape?\n",
        "\n",
        "How could that be?\n",
        "\n",
        "It's because no matter what kind of data we pass to our model, it's always going to take as input and return as ouput some kind of tensor.\n",
        "\n",
        "But in our case because of our dataset (only 2 small lists of numbers), we're looking at a special kind of tensor, more specifically a rank 0 tensor or a scalar.\n"
      ],
      "metadata": {
        "id": "kz76i4voZxpU"
      }
    },
    {
      "cell_type": "markdown",
      "source": [
        "In our case, we're trying to build a model to predict the pattern between `X[0]` equalling `-7.0` and `y[0]` equalling `3.0.`\n",
        "\n",
        "So now we get our answer, we're trying to use `1 X` value to predict `1 y` value.\n",
        "\n",
        "You might be thinking, \"this seems pretty complicated for just predicting a straight line...\".\n",
        "\n",
        "And you'd be right.\n",
        "\n",
        "But the concepts we're covering here, the concepts of input and output shapes to a model are fundamental.\n",
        "\n",
        "In fact, they're probably two of the things you'll spend the most time on when you work with neural networks: making sure your input and outputs are in the correct shape."
      ],
      "metadata": {
        "id": "onQgcw03aI8-"
      }
    },
    {
      "cell_type": "code",
      "source": [
        "##Turn numpy array to tensors\n",
        "\n",
        "X = tf.constant(X)\n",
        "y = tf.constant(y)\n",
        "\n",
        "X,y"
      ],
      "metadata": {
        "colab": {
          "base_uri": "https://localhost:8080/"
        },
        "id": "EUCXpPVbZq0a",
        "outputId": "fa432cd5-0c36-4541-a03f-6f60e4ba5ab9"
      },
      "execution_count": 5,
      "outputs": [
        {
          "output_type": "execute_result",
          "data": {
            "text/plain": [
              "(<tf.Tensor: shape=(8,), dtype=float64, numpy=array([-7., -4., -1.,  2.,  5.,  8., 11., 14.])>,\n",
              " <tf.Tensor: shape=(8,), dtype=int64, numpy=array([ 3,  6,  9, 12, 15, 18, 21, 24])>)"
            ]
          },
          "metadata": {},
          "execution_count": 5
        }
      ]
    },
    {
      "cell_type": "markdown",
      "source": [
        "We are making use on `1 X` value to predict `1 y` value"
      ],
      "metadata": {
        "id": "pkygDKYda1sU"
      }
    },
    {
      "cell_type": "markdown",
      "source": [
        "### Steps in modelling with TensorFlow\n",
        "\n",
        "1. **Creating the model** - Define the input, output and hidden layers.\n",
        "\n",
        "2. **Compile the model** - Define the loss function(how wrong our model is), the optimizer(how to improve the model) and the evaluation metrics\n",
        "\n",
        "3. **Fitting a model** - Allowing the model to find patterns between X and y"
      ],
      "metadata": {
        "id": "SQfLEKYgbA4j"
      }
    },
    {
      "cell_type": "code",
      "source": [
        "tf.random.set_seed(42)\n",
        "\n",
        "model = tf.keras.Sequential([\n",
        "                             tf.keras.layers.Dense(units = 1, input_shape=[1])\n",
        "])\n",
        "\n",
        "model.compile(loss = tf.keras.losses.mae,\n",
        "              optimizer = tf.keras.optimizers.SGD(),\n",
        "              metrics=['mae'])\n",
        "\n",
        "model.fit(X,y, epochs=6)\n",
        "\n",
        "'''Another Way:\n",
        "model = tf.keras.Sequential()\n",
        "model.add(tf.keras.layers.Dense(1,input_shape=[1]))\n",
        "##We can keep on adding multiple layers\n",
        "model.compile(.....)\n",
        "model.fit(......)\n",
        "'''\n",
        "print('Prediction = ', model.predict([17]))"
      ],
      "metadata": {
        "colab": {
          "base_uri": "https://localhost:8080/"
        },
        "id": "CqgfSgeEaxB2",
        "outputId": "7fea914b-494e-481d-fc46-84be3f5806eb"
      },
      "execution_count": 6,
      "outputs": [
        {
          "output_type": "stream",
          "name": "stdout",
          "text": [
            "Epoch 1/6\n",
            "1/1 [==============================] - 1s 508ms/step - loss: 11.5048 - mae: 11.5048\n",
            "Epoch 2/6\n",
            "1/1 [==============================] - 0s 10ms/step - loss: 11.3723 - mae: 11.3723\n",
            "Epoch 3/6\n",
            "1/1 [==============================] - 0s 9ms/step - loss: 11.2398 - mae: 11.2398\n",
            "Epoch 4/6\n",
            "1/1 [==============================] - 0s 9ms/step - loss: 11.1073 - mae: 11.1073\n",
            "Epoch 5/6\n",
            "1/1 [==============================] - 0s 5ms/step - loss: 10.9748 - mae: 10.9748\n",
            "Epoch 6/6\n",
            "1/1 [==============================] - 0s 5ms/step - loss: 10.8423 - mae: 10.8423\n",
            "Prediction =  [[13.321021]]\n"
          ]
        }
      ]
    },
    {
      "cell_type": "markdown",
      "source": [
        "We have set `units = 1` coz we are making use of a single neuron to make prediction for each input "
      ],
      "metadata": {
        "id": "b-DCN1OUpR8T"
      }
    },
    {
      "cell_type": "code",
      "source": [
        "##Trying to fit the same data using Linear Regression\n",
        "\n",
        "from sklearn.linear_model import LinearRegression\n",
        "\n",
        "lr = LinearRegression()\n",
        "lr.fit(X.numpy().reshape(-1,1),y)\n",
        "print('Prediction = ', lr.predict([[17.0]]))\n",
        "print('Coefficient- ', lr.coef_, 'Intercept- ', lr.intercept_)"
      ],
      "metadata": {
        "colab": {
          "base_uri": "https://localhost:8080/"
        },
        "id": "jI0Fv7Y8m7r_",
        "outputId": "63a23ff1-5e19-4211-e715-c3ebbd3259b9"
      },
      "execution_count": 7,
      "outputs": [
        {
          "output_type": "stream",
          "name": "stdout",
          "text": [
            "Prediction =  [27.]\n",
            "Coefficient-  [1.] Intercept-  10.0\n"
          ]
        }
      ]
    },
    {
      "cell_type": "markdown",
      "source": [
        "### Improving our Deep Learning Model\n",
        "\n",
        "1. **Creating a model** - Add more layers, increase hidden units and change the activation function of each layer.\n",
        "\n",
        "2. **Compiling a model** - Change optimization function or perhaps the learning rate.\n",
        "\n",
        "3. **Fitting the model** - Run for more epochs or add more data for training"
      ],
      "metadata": {
        "id": "ikGKOr_9sii2"
      }
    },
    {
      "cell_type": "code",
      "source": [
        "model = tf.keras.Sequential([\n",
        "                             tf.keras.layers.Dense(1, input_shape=[1]),\n",
        "                             tf.keras.layers.Dense(100, activation='relu'),\n",
        "                             tf.keras.layers.Dense(100, activation='relu'),\n",
        "                            #  tf.keras.layers.Dense(100, activation='relu'),\n",
        "                             tf.keras.layers.Dense(1)\n",
        "])\n",
        "\n",
        "model.compile(loss = tf.keras.losses.mean_squared_error,\n",
        "              optimizer=tf.keras.optimizers.Adam(lr=.01),\n",
        "              metrics=['mse']\n",
        "              )\n",
        "\n",
        "model.fit(X, y, epochs=100)"
      ],
      "metadata": {
        "id": "EbdalU07rUnl",
        "outputId": "1a979fb9-7b1e-47de-f09b-bbc9d661b977",
        "colab": {
          "base_uri": "https://localhost:8080/"
        }
      },
      "execution_count": 25,
      "outputs": [
        {
          "output_type": "stream",
          "name": "stdout",
          "text": [
            "Epoch 1/100\n"
          ]
        },
        {
          "output_type": "stream",
          "name": "stderr",
          "text": [
            "/usr/local/lib/python3.7/dist-packages/keras/optimizer_v2/adam.py:105: UserWarning: The `lr` argument is deprecated, use `learning_rate` instead.\n",
            "  super(Adam, self).__init__(name, **kwargs)\n"
          ]
        },
        {
          "output_type": "stream",
          "name": "stdout",
          "text": [
            "1/1 [==============================] - 1s 1s/step - loss: 232.3767 - mse: 232.3767\n",
            "Epoch 2/100\n",
            "1/1 [==============================] - 0s 16ms/step - loss: 199.3682 - mse: 199.3682\n",
            "Epoch 3/100\n",
            "1/1 [==============================] - 0s 9ms/step - loss: 173.3648 - mse: 173.3648\n",
            "Epoch 4/100\n",
            "1/1 [==============================] - 0s 9ms/step - loss: 146.3847 - mse: 146.3847\n",
            "Epoch 5/100\n",
            "1/1 [==============================] - 0s 9ms/step - loss: 117.3560 - mse: 117.3560\n",
            "Epoch 6/100\n",
            "1/1 [==============================] - 0s 10ms/step - loss: 86.4743 - mse: 86.4743\n",
            "Epoch 7/100\n",
            "1/1 [==============================] - 0s 10ms/step - loss: 56.1448 - mse: 56.1448\n",
            "Epoch 8/100\n",
            "1/1 [==============================] - 0s 18ms/step - loss: 31.1385 - mse: 31.1385\n",
            "Epoch 9/100\n",
            "1/1 [==============================] - 0s 17ms/step - loss: 18.1123 - mse: 18.1123\n",
            "Epoch 10/100\n",
            "1/1 [==============================] - 0s 16ms/step - loss: 23.9864 - mse: 23.9864\n",
            "Epoch 11/100\n",
            "1/1 [==============================] - 0s 15ms/step - loss: 41.8041 - mse: 41.8041\n",
            "Epoch 12/100\n",
            "1/1 [==============================] - 0s 21ms/step - loss: 50.3056 - mse: 50.3056\n",
            "Epoch 13/100\n",
            "1/1 [==============================] - 0s 16ms/step - loss: 44.8289 - mse: 44.8289\n",
            "Epoch 14/100\n",
            "1/1 [==============================] - 0s 16ms/step - loss: 32.5151 - mse: 32.5151\n",
            "Epoch 15/100\n",
            "1/1 [==============================] - 0s 16ms/step - loss: 21.4126 - mse: 21.4126\n",
            "Epoch 16/100\n",
            "1/1 [==============================] - 0s 17ms/step - loss: 14.0571 - mse: 14.0571\n",
            "Epoch 17/100\n",
            "1/1 [==============================] - 0s 9ms/step - loss: 11.5650 - mse: 11.5650\n",
            "Epoch 18/100\n",
            "1/1 [==============================] - 0s 11ms/step - loss: 12.1508 - mse: 12.1508\n",
            "Epoch 19/100\n",
            "1/1 [==============================] - 0s 10ms/step - loss: 13.8550 - mse: 13.8550\n",
            "Epoch 20/100\n",
            "1/1 [==============================] - 0s 10ms/step - loss: 15.0637 - mse: 15.0637\n",
            "Epoch 21/100\n",
            "1/1 [==============================] - 0s 12ms/step - loss: 14.8734 - mse: 14.8734\n",
            "Epoch 22/100\n",
            "1/1 [==============================] - 0s 15ms/step - loss: 13.0480 - mse: 13.0480\n",
            "Epoch 23/100\n",
            "1/1 [==============================] - 0s 9ms/step - loss: 10.0730 - mse: 10.0730\n",
            "Epoch 24/100\n",
            "1/1 [==============================] - 0s 8ms/step - loss: 6.8040 - mse: 6.8040\n",
            "Epoch 25/100\n",
            "1/1 [==============================] - 0s 8ms/step - loss: 4.3338 - mse: 4.3338\n",
            "Epoch 26/100\n",
            "1/1 [==============================] - 0s 9ms/step - loss: 3.6260 - mse: 3.6260\n",
            "Epoch 27/100\n",
            "1/1 [==============================] - 0s 7ms/step - loss: 4.7718 - mse: 4.7718\n",
            "Epoch 28/100\n",
            "1/1 [==============================] - 0s 13ms/step - loss: 6.2339 - mse: 6.2339\n",
            "Epoch 29/100\n",
            "1/1 [==============================] - 0s 15ms/step - loss: 6.1685 - mse: 6.1685\n",
            "Epoch 30/100\n",
            "1/1 [==============================] - 0s 15ms/step - loss: 4.6023 - mse: 4.6023\n",
            "Epoch 31/100\n",
            "1/1 [==============================] - 0s 8ms/step - loss: 2.7689 - mse: 2.7689\n",
            "Epoch 32/100\n",
            "1/1 [==============================] - 0s 12ms/step - loss: 1.6329 - mse: 1.6329\n",
            "Epoch 33/100\n",
            "1/1 [==============================] - 0s 11ms/step - loss: 1.4562 - mse: 1.4562\n",
            "Epoch 34/100\n",
            "1/1 [==============================] - 0s 8ms/step - loss: 1.8362 - mse: 1.8362\n",
            "Epoch 35/100\n",
            "1/1 [==============================] - 0s 8ms/step - loss: 2.2002 - mse: 2.2002\n",
            "Epoch 36/100\n",
            "1/1 [==============================] - 0s 9ms/step - loss: 2.1604 - mse: 2.1604\n",
            "Epoch 37/100\n",
            "1/1 [==============================] - 0s 15ms/step - loss: 1.6626 - mse: 1.6626\n",
            "Epoch 38/100\n",
            "1/1 [==============================] - 0s 9ms/step - loss: 0.9470 - mse: 0.9470\n",
            "Epoch 39/100\n",
            "1/1 [==============================] - 0s 9ms/step - loss: 0.4202 - mse: 0.4202\n",
            "Epoch 40/100\n",
            "1/1 [==============================] - 0s 16ms/step - loss: 0.4149 - mse: 0.4149\n",
            "Epoch 41/100\n",
            "1/1 [==============================] - 0s 9ms/step - loss: 0.8212 - mse: 0.8212\n",
            "Epoch 42/100\n",
            "1/1 [==============================] - 0s 8ms/step - loss: 1.1015 - mse: 1.1015\n",
            "Epoch 43/100\n",
            "1/1 [==============================] - 0s 8ms/step - loss: 0.9129 - mse: 0.9129\n",
            "Epoch 44/100\n",
            "1/1 [==============================] - 0s 10ms/step - loss: 0.4732 - mse: 0.4732\n",
            "Epoch 45/100\n",
            "1/1 [==============================] - 0s 9ms/step - loss: 0.2037 - mse: 0.2037\n",
            "Epoch 46/100\n",
            "1/1 [==============================] - 0s 12ms/step - loss: 0.2461 - mse: 0.2461\n",
            "Epoch 47/100\n",
            "1/1 [==============================] - 0s 11ms/step - loss: 0.4285 - mse: 0.4285\n",
            "Epoch 48/100\n",
            "1/1 [==============================] - 0s 14ms/step - loss: 0.5072 - mse: 0.5072\n",
            "Epoch 49/100\n",
            "1/1 [==============================] - 0s 12ms/step - loss: 0.3904 - mse: 0.3904\n",
            "Epoch 50/100\n",
            "1/1 [==============================] - 0s 12ms/step - loss: 0.1819 - mse: 0.1819\n",
            "Epoch 51/100\n",
            "1/1 [==============================] - 0s 11ms/step - loss: 0.0636 - mse: 0.0636\n",
            "Epoch 52/100\n",
            "1/1 [==============================] - 0s 16ms/step - loss: 0.1277 - mse: 0.1277\n",
            "Epoch 53/100\n",
            "1/1 [==============================] - 0s 9ms/step - loss: 0.2709 - mse: 0.2709\n",
            "Epoch 54/100\n",
            "1/1 [==============================] - 0s 8ms/step - loss: 0.3105 - mse: 0.3105\n",
            "Epoch 55/100\n",
            "1/1 [==============================] - 0s 9ms/step - loss: 0.2029 - mse: 0.2029\n",
            "Epoch 56/100\n",
            "1/1 [==============================] - 0s 15ms/step - loss: 0.0729 - mse: 0.0729\n",
            "Epoch 57/100\n",
            "1/1 [==============================] - 0s 42ms/step - loss: 0.0422 - mse: 0.0422\n",
            "Epoch 58/100\n",
            "1/1 [==============================] - 0s 12ms/step - loss: 0.1066 - mse: 0.1066\n",
            "Epoch 59/100\n",
            "1/1 [==============================] - 0s 17ms/step - loss: 0.1732 - mse: 0.1732\n",
            "Epoch 60/100\n",
            "1/1 [==============================] - 0s 16ms/step - loss: 0.1699 - mse: 0.1699\n",
            "Epoch 61/100\n",
            "1/1 [==============================] - 0s 11ms/step - loss: 0.1069 - mse: 0.1069\n",
            "Epoch 62/100\n",
            "1/1 [==============================] - 0s 19ms/step - loss: 0.0499 - mse: 0.0499\n",
            "Epoch 63/100\n",
            "1/1 [==============================] - 0s 13ms/step - loss: 0.0557 - mse: 0.0557\n",
            "Epoch 64/100\n",
            "1/1 [==============================] - 0s 8ms/step - loss: 0.0962 - mse: 0.0962\n",
            "Epoch 65/100\n",
            "1/1 [==============================] - 0s 8ms/step - loss: 0.1109 - mse: 0.1109\n",
            "Epoch 66/100\n",
            "1/1 [==============================] - 0s 8ms/step - loss: 0.0796 - mse: 0.0796\n",
            "Epoch 67/100\n",
            "1/1 [==============================] - 0s 8ms/step - loss: 0.0386 - mse: 0.0386\n",
            "Epoch 68/100\n",
            "1/1 [==============================] - 0s 9ms/step - loss: 0.0283 - mse: 0.0283\n",
            "Epoch 69/100\n",
            "1/1 [==============================] - 0s 8ms/step - loss: 0.0487 - mse: 0.0487\n",
            "Epoch 70/100\n",
            "1/1 [==============================] - 0s 17ms/step - loss: 0.0682 - mse: 0.0682\n",
            "Epoch 71/100\n",
            "1/1 [==============================] - 0s 19ms/step - loss: 0.0626 - mse: 0.0626\n",
            "Epoch 72/100\n",
            "1/1 [==============================] - 0s 14ms/step - loss: 0.0386 - mse: 0.0386\n",
            "Epoch 73/100\n",
            "1/1 [==============================] - 0s 10ms/step - loss: 0.0209 - mse: 0.0209\n",
            "Epoch 74/100\n",
            "1/1 [==============================] - 0s 12ms/step - loss: 0.0235 - mse: 0.0235\n",
            "Epoch 75/100\n",
            "1/1 [==============================] - 0s 15ms/step - loss: 0.0358 - mse: 0.0358\n",
            "Epoch 76/100\n",
            "1/1 [==============================] - 0s 20ms/step - loss: 0.0389 - mse: 0.0389\n",
            "Epoch 77/100\n",
            "1/1 [==============================] - 0s 22ms/step - loss: 0.0285 - mse: 0.0285\n",
            "Epoch 78/100\n",
            "1/1 [==============================] - 0s 10ms/step - loss: 0.0175 - mse: 0.0175\n",
            "Epoch 79/100\n",
            "1/1 [==============================] - 0s 12ms/step - loss: 0.0168 - mse: 0.0168\n",
            "Epoch 80/100\n",
            "1/1 [==============================] - 0s 13ms/step - loss: 0.0229 - mse: 0.0229\n",
            "Epoch 81/100\n",
            "1/1 [==============================] - 0s 19ms/step - loss: 0.0254 - mse: 0.0254\n",
            "Epoch 82/100\n",
            "1/1 [==============================] - 0s 15ms/step - loss: 0.0206 - mse: 0.0206\n",
            "Epoch 83/100\n",
            "1/1 [==============================] - 0s 8ms/step - loss: 0.0147 - mse: 0.0147\n",
            "Epoch 84/100\n",
            "1/1 [==============================] - 0s 9ms/step - loss: 0.0143 - mse: 0.0143\n",
            "Epoch 85/100\n",
            "1/1 [==============================] - 0s 8ms/step - loss: 0.0176 - mse: 0.0176\n",
            "Epoch 86/100\n",
            "1/1 [==============================] - 0s 11ms/step - loss: 0.0185 - mse: 0.0185\n",
            "Epoch 87/100\n",
            "1/1 [==============================] - 0s 8ms/step - loss: 0.0152 - mse: 0.0152\n",
            "Epoch 88/100\n",
            "1/1 [==============================] - 0s 10ms/step - loss: 0.0115 - mse: 0.0115\n",
            "Epoch 89/100\n",
            "1/1 [==============================] - 0s 11ms/step - loss: 0.0115 - mse: 0.0115\n",
            "Epoch 90/100\n",
            "1/1 [==============================] - 0s 15ms/step - loss: 0.0139 - mse: 0.0139\n",
            "Epoch 91/100\n",
            "1/1 [==============================] - 0s 10ms/step - loss: 0.0146 - mse: 0.0146\n",
            "Epoch 92/100\n",
            "1/1 [==============================] - 0s 9ms/step - loss: 0.0124 - mse: 0.0124\n",
            "Epoch 93/100\n",
            "1/1 [==============================] - 0s 8ms/step - loss: 0.0096 - mse: 0.0096\n",
            "Epoch 94/100\n",
            "1/1 [==============================] - 0s 12ms/step - loss: 0.0091 - mse: 0.0091\n",
            "Epoch 95/100\n",
            "1/1 [==============================] - 0s 13ms/step - loss: 0.0106 - mse: 0.0106\n",
            "Epoch 96/100\n",
            "1/1 [==============================] - 0s 8ms/step - loss: 0.0115 - mse: 0.0115\n",
            "Epoch 97/100\n",
            "1/1 [==============================] - 0s 8ms/step - loss: 0.0102 - mse: 0.0102\n",
            "Epoch 98/100\n",
            "1/1 [==============================] - 0s 9ms/step - loss: 0.0083 - mse: 0.0083\n",
            "Epoch 99/100\n",
            "1/1 [==============================] - 0s 8ms/step - loss: 0.0077 - mse: 0.0077\n",
            "Epoch 100/100\n",
            "1/1 [==============================] - 0s 12ms/step - loss: 0.0083 - mse: 0.0083\n"
          ]
        },
        {
          "output_type": "execute_result",
          "data": {
            "text/plain": [
              "<keras.callbacks.History at 0x7f1cd01e2290>"
            ]
          },
          "metadata": {},
          "execution_count": 25
        }
      ]
    },
    {
      "cell_type": "code",
      "source": [
        "X, y"
      ],
      "metadata": {
        "id": "lbTYhcdIrXwJ",
        "outputId": "a381fcdd-9a67-48f2-99cd-52d73507e76c",
        "colab": {
          "base_uri": "https://localhost:8080/"
        }
      },
      "execution_count": 26,
      "outputs": [
        {
          "output_type": "execute_result",
          "data": {
            "text/plain": [
              "(<tf.Tensor: shape=(8,), dtype=float64, numpy=array([-7., -4., -1.,  2.,  5.,  8., 11., 14.])>,\n",
              " <tf.Tensor: shape=(8,), dtype=int64, numpy=array([ 3,  6,  9, 12, 15, 18, 21, 24])>)"
            ]
          },
          "metadata": {},
          "execution_count": 26
        }
      ]
    },
    {
      "cell_type": "code",
      "source": [
        "model.predict([17.0])"
      ],
      "metadata": {
        "id": "_Gq9uq2YrmQZ",
        "outputId": "ebdb4bd2-39ba-442a-f57d-ef05f85b3d24",
        "colab": {
          "base_uri": "https://localhost:8080/"
        }
      },
      "execution_count": 27,
      "outputs": [
        {
          "output_type": "stream",
          "name": "stdout",
          "text": [
            "WARNING:tensorflow:5 out of the last 5 calls to <function Model.make_predict_function.<locals>.predict_function at 0x7f1ccd9538c0> triggered tf.function retracing. Tracing is expensive and the excessive number of tracings could be due to (1) creating @tf.function repeatedly in a loop, (2) passing tensors with different shapes, (3) passing Python objects instead of tensors. For (1), please define your @tf.function outside of the loop. For (2), @tf.function has experimental_relax_shapes=True option that relaxes argument shapes that can avoid unnecessary retracing. For (3), please refer to https://www.tensorflow.org/guide/function#controlling_retracing and https://www.tensorflow.org/api_docs/python/tf/function for  more details.\n"
          ]
        },
        {
          "output_type": "execute_result",
          "data": {
            "text/plain": [
              "array([[27.078823]], dtype=float32)"
            ]
          },
          "metadata": {},
          "execution_count": 27
        }
      ]
    },
    {
      "cell_type": "markdown",
      "source": [
        "### Evaluating a model"
      ],
      "metadata": {
        "id": "oLwHNFApsYB5"
      }
    },
    {
      "cell_type": "code",
      "source": [
        ""
      ],
      "metadata": {
        "id": "UANYr3_0u_2T"
      },
      "execution_count": null,
      "outputs": []
    }
  ]
}