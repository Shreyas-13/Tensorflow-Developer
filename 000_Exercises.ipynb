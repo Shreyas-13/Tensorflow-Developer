{
  "nbformat": 4,
  "nbformat_minor": 0,
  "metadata": {
    "colab": {
      "name": "000_Exercises.ipynb",
      "provenance": [],
      "authorship_tag": "ABX9TyOVLKx6od8Y8k7FGlgjIBFs",
      "include_colab_link": true
    },
    "kernelspec": {
      "name": "python3",
      "display_name": "Python 3"
    },
    "language_info": {
      "name": "python"
    }
  },
  "cells": [
    {
      "cell_type": "markdown",
      "metadata": {
        "id": "view-in-github",
        "colab_type": "text"
      },
      "source": [
        "<a href=\"https://colab.research.google.com/github/Shreyas-13/Tensorflow-Developer/blob/main/000_Exercises.ipynb\" target=\"_parent\"><img src=\"https://colab.research.google.com/assets/colab-badge.svg\" alt=\"Open In Colab\"/></a>"
      ]
    },
    {
      "cell_type": "markdown",
      "source": [
        "### 🛠: 00. TensorFlow Fundamentals Exercises"
      ],
      "metadata": {
        "id": "TlkQpE_RdDD0"
      }
    },
    {
      "cell_type": "markdown",
      "source": [
        "#### 1. Create a vector, scalar, matrix and tensor with values of your choosing using tf.constant()"
      ],
      "metadata": {
        "id": "hzxW6K6qdOaN"
      }
    },
    {
      "cell_type": "code",
      "source": [
        "import tensorflow as tf\n",
        "import numpy as np\n",
        "\n",
        "scalar = tf.constant(np.random.randint(1,10))\n",
        "\n",
        "vector = tf.constant(np.arange(1,10))\n",
        "\n",
        "matrix = tf.constant(np.arange(1,10).reshape(3,3))\n",
        "\n",
        "tensor = tf.constant(np.arange(1,19).reshape(2,3,3))\n",
        "\n",
        "print(scalar)\n",
        "print(vector)\n",
        "print(matrix)\n",
        "print(tensor)"
      ],
      "metadata": {
        "id": "LrIXbpgDdELK"
      },
      "execution_count": null,
      "outputs": []
    },
    {
      "cell_type": "markdown",
      "source": [
        "#### 2. Find the shape, rank and size of the tensors you created in 1"
      ],
      "metadata": {
        "id": "29QKjQtfeW4E"
      }
    },
    {
      "cell_type": "code",
      "source": [
        "def func(tensor):\n",
        "  print('Shape = ', tensor.shape)\n",
        "  print('Rank = ', tensor.ndim)\n",
        "  print('Size = ', tf.size(tensor))\n",
        "\n",
        "func(tensor)"
      ],
      "metadata": {
        "colab": {
          "base_uri": "https://localhost:8080/"
        },
        "id": "ATiScK60dgvo",
        "outputId": "f7c0090c-a91a-4984-8e06-41a7b31b78e3"
      },
      "execution_count": 7,
      "outputs": [
        {
          "output_type": "stream",
          "name": "stdout",
          "text": [
            "Shape =  (2, 3, 3)\n",
            "Rank =  3\n",
            "Size =  tf.Tensor(18, shape=(), dtype=int32)\n"
          ]
        }
      ]
    },
    {
      "cell_type": "markdown",
      "source": [
        "#### 3. Create two tensors containing random values between 0 and 1 with shape [5, 300]."
      ],
      "metadata": {
        "id": "40JvvlD0hhbF"
      }
    },
    {
      "cell_type": "code",
      "source": [
        "tf.random.set_seed(30)\n",
        "tensor1 = tf.random.Generator.from_seed(42)\n",
        "tensor1 = tensor1.uniform(shape=(5,300))\n",
        "\n",
        "tensor2 = tf.random.Generator.from_seed(52)\n",
        "tensor2 = tensor2.uniform(shape=(5,300))\n",
        "\n",
        "print(tensor1)\n",
        "print(tensor2)"
      ],
      "metadata": {
        "colab": {
          "base_uri": "https://localhost:8080/"
        },
        "id": "sBl087bDeuxo",
        "outputId": "cddc0063-0181-4a5c-c843-30439ea64fa4"
      },
      "execution_count": 8,
      "outputs": [
        {
          "output_type": "stream",
          "name": "stdout",
          "text": [
            "tf.Tensor(\n",
            "[[0.7493447  0.73561966 0.45230794 ... 0.5816356  0.5627874  0.7491298 ]\n",
            " [0.6438937  0.6938418  0.04408407 ... 0.04825139 0.5099728  0.26470542]\n",
            " [0.21373153 0.6683699  0.78474844 ... 0.19658887 0.22030771 0.3766911 ]\n",
            " [0.68190825 0.29304636 0.5415933  ... 0.37111604 0.76053166 0.7538099 ]\n",
            " [0.8011551  0.48830473 0.13867617 ... 0.20301867 0.8378159  0.19984365]], shape=(5, 300), dtype=float32)\n",
            "tf.Tensor(\n",
            "[[0.5914326  0.21738243 0.5322075  ... 0.678746   0.09103632 0.6027968 ]\n",
            " [0.2354095  0.79634094 0.16588712 ... 0.3354292  0.45307434 0.18366218]\n",
            " [0.70624435 0.27036226 0.92301977 ... 0.52282226 0.4796052  0.40956295]\n",
            " [0.7639382  0.9208015  0.96507776 ... 0.3171805  0.2562983  0.98411655]\n",
            " [0.5639552  0.5084231  0.02382088 ... 0.7537936  0.4346373  0.5250298 ]], shape=(5, 300), dtype=float32)\n"
          ]
        }
      ]
    },
    {
      "cell_type": "markdown",
      "source": [
        "#### 4. Multiply the two tensors you created in 3 using matrix multiplication."
      ],
      "metadata": {
        "id": "QMXa_dL5jfp1"
      }
    },
    {
      "cell_type": "code",
      "source": [
        "mult = tf.matmul(tf.transpose(tensor1), tensor2)\n",
        "mult"
      ],
      "metadata": {
        "colab": {
          "base_uri": "https://localhost:8080/"
        },
        "id": "DasYCQSIiAAj",
        "outputId": "158f6dd5-c41e-4d81-8170-8d218ae370b8"
      },
      "execution_count": 9,
      "outputs": [
        {
          "output_type": "execute_result",
          "data": {
            "text/plain": [
              "<tf.Tensor: shape=(300, 300), dtype=float32, numpy=\n",
              "array([[1.7184637 , 1.7686661 , 1.3800777 , ..., 1.6565326 , 0.98543984,\n",
              "        1.7492056 ],\n",
              "       [1.5696902 , 1.4112504 , 1.4179646 , ..., 1.5425018 , 0.9892264 ,\n",
              "        1.3893675 ],\n",
              "       [1.3240626 , 0.9148022 , 1.498356  , ..., 1.0083892 , 0.6366025 ,\n",
              "        1.2079502 ],\n",
              "       ...,\n",
              "       [0.8922    , 0.6629557 , 0.86200243, ..., 0.7844937 , 0.35245237,\n",
              "        0.9117978 ],\n",
              "       [1.6619842 , 1.7142788 , 1.3413957 , ..., 1.5409973 , 0.94701946,\n",
              "        1.7114692 ],\n",
              "       [1.4599769 , 1.271201  , 1.5225427 , ..., 1.1839359 , 0.648852  ,\n",
              "        1.5012287 ]], dtype=float32)>"
            ]
          },
          "metadata": {},
          "execution_count": 9
        }
      ]
    },
    {
      "cell_type": "markdown",
      "source": [
        "#### 5. Multiply the two tensors you created in 3 using dot product."
      ],
      "metadata": {
        "id": "mFyApLeYj64O"
      }
    },
    {
      "cell_type": "code",
      "source": [
        "mult = tf.tensordot(tf.transpose(tensor1), tensor2, axes=1)\n",
        "mult"
      ],
      "metadata": {
        "colab": {
          "base_uri": "https://localhost:8080/"
        },
        "id": "5063ZDrnjvqc",
        "outputId": "1cb28bcf-4b24-4edd-86bf-6313df565417"
      },
      "execution_count": 11,
      "outputs": [
        {
          "output_type": "execute_result",
          "data": {
            "text/plain": [
              "<tf.Tensor: shape=(300, 300), dtype=float32, numpy=\n",
              "array([[1.7184637 , 1.7686661 , 1.3800777 , ..., 1.6565326 , 0.98543984,\n",
              "        1.7492056 ],\n",
              "       [1.5696902 , 1.4112504 , 1.4179646 , ..., 1.5425018 , 0.9892264 ,\n",
              "        1.3893675 ],\n",
              "       [1.3240626 , 0.9148022 , 1.498356  , ..., 1.0083892 , 0.6366025 ,\n",
              "        1.2079502 ],\n",
              "       ...,\n",
              "       [0.8922    , 0.6629557 , 0.86200243, ..., 0.7844937 , 0.35245237,\n",
              "        0.9117978 ],\n",
              "       [1.6619842 , 1.7142788 , 1.3413957 , ..., 1.5409973 , 0.94701946,\n",
              "        1.7114692 ],\n",
              "       [1.4599769 , 1.271201  , 1.5225427 , ..., 1.1839359 , 0.648852  ,\n",
              "        1.5012287 ]], dtype=float32)>"
            ]
          },
          "metadata": {},
          "execution_count": 11
        }
      ]
    },
    {
      "cell_type": "markdown",
      "source": [
        "#### 6. Create a tensor with random values between 0 and 1 with shape [224, 224, 3]."
      ],
      "metadata": {
        "id": "pooJc9uBk-VY"
      }
    },
    {
      "cell_type": "code",
      "source": [
        "tensor3 = tf.random.Generator.from_seed(2)\n",
        "tensor3 = tensor3.uniform(shape=(224,224,3))\n",
        "tensor3"
      ],
      "metadata": {
        "colab": {
          "base_uri": "https://localhost:8080/"
        },
        "id": "0avwWj_Gkh9u",
        "outputId": "d3f97e29-505a-45d0-ec47-d1154ad46a88"
      },
      "execution_count": 12,
      "outputs": [
        {
          "output_type": "execute_result",
          "data": {
            "text/plain": [
              "<tf.Tensor: shape=(224, 224, 3), dtype=float32, numpy=\n",
              "array([[[0.95810425, 0.55623317, 0.16466296],\n",
              "        [0.13445711, 0.13229859, 0.5348098 ],\n",
              "        [0.57090175, 0.50970507, 0.48252344],\n",
              "        ...,\n",
              "        [0.01353109, 0.2823602 , 0.0927937 ],\n",
              "        [0.2424469 , 0.92214036, 0.1318667 ],\n",
              "        [0.18895125, 0.13469017, 0.29916108]],\n",
              "\n",
              "       [[0.22880554, 0.02310789, 0.3042692 ],\n",
              "        [0.7830497 , 0.21773398, 0.12459803],\n",
              "        [0.7456944 , 0.8774493 , 0.7112646 ],\n",
              "        ...,\n",
              "        [0.14082742, 0.41235518, 0.45162737],\n",
              "        [0.6804353 , 0.04887676, 0.6775023 ],\n",
              "        [0.29143417, 0.3466624 , 0.17450547]],\n",
              "\n",
              "       [[0.38451958, 0.33060753, 0.73888445],\n",
              "        [0.4587338 , 0.81736076, 0.15108037],\n",
              "        [0.60569584, 0.93234086, 0.10864663],\n",
              "        ...,\n",
              "        [0.3923154 , 0.4012767 , 0.25327802],\n",
              "        [0.7235824 , 0.51754737, 0.32620752],\n",
              "        [0.09840012, 0.3233775 , 0.9681879 ]],\n",
              "\n",
              "       ...,\n",
              "\n",
              "       [[0.85072494, 0.95170057, 0.44895744],\n",
              "        [0.16090262, 0.12472355, 0.8067962 ],\n",
              "        [0.14750361, 0.3019954 , 0.30495656],\n",
              "        ...,\n",
              "        [0.9003469 , 0.4256966 , 0.88771296],\n",
              "        [0.6295724 , 0.99141705, 0.49446368],\n",
              "        [0.28761828, 0.18791914, 0.23971832]],\n",
              "\n",
              "       [[0.9050621 , 0.5200094 , 0.98439336],\n",
              "        [0.6460576 , 0.23044896, 0.42656684],\n",
              "        [0.04502988, 0.6522826 , 0.01821446],\n",
              "        ...,\n",
              "        [0.70286477, 0.48708987, 0.24799585],\n",
              "        [0.5379176 , 0.21690464, 0.206483  ],\n",
              "        [0.40172505, 0.8851794 , 0.11487484]],\n",
              "\n",
              "       [[0.05643916, 0.25588357, 0.23421788],\n",
              "        [0.30378628, 0.7082145 , 0.9874191 ],\n",
              "        [0.8841263 , 0.36997056, 0.38104606],\n",
              "        ...,\n",
              "        [0.56322515, 0.4793756 , 0.8302374 ],\n",
              "        [0.1411556 , 0.6618842 , 0.68694746],\n",
              "        [0.41673374, 0.06099355, 0.89880633]]], dtype=float32)>"
            ]
          },
          "metadata": {},
          "execution_count": 12
        }
      ]
    },
    {
      "cell_type": "markdown",
      "source": [
        "#### 7. Find the min and max values of the tensor you created in 6 along the first axis."
      ],
      "metadata": {
        "id": "gWZnoznhlSSA"
      }
    },
    {
      "cell_type": "code",
      "source": [
        "tf.reduce_max(tensor3), tf.reduce_min(tensor3)"
      ],
      "metadata": {
        "colab": {
          "base_uri": "https://localhost:8080/"
        },
        "id": "2R1gNWZHlOtX",
        "outputId": "bafcda1e-b697-4d81-bb7a-41e6ad90fe82"
      },
      "execution_count": 23,
      "outputs": [
        {
          "output_type": "execute_result",
          "data": {
            "text/plain": [
              "(<tf.Tensor: shape=(), dtype=float32, numpy=0.99998736>,\n",
              " <tf.Tensor: shape=(), dtype=float32, numpy=4.053116e-06>)"
            ]
          },
          "metadata": {},
          "execution_count": 23
        }
      ]
    },
    {
      "cell_type": "markdown",
      "source": [
        "#### 8. Created a tensor with random values of shape [1, 224, 224, 3] then squeeze it to change the shape to [224, 224, 3]."
      ],
      "metadata": {
        "id": "aQ-OkmozmqfN"
      }
    },
    {
      "cell_type": "code",
      "source": [
        "tensor4 = tf.random.Generator.from_seed(3)\n",
        "tensor4 = tensor4.uniform(shape=(1, 224, 224, 3))\n",
        "print(tensor4.shape)\n",
        "\n",
        "tensor4_squeezed = tf.squeeze(tensor4)\n",
        "print(tensor4_squeezed.shape)"
      ],
      "metadata": {
        "colab": {
          "base_uri": "https://localhost:8080/"
        },
        "id": "1d7s97PMlfuq",
        "outputId": "84029428-d031-484b-8994-12a5c5195d35"
      },
      "execution_count": 25,
      "outputs": [
        {
          "output_type": "stream",
          "name": "stdout",
          "text": [
            "(1, 224, 224, 3)\n",
            "(224, 224, 3)\n"
          ]
        }
      ]
    },
    {
      "cell_type": "markdown",
      "source": [
        "#### 9. Create a tensor with shape [10] using your own choice of values, then find the index which has the maximum value."
      ],
      "metadata": {
        "id": "APqDZvz_pX4Q"
      }
    },
    {
      "cell_type": "code",
      "source": [
        "tensor5 = tf.random.Generator.from_seed(32)\n",
        "tensor5 = tensor5.uniform(shape=[10])\n",
        "\n",
        "print(tf.argmax(tensor5), tf.argmin(tensor5))"
      ],
      "metadata": {
        "colab": {
          "base_uri": "https://localhost:8080/"
        },
        "id": "Ym6IFlqFnF3L",
        "outputId": "acea2eb1-df9a-404e-e6f4-69d8fb65568a"
      },
      "execution_count": 27,
      "outputs": [
        {
          "output_type": "stream",
          "name": "stdout",
          "text": [
            "tf.Tensor(5, shape=(), dtype=int64) tf.Tensor(1, shape=(), dtype=int64)\n"
          ]
        }
      ]
    },
    {
      "cell_type": "markdown",
      "source": [
        "#### 10. One-hot encode the tensor you created"
      ],
      "metadata": {
        "id": "uDsHgC41rBWO"
      }
    },
    {
      "cell_type": "code",
      "source": [
        "tensor6 = tf.constant(np.random.randint(9, size=9))\n",
        "tensor6"
      ],
      "metadata": {
        "colab": {
          "base_uri": "https://localhost:8080/"
        },
        "id": "JZJwp720q7VD",
        "outputId": "fdf2ade2-1436-4664-f416-c2a13b710296"
      },
      "execution_count": 29,
      "outputs": [
        {
          "output_type": "execute_result",
          "data": {
            "text/plain": [
              "<tf.Tensor: shape=(9,), dtype=int64, numpy=array([6, 3, 2, 3, 6, 1, 7, 1, 5])>"
            ]
          },
          "metadata": {},
          "execution_count": 29
        }
      ]
    },
    {
      "cell_type": "code",
      "source": [
        "oneHot = tf.one_hot(tensor6, depth = 8)\n",
        "oneHot"
      ],
      "metadata": {
        "colab": {
          "base_uri": "https://localhost:8080/"
        },
        "id": "1LHhEHv-r6v5",
        "outputId": "d9796b73-1d48-4b46-cde1-c05431729ec4"
      },
      "execution_count": 32,
      "outputs": [
        {
          "output_type": "execute_result",
          "data": {
            "text/plain": [
              "<tf.Tensor: shape=(9, 8), dtype=float32, numpy=\n",
              "array([[0., 0., 0., 0., 0., 0., 1., 0.],\n",
              "       [0., 0., 0., 1., 0., 0., 0., 0.],\n",
              "       [0., 0., 1., 0., 0., 0., 0., 0.],\n",
              "       [0., 0., 0., 1., 0., 0., 0., 0.],\n",
              "       [0., 0., 0., 0., 0., 0., 1., 0.],\n",
              "       [0., 1., 0., 0., 0., 0., 0., 0.],\n",
              "       [0., 0., 0., 0., 0., 0., 0., 1.],\n",
              "       [0., 1., 0., 0., 0., 0., 0., 0.],\n",
              "       [0., 0., 0., 0., 0., 1., 0., 0.]], dtype=float32)>"
            ]
          },
          "metadata": {},
          "execution_count": 32
        }
      ]
    },
    {
      "cell_type": "code",
      "source": [
        ""
      ],
      "metadata": {
        "id": "GbvnQ0FasH4L"
      },
      "execution_count": null,
      "outputs": []
    }
  ]
}