{
  "nbformat": 4,
  "nbformat_minor": 0,
  "metadata": {
    "colab": {
      "name": "03_ComputerVision.ipynb",
      "provenance": [],
      "authorship_tag": "ABX9TyO3RApTBf7JOjKS3O6v9khK",
      "include_colab_link": true
    },
    "kernelspec": {
      "name": "python3",
      "display_name": "Python 3"
    },
    "language_info": {
      "name": "python"
    }
  },
  "cells": [
    {
      "cell_type": "markdown",
      "metadata": {
        "id": "view-in-github",
        "colab_type": "text"
      },
      "source": [
        "<a href=\"https://colab.research.google.com/github/Shreyas-13/Tensorflow-Developer/blob/main/03_ComputerVision.ipynb\" target=\"_parent\"><img src=\"https://colab.research.google.com/assets/colab-badge.svg\" alt=\"Open In Colab\"/></a>"
      ]
    },
    {
      "cell_type": "markdown",
      "source": [
        "# Introduction to CNN with TensorFlow\n",
        "\n",
        "Giving computers the ability to observe and detect images."
      ],
      "metadata": {
        "id": "7xIrYwG4HSJ_"
      }
    },
    {
      "cell_type": "markdown",
      "source": [
        "### Data - https://storage.googleapis.com/ztm_tf_course/food_vision/pizza_steak.zip \n",
        "\n",
        "\n",
        "Download the data and mount the GDrive so that the data can be used in future notebooks as well."
      ],
      "metadata": {
        "id": "2LxrrI8FIu4a"
      }
    },
    {
      "cell_type": "code",
      "source": [
        ""
      ],
      "metadata": {
        "id": "EXyInZ6DHwIJ"
      },
      "execution_count": null,
      "outputs": []
    }
  ]
}