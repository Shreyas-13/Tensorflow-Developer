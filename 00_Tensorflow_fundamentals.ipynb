{
  "nbformat": 4,
  "nbformat_minor": 0,
  "metadata": {
    "colab": {
      "name": "00_Tensorflow_fundamentals.ipynb",
      "provenance": [],
      "authorship_tag": "ABX9TyNVUWrs+t9UVUbJCqwOVHeH",
      "include_colab_link": true
    },
    "kernelspec": {
      "name": "python3",
      "display_name": "Python 3"
    },
    "language_info": {
      "name": "python"
    }
  },
  "cells": [
    {
      "cell_type": "markdown",
      "metadata": {
        "id": "view-in-github",
        "colab_type": "text"
      },
      "source": [
        "<a href=\"https://colab.research.google.com/github/Shreyas-13/Tensorflow-Developer/blob/main/00_Tensorflow_fundamentals.ipynb\" target=\"_parent\"><img src=\"https://colab.research.google.com/assets/colab-badge.svg\" alt=\"Open In Colab\"/></a>"
      ]
    },
    {
      "cell_type": "markdown",
      "source": [
        "# Tensorflow Fundamentals\n",
        "\n",
        "Outline:\n",
        "* Intro to tensors\n",
        "* Getting info from tensors\n",
        "* Manipulating tensors\n",
        "* Tensors and Numpy\n",
        "* Using @tf.function(a way to speed up regular python func)\n",
        "* Using GPU with tensorflow"
      ],
      "metadata": {
        "id": "WsQFYkDoF98P"
      }
    },
    {
      "cell_type": "markdown",
      "source": [
        "# Intro to Tensors"
      ],
      "metadata": {
        "id": "LfgjKT2rIIc2"
      }
    },
    {
      "cell_type": "markdown",
      "source": [
        "### Creating tensors using `tf.constant`"
      ],
      "metadata": {
        "id": "6PSyRbS-MqK7"
      }
    },
    {
      "cell_type": "code",
      "source": [
        "import tensorflow as tf\n",
        "\n",
        "print(tf.__version__)\n",
        "\n",
        "##Creating a tensor\n",
        "scalar = tf.constant(7)\n",
        "scalar"
      ],
      "metadata": {
        "colab": {
          "base_uri": "https://localhost:8080/"
        },
        "id": "lPaQcHU5F_xK",
        "outputId": "789e2c1d-41f0-4670-f00b-578af7e35372"
      },
      "execution_count": 1,
      "outputs": [
        {
          "output_type": "stream",
          "name": "stdout",
          "text": [
            "2.8.2\n"
          ]
        },
        {
          "output_type": "execute_result",
          "data": {
            "text/plain": [
              "<tf.Tensor: shape=(), dtype=int32, numpy=7>"
            ]
          },
          "metadata": {},
          "execution_count": 1
        }
      ]
    },
    {
      "cell_type": "code",
      "source": [
        "#Creating a vector\n",
        "\n",
        "vector = tf.constant([13,2], dtype=tf.float16)\n",
        "vector"
      ],
      "metadata": {
        "colab": {
          "base_uri": "https://localhost:8080/"
        },
        "id": "HXMYikuvIQK6",
        "outputId": "593f09e7-c7ef-45bb-828f-7393b9c2db87"
      },
      "execution_count": 2,
      "outputs": [
        {
          "output_type": "execute_result",
          "data": {
            "text/plain": [
              "<tf.Tensor: shape=(2,), dtype=float16, numpy=array([13.,  2.], dtype=float16)>"
            ]
          },
          "metadata": {},
          "execution_count": 2
        }
      ]
    },
    {
      "cell_type": "code",
      "source": [
        "vector.ndim"
      ],
      "metadata": {
        "colab": {
          "base_uri": "https://localhost:8080/"
        },
        "id": "-62KvzwdInSE",
        "outputId": "81f56f18-f565-4b1c-929c-d4d5003a8a34"
      },
      "execution_count": 3,
      "outputs": [
        {
          "output_type": "execute_result",
          "data": {
            "text/plain": [
              "1"
            ]
          },
          "metadata": {},
          "execution_count": 3
        }
      ]
    },
    {
      "cell_type": "code",
      "source": [
        "#Creating a matrix\n",
        "\n",
        "matrix = tf.constant([[10,20],\n",
        "                      [20,30],\n",
        "                     [30,40]])\n",
        "matrix"
      ],
      "metadata": {
        "colab": {
          "base_uri": "https://localhost:8080/"
        },
        "id": "No-C8zTsItwy",
        "outputId": "7094ca91-b86f-4b07-efc5-32943c61f4dc"
      },
      "execution_count": 4,
      "outputs": [
        {
          "output_type": "execute_result",
          "data": {
            "text/plain": [
              "<tf.Tensor: shape=(3, 2), dtype=int32, numpy=\n",
              "array([[10, 20],\n",
              "       [20, 30],\n",
              "       [30, 40]], dtype=int32)>"
            ]
          },
          "metadata": {},
          "execution_count": 4
        }
      ]
    },
    {
      "cell_type": "code",
      "source": [
        "matrix.ndim"
      ],
      "metadata": {
        "colab": {
          "base_uri": "https://localhost:8080/"
        },
        "id": "ZHwWdbtjI8uU",
        "outputId": "18e296cc-73b0-49ce-f5a4-6404a7601fcb"
      },
      "execution_count": 5,
      "outputs": [
        {
          "output_type": "execute_result",
          "data": {
            "text/plain": [
              "2"
            ]
          },
          "metadata": {},
          "execution_count": 5
        }
      ]
    },
    {
      "cell_type": "code",
      "source": [
        "#Creating a 3-D tensor\n",
        "\n",
        "tensor = tf.constant([[[10,20,30],\n",
        "                       [20,30,40]],\n",
        "                      [[13,2,2000],\n",
        "                       [13,2,2001]],\n",
        "                      [[16,11,2002],\n",
        "                       [12,12,12]],\n",
        "                      [[12,23,43],\n",
        "                      [12,45,76]]])\n",
        "tensor"
      ],
      "metadata": {
        "colab": {
          "base_uri": "https://localhost:8080/"
        },
        "id": "Ne16iukjJAS7",
        "outputId": "c93b405b-78e6-4bba-976b-3c3caeb447d3"
      },
      "execution_count": 6,
      "outputs": [
        {
          "output_type": "execute_result",
          "data": {
            "text/plain": [
              "<tf.Tensor: shape=(4, 2, 3), dtype=int32, numpy=\n",
              "array([[[  10,   20,   30],\n",
              "        [  20,   30,   40]],\n",
              "\n",
              "       [[  13,    2, 2000],\n",
              "        [  13,    2, 2001]],\n",
              "\n",
              "       [[  16,   11, 2002],\n",
              "        [  12,   12,   12]],\n",
              "\n",
              "       [[  12,   23,   43],\n",
              "        [  12,   45,   76]]], dtype=int32)>"
            ]
          },
          "metadata": {},
          "execution_count": 6
        }
      ]
    },
    {
      "cell_type": "code",
      "source": [
        "tensor.ndim"
      ],
      "metadata": {
        "colab": {
          "base_uri": "https://localhost:8080/"
        },
        "id": "IkL02RSYJixv",
        "outputId": "8ecacd44-9e8f-43ff-e0e3-9a85cc9d90bf"
      },
      "execution_count": 7,
      "outputs": [
        {
          "output_type": "execute_result",
          "data": {
            "text/plain": [
              "3"
            ]
          },
          "metadata": {},
          "execution_count": 7
        }
      ]
    },
    {
      "cell_type": "markdown",
      "source": [
        "* scalar: A variable with single value\n",
        "* vector: A set of values in single dimension[a single subscript is requiured hence 1-D]\n",
        "* matrix: A set of vector having 2-dimension[2 subscripts required hence 2-D e.g. arr[0][0]]\n",
        "* tensor: A set of matrices having n-dimension(dimension refers to the no. of digits required to indicate a particular element in an array)"
      ],
      "metadata": {
        "id": "-5GpUF8GJrrO"
      }
    },
    {
      "cell_type": "markdown",
      "source": [
        "### Creating tensors with `tf.Variable`"
      ],
      "metadata": {
        "id": "LwrJj9KML6on"
      }
    },
    {
      "cell_type": "code",
      "source": [
        "##Creating a tensor using tf.Variable\n",
        "\n",
        "changable_tensor = tf.Variable([10,23])\n",
        "changable_tensor"
      ],
      "metadata": {
        "colab": {
          "base_uri": "https://localhost:8080/"
        },
        "id": "U3u0OoEnJqJ_",
        "outputId": "9a49a93a-de1a-43b1-a547-846f3b5482b7"
      },
      "execution_count": 8,
      "outputs": [
        {
          "output_type": "execute_result",
          "data": {
            "text/plain": [
              "<tf.Variable 'Variable:0' shape=(2,) dtype=int32, numpy=array([10, 23], dtype=int32)>"
            ]
          },
          "metadata": {},
          "execution_count": 8
        }
      ]
    },
    {
      "cell_type": "code",
      "source": [
        "##Updating the tensor value\n",
        "changable_tensor[0].assign(13)\n",
        "changable_tensor"
      ],
      "metadata": {
        "id": "Wk175jy7MWbm",
        "outputId": "c9da1ff2-8485-481a-a95a-fb9079625203",
        "colab": {
          "base_uri": "https://localhost:8080/"
        }
      },
      "execution_count": 9,
      "outputs": [
        {
          "output_type": "execute_result",
          "data": {
            "text/plain": [
              "<tf.Variable 'Variable:0' shape=(2,) dtype=int32, numpy=array([13, 23], dtype=int32)>"
            ]
          },
          "metadata": {},
          "execution_count": 9
        }
      ]
    },
    {
      "cell_type": "markdown",
      "source": [
        "Summary:\n",
        "  * tf.Variable unlike tf.constant can create tensors that can be updated when required\n",
        "\n",
        "**Note-** It is good practice to declare your tensors as constant and change them to variable when required."
      ],
      "metadata": {
        "id": "4qSLsx_XEbfJ"
      }
    },
    {
      "cell_type": "markdown",
      "source": [
        "### Creating Random Tensors\n",
        "\n",
        "Random tensors are used when we're trying to initialize the weights of a NN"
      ],
      "metadata": {
        "id": "Eda9O2gUE49-"
      }
    },
    {
      "cell_type": "code",
      "source": [
        "'''Creating a random tensor with with values ranging b/w -1,1 i.e. Normal\n",
        "Distribution'''\n",
        "tf.random.set_seed(1)\n",
        "\n",
        "random_1 = tf.random.Generator.from_seed(42)\n",
        "random_1 = random_1.normal(shape=(3,2))\n",
        "random_2 = tf.random.Generator.from_seed(42)\n",
        "random_2 = random_2.normal(shape=(3,2))\n",
        "\n",
        "random_1 == random_2\n",
        "\n",
        "'''We can also use Uniform Distribution if we want a value between 0,1'''\n",
        "\n",
        "random_3 = tf.random.Generator.from_seed(9)\n",
        "random_3 = random_3.uniform(shape=(1,2))\n",
        "random_3"
      ],
      "metadata": {
        "id": "zgH_UhExEZzr",
        "outputId": "9682d1c2-0802-4f34-d840-58765f787a7f",
        "colab": {
          "base_uri": "https://localhost:8080/"
        }
      },
      "execution_count": 10,
      "outputs": [
        {
          "output_type": "execute_result",
          "data": {
            "text/plain": [
              "<tf.Tensor: shape=(1, 2), dtype=float32, numpy=array([[0.8203654 , 0.70470357]], dtype=float32)>"
            ]
          },
          "metadata": {},
          "execution_count": 10
        }
      ]
    },
    {
      "cell_type": "markdown",
      "source": [
        "### Shuffling the tensors\n",
        "\n",
        "Required so that the dataset is mixedd randomly and not same type of data is repeated together."
      ],
      "metadata": {
        "id": "3gWNqUfIJTf1"
      }
    },
    {
      "cell_type": "code",
      "source": [
        "import numpy as np\n",
        "\n",
        "matrix = np.random.rand(6).reshape(3,2)\n",
        "\n",
        "not_shuffeled = tf.constant(matrix)\n",
        "not_shuffeled"
      ],
      "metadata": {
        "id": "qQn3iptDFR-q",
        "outputId": "924d69a7-7edc-4c1e-db53-52115440fb49",
        "colab": {
          "base_uri": "https://localhost:8080/"
        }
      },
      "execution_count": 11,
      "outputs": [
        {
          "output_type": "execute_result",
          "data": {
            "text/plain": [
              "<tf.Tensor: shape=(3, 2), dtype=float64, numpy=\n",
              "array([[0.85773057, 0.32346014],\n",
              "       [0.24099372, 0.48803573],\n",
              "       [0.12962108, 0.8112308 ]])>"
            ]
          },
          "metadata": {},
          "execution_count": 11
        }
      ]
    },
    {
      "cell_type": "code",
      "source": [
        "'''Here even using seed doesn't guarantee same output everytime cz of global and \n",
        "operational-level seed'''\n",
        "\n",
        "shuffeled = tf.random.shuffle(not_shuffeled, seed=1)\n",
        "shuffeled"
      ],
      "metadata": {
        "id": "sKfZXEfvJyc0",
        "outputId": "06926f6f-011a-4901-ad9f-e9899deacd76",
        "colab": {
          "base_uri": "https://localhost:8080/"
        }
      },
      "execution_count": 12,
      "outputs": [
        {
          "output_type": "execute_result",
          "data": {
            "text/plain": [
              "<tf.Tensor: shape=(3, 2), dtype=float64, numpy=\n",
              "array([[0.85773057, 0.32346014],\n",
              "       [0.24099372, 0.48803573],\n",
              "       [0.12962108, 0.8112308 ]])>"
            ]
          },
          "metadata": {},
          "execution_count": 12
        }
      ]
    },
    {
      "cell_type": "code",
      "source": [
        "'''Here setting tf.random.set_seed() resolves the problem'''\n",
        "\n",
        "tf.random.set_seed(1)\n",
        "shuffeled = tf.random.shuffle(not_shuffeled, seed=11)\n",
        "shuffeled"
      ],
      "metadata": {
        "id": "jGEHiTslKxtF",
        "outputId": "cd8a5a67-2b53-4266-fba2-26e6b5839ab9",
        "colab": {
          "base_uri": "https://localhost:8080/"
        }
      },
      "execution_count": 13,
      "outputs": [
        {
          "output_type": "execute_result",
          "data": {
            "text/plain": [
              "<tf.Tensor: shape=(3, 2), dtype=float64, numpy=\n",
              "array([[0.24099372, 0.48803573],\n",
              "       [0.12962108, 0.8112308 ],\n",
              "       [0.85773057, 0.32346014]])>"
            ]
          },
          "metadata": {},
          "execution_count": 13
        }
      ]
    },
    {
      "cell_type": "markdown",
      "source": [
        "### Getting Information from tensors\n",
        "\n",
        "A tensor has following attributes:\n",
        "  * Shape - Shape of tensor tensor.shape\n",
        "  * Rank - No of dimensions tensor.ndim\n",
        "  * Axis - tensor[0] or tensor[:, 1]\n",
        "  * Size - No of elements in the tensor tf.size(tensor)"
      ],
      "metadata": {
        "id": "erSfprdPMjkx"
      }
    },
    {
      "cell_type": "code",
      "source": [
        "##func to extract all these info\n",
        "\n",
        "def info(tensor):\n",
        "  print('Datatype of Elements: ', tensor.dtype)\n",
        "  print('Rank: ', tensor.ndim)\n",
        "  print('Shape: ', tensor.shape)\n",
        "  print('Axis 0: ', tensor[0])\n",
        "  print('Size: ', tf.size(tensor).numpy())\n",
        "\n",
        "if __name__ == '__main__':\n",
        "  tf.random.set_seed(100)\n",
        "  rank_4_tensor = tf.random.Generator.from_seed(32)\n",
        "  rank_4_tensor = rank_4_tensor.normal(shape=(2,3,4,5))\n",
        "  info(rank_4_tensor)"
      ],
      "metadata": {
        "id": "3Th-FiEBLbJK",
        "colab": {
          "base_uri": "https://localhost:8080/"
        },
        "outputId": "5b726d3b-2bfc-41ed-bb52-4e595f57facc"
      },
      "execution_count": 14,
      "outputs": [
        {
          "output_type": "stream",
          "name": "stdout",
          "text": [
            "Datatype of Elements:  <dtype: 'float32'>\n",
            "Rank:  4\n",
            "Shape:  (2, 3, 4, 5)\n",
            "Axis 0:  tf.Tensor(\n",
            "[[[ 0.7901182   1.585549    0.4356279   0.23645182 -0.1589871 ]\n",
            "  [ 1.302304    0.9592239   0.85874265 -1.5181769   1.4020647 ]\n",
            "  [ 1.5570306  -0.96762174  0.495291   -0.648484   -1.8700892 ]\n",
            "  [ 2.7830641  -0.645002    0.18022095 -0.14656258  0.34374258]]\n",
            "\n",
            " [[ 0.41367555  0.17573498 -1.0871261   0.45905176  0.20386009]\n",
            "  [ 0.562024   -2.3001142  -1.349454    0.81485     1.2790666 ]\n",
            "  [ 0.02203509  1.5428121   0.78953624  0.53897345 -0.48535708]\n",
            "  [ 0.74055266  0.31662667 -1.4391748   0.58923835 -1.4268045 ]]\n",
            "\n",
            " [[-0.7565803  -0.06854702  0.07595026 -1.2573844  -0.23193763]\n",
            "  [-1.8107855   0.09988727 -0.50998646 -0.7535805  -0.57166284]\n",
            "  [ 0.1480774  -0.23362993 -0.3522796   0.40621263 -1.0523509 ]\n",
            "  [ 1.2054597   1.6874489  -0.4462975  -2.3410842   0.99009085]]], shape=(3, 4, 5), dtype=float32)\n",
            "Size:  120\n"
          ]
        }
      ]
    },
    {
      "cell_type": "markdown",
      "source": [
        "### Indexing Tensor"
      ],
      "metadata": {
        "id": "ypdDQpu-bxvV"
      }
    },
    {
      "cell_type": "code",
      "source": [
        "##Slicing in tensorflow is same as python\n",
        "\n",
        "rank_4_tensor[:1, :2, :3, :]"
      ],
      "metadata": {
        "colab": {
          "base_uri": "https://localhost:8080/"
        },
        "id": "SKIkpmGjb2n0",
        "outputId": "c45b7f98-3ad1-4e4a-9efb-530805078a88"
      },
      "execution_count": 15,
      "outputs": [
        {
          "output_type": "execute_result",
          "data": {
            "text/plain": [
              "<tf.Tensor: shape=(1, 2, 3, 5), dtype=float32, numpy=\n",
              "array([[[[ 0.7901182 ,  1.585549  ,  0.4356279 ,  0.23645182,\n",
              "          -0.1589871 ],\n",
              "         [ 1.302304  ,  0.9592239 ,  0.85874265, -1.5181769 ,\n",
              "           1.4020647 ],\n",
              "         [ 1.5570306 , -0.96762174,  0.495291  , -0.648484  ,\n",
              "          -1.8700892 ]],\n",
              "\n",
              "        [[ 0.41367555,  0.17573498, -1.0871261 ,  0.45905176,\n",
              "           0.20386009],\n",
              "         [ 0.562024  , -2.3001142 , -1.349454  ,  0.81485   ,\n",
              "           1.2790666 ],\n",
              "         [ 0.02203509,  1.5428121 ,  0.78953624,  0.53897345,\n",
              "          -0.48535708]]]], dtype=float32)>"
            ]
          },
          "metadata": {},
          "execution_count": 15
        }
      ]
    },
    {
      "cell_type": "code",
      "source": [
        "##Expanding dimension of a tensor this is done to make uniform tensors of same size\n",
        "'''Axis denotes the index at which one wants to add a dimension for example if \n",
        "shape of the tensor is like(2,3,4,5) and axis=1 is passed then the new shape \n",
        "will be (2,1,3,4,5)'''\n",
        "rank_2_tensor = tf.random.Generator.from_seed(32)\n",
        "rank_2_tensor = rank_2_tensor.normal(shape=(2,2))\n",
        "print(rank_2_tensor)\n",
        "print('=================')\n",
        "tf.expand_dims(rank_2_tensor, axis=-1) ##axis=-1 indicates adding one extra dimension at the end\n"
      ],
      "metadata": {
        "colab": {
          "base_uri": "https://localhost:8080/"
        },
        "id": "bIFTzsTddjij",
        "outputId": "0f42f6f8-c9b6-4401-c833-8189ab55c0c2"
      },
      "execution_count": 16,
      "outputs": [
        {
          "output_type": "stream",
          "name": "stdout",
          "text": [
            "tf.Tensor(\n",
            "[[0.7901182  1.585549  ]\n",
            " [0.4356279  0.23645182]], shape=(2, 2), dtype=float32)\n",
            "=================\n"
          ]
        },
        {
          "output_type": "execute_result",
          "data": {
            "text/plain": [
              "<tf.Tensor: shape=(2, 2, 1), dtype=float32, numpy=\n",
              "array([[[0.7901182 ],\n",
              "        [1.585549  ]],\n",
              "\n",
              "       [[0.4356279 ],\n",
              "        [0.23645182]]], dtype=float32)>"
            ]
          },
          "metadata": {},
          "execution_count": 16
        }
      ]
    },
    {
      "cell_type": "markdown",
      "source": [
        "### Manipulating tensors\n",
        "**Basic Operations-**\n",
        "`+`, `-`, `*`, `/`"
      ],
      "metadata": {
        "id": "WIsuPQvWglrn"
      }
    },
    {
      "cell_type": "code",
      "source": [
        "##Basic Operation Addition\n",
        "\n",
        "tensor = tf.constant([[2,3], \n",
        "                      [4,5]])\n",
        "print('Add=',  tensor+10)\n",
        "print('Mul=',  tensor*10)\n",
        "print('Sub=',  tensor-10)\n",
        "print('Div=',  tensor/10)"
      ],
      "metadata": {
        "colab": {
          "base_uri": "https://localhost:8080/"
        },
        "id": "zuoI3cjteSLg",
        "outputId": "b479d2f8-f2e8-47c1-d18b-67c94974c60f"
      },
      "execution_count": 17,
      "outputs": [
        {
          "output_type": "stream",
          "name": "stdout",
          "text": [
            "Add= tf.Tensor(\n",
            "[[12 13]\n",
            " [14 15]], shape=(2, 2), dtype=int32)\n",
            "Mul= tf.Tensor(\n",
            "[[20 30]\n",
            " [40 50]], shape=(2, 2), dtype=int32)\n",
            "Sub= tf.Tensor(\n",
            "[[-8 -7]\n",
            " [-6 -5]], shape=(2, 2), dtype=int32)\n",
            "Div= tf.Tensor(\n",
            "[[0.2 0.3]\n",
            " [0.4 0.5]], shape=(2, 2), dtype=float64)\n"
          ]
        }
      ]
    },
    {
      "cell_type": "code",
      "source": [
        "##We can use built-in functions as well(faster as makes use of GPU)\n",
        "print('Multiply=',tf.math.multiply(tensor, 10))\n",
        "print('Add=',tf.math.add(tensor, 10))\n",
        "print('Div=',tf.math.divide(tensor, 10))\n",
        "# print('Add=',tf.math.multiply(tensor, 10))\n"
      ],
      "metadata": {
        "colab": {
          "base_uri": "https://localhost:8080/"
        },
        "id": "ahk1t8jce1ou",
        "outputId": "7c0bc768-25bd-48fb-9dfd-fac9c55fc398"
      },
      "execution_count": 18,
      "outputs": [
        {
          "output_type": "stream",
          "name": "stdout",
          "text": [
            "Multiply= tf.Tensor(\n",
            "[[20 30]\n",
            " [40 50]], shape=(2, 2), dtype=int32)\n",
            "Add= tf.Tensor(\n",
            "[[12 13]\n",
            " [14 15]], shape=(2, 2), dtype=int32)\n",
            "Div= tf.Tensor(\n",
            "[[0.2 0.3]\n",
            " [0.4 0.5]], shape=(2, 2), dtype=float64)\n"
          ]
        }
      ]
    },
    {
      "cell_type": "markdown",
      "source": [
        "### Matrix Multiplication"
      ],
      "metadata": {
        "id": "om7GMwb_Y2ZI"
      }
    },
    {
      "cell_type": "code",
      "source": [
        "## Matrix Multiplication\n",
        "\n",
        "print(tf.matmul(tensor, tensor))\n",
        "\n",
        "## In python we use @ symbol for matrix multiplication\n",
        "print(tensor @ tensor)"
      ],
      "metadata": {
        "id": "eAksHQ7ChIM2",
        "colab": {
          "base_uri": "https://localhost:8080/"
        },
        "outputId": "af616eea-3a0c-46e3-c114-e42100e1c0ff"
      },
      "execution_count": 19,
      "outputs": [
        {
          "output_type": "stream",
          "name": "stdout",
          "text": [
            "tf.Tensor(\n",
            "[[16 21]\n",
            " [28 37]], shape=(2, 2), dtype=int32)\n",
            "tf.Tensor(\n",
            "[[16 21]\n",
            " [28 37]], shape=(2, 2), dtype=int32)\n"
          ]
        }
      ]
    },
    {
      "cell_type": "code",
      "source": [
        "## Other useful operations\n",
        "##Transpose of a matrix\n",
        "\n",
        "tf.random.set_seed(10)\n",
        "\n",
        "newMat = tf.random.Generator.from_seed(32)\n",
        "newMat2 = tf.random.Generator.from_seed(2)\n",
        "newMat = newMat.normal(shape=(3,2))\n",
        "newMat2 = newMat2.normal(shape=(3,2))\n",
        "\n",
        "newMat, newMat2\n",
        "\n",
        "##transposing newMat\n",
        "tf.transpose(newMat)\n",
        "\n",
        "##Reshaping a matrix\n",
        "tf.reshape(newMat2, shape=(2,3))"
      ],
      "metadata": {
        "colab": {
          "base_uri": "https://localhost:8080/"
        },
        "id": "S122fpQaZowg",
        "outputId": "82a9ed67-a594-49b0-eead-51ed81a5e6f6"
      },
      "execution_count": 20,
      "outputs": [
        {
          "output_type": "execute_result",
          "data": {
            "text/plain": [
              "<tf.Tensor: shape=(2, 3), dtype=float32, numpy=\n",
              "array([[-0.1012345 , -0.2744976 ,  1.4204658 ],\n",
              "       [ 1.2609464 , -0.43640924, -1.9633987 ]], dtype=float32)>"
            ]
          },
          "metadata": {},
          "execution_count": 20
        }
      ]
    },
    {
      "cell_type": "code",
      "source": [
        ""
      ],
      "metadata": {
        "id": "gR3o6yX6bFUL"
      },
      "execution_count": 20,
      "outputs": []
    },
    {
      "cell_type": "markdown",
      "source": [
        "### Changing DataType of Tensor"
      ],
      "metadata": {
        "id": "qVCW5f6QdeAq"
      }
    },
    {
      "cell_type": "code",
      "source": [
        "'''Float16 works faster on GPUs as compared to float32 thus reduced precision is\n",
        "required'''\n",
        "\n",
        "B = tf.random.Generator.from_seed(10)\n",
        "B = B.normal(shape=(2,2))\n",
        "B"
      ],
      "metadata": {
        "colab": {
          "base_uri": "https://localhost:8080/"
        },
        "id": "AScTNyOmdiK_",
        "outputId": "d8ef3d66-7d31-496d-dc0b-1f6b0d5d7436"
      },
      "execution_count": 21,
      "outputs": [
        {
          "output_type": "execute_result",
          "data": {
            "text/plain": [
              "<tf.Tensor: shape=(2, 2), dtype=float32, numpy=\n",
              "array([[-0.29604465, -0.21134205],\n",
              "       [ 0.01063002,  1.5165398 ]], dtype=float32)>"
            ]
          },
          "metadata": {},
          "execution_count": 21
        }
      ]
    },
    {
      "cell_type": "code",
      "source": [
        "'''Changing dtype to float16 using `tf.cast()`'''\n",
        "\n",
        "B = tf.cast(B, dtype=tf.float16)\n",
        "B"
      ],
      "metadata": {
        "colab": {
          "base_uri": "https://localhost:8080/"
        },
        "id": "WfiKLVg-e4Ja",
        "outputId": "732542ba-1868-4182-87d7-2708c0363e14"
      },
      "execution_count": 22,
      "outputs": [
        {
          "output_type": "execute_result",
          "data": {
            "text/plain": [
              "<tf.Tensor: shape=(2, 2), dtype=float16, numpy=\n",
              "array([[-0.2961 , -0.2113 ],\n",
              "       [ 0.01063,  1.517  ]], dtype=float16)>"
            ]
          },
          "metadata": {},
          "execution_count": 22
        }
      ]
    },
    {
      "cell_type": "markdown",
      "source": [
        "### Tensor Aggregation\n",
        "  * Max\n",
        "  * Min\n",
        "  * Mean\n",
        "  * Sum\n",
        "  * Absolute"
      ],
      "metadata": {
        "id": "0plBcdDTf2L8"
      }
    },
    {
      "cell_type": "code",
      "source": [
        "tensor = tf.random.Generator.from_seed(5)\n",
        "tensor = tensor.normal(shape=(3,3))\n",
        "tensor"
      ],
      "metadata": {
        "colab": {
          "base_uri": "https://localhost:8080/"
        },
        "id": "DGuOnhQjfA2o",
        "outputId": "e3e96781-2efe-4513-f3e6-6bf844bbb0b0"
      },
      "execution_count": 23,
      "outputs": [
        {
          "output_type": "execute_result",
          "data": {
            "text/plain": [
              "<tf.Tensor: shape=(3, 3), dtype=float32, numpy=\n",
              "array([[ 1.0278524 ,  0.27974114, -0.01347923],\n",
              "       [ 1.845181  ,  0.97061104, -1.0242516 ],\n",
              "       [-0.6544423 , -0.29738766, -1.3240396 ]], dtype=float32)>"
            ]
          },
          "metadata": {},
          "execution_count": 23
        }
      ]
    },
    {
      "cell_type": "code",
      "source": [
        "## Max along axis 0 and axis 1\n",
        "print(tf.reduce_max(tensor, axis=0))\n",
        "print(tf.reduce_max(tensor, axis=1))\n"
      ],
      "metadata": {
        "colab": {
          "base_uri": "https://localhost:8080/"
        },
        "id": "9wgJFyBkg5X3",
        "outputId": "ad39feee-f5cc-4bbf-ff20-3077bd307ce3"
      },
      "execution_count": 24,
      "outputs": [
        {
          "output_type": "stream",
          "name": "stdout",
          "text": [
            "tf.Tensor([ 1.845181    0.97061104 -0.01347923], shape=(3,), dtype=float32)\n",
            "tf.Tensor([ 1.0278524   1.845181   -0.29738766], shape=(3,), dtype=float32)\n"
          ]
        }
      ]
    },
    {
      "cell_type": "code",
      "source": [
        "## Min along the axis 0 and axis 1\n",
        "print(tf.reduce_min(tensor, axis=0))\n",
        "print(tf.reduce_min(tensor, axis=1))"
      ],
      "metadata": {
        "colab": {
          "base_uri": "https://localhost:8080/"
        },
        "id": "iz2i_kvChnc3",
        "outputId": "f849c895-ac5f-4cfa-bd46-83d8dd36f42e"
      },
      "execution_count": 25,
      "outputs": [
        {
          "output_type": "stream",
          "name": "stdout",
          "text": [
            "tf.Tensor([-0.6544423  -0.29738766 -1.3240396 ], shape=(3,), dtype=float32)\n",
            "tf.Tensor([-0.01347923 -1.0242516  -1.3240396 ], shape=(3,), dtype=float32)\n"
          ]
        }
      ]
    },
    {
      "cell_type": "code",
      "source": [
        "## Mean along the axes\n",
        "print(tf.reduce_mean(tensor))\n",
        "# print(tf.reduce_mean(tensor))"
      ],
      "metadata": {
        "colab": {
          "base_uri": "https://localhost:8080/"
        },
        "id": "bvAih3WRh9-C",
        "outputId": "3af845ce-d002-4399-babd-19eb5081c417"
      },
      "execution_count": 26,
      "outputs": [
        {
          "output_type": "stream",
          "name": "stdout",
          "text": [
            "tf.Tensor(0.08997614, shape=(), dtype=float32)\n"
          ]
        }
      ]
    },
    {
      "cell_type": "code",
      "source": [
        "## Sum\n",
        "print(tf.reduce_sum(tensor))\n",
        "# print(tf.reduce_sum(tensor, axis=1))"
      ],
      "metadata": {
        "colab": {
          "base_uri": "https://localhost:8080/"
        },
        "id": "2UvOqI2wiJTY",
        "outputId": "dd2a1744-3092-402a-d092-932921771e62"
      },
      "execution_count": 27,
      "outputs": [
        {
          "output_type": "stream",
          "name": "stdout",
          "text": [
            "tf.Tensor(0.80978525, shape=(), dtype=float32)\n"
          ]
        }
      ]
    },
    {
      "cell_type": "code",
      "source": [
        "print(tf.abs(tensor))"
      ],
      "metadata": {
        "colab": {
          "base_uri": "https://localhost:8080/"
        },
        "id": "fYkaCbCGijRU",
        "outputId": "09790566-a4c3-4321-f8cf-bd06b1a8de05"
      },
      "execution_count": 28,
      "outputs": [
        {
          "output_type": "stream",
          "name": "stdout",
          "text": [
            "tf.Tensor(\n",
            "[[1.0278524  0.27974114 0.01347923]\n",
            " [1.845181   0.97061104 1.0242516 ]\n",
            " [0.6544423  0.29738766 1.3240396 ]], shape=(3, 3), dtype=float32)\n"
          ]
        }
      ]
    },
    {
      "cell_type": "code",
      "source": [
        "##Variance and Standard Deviation=> use numpy instead\n",
        "\n",
        "'''Variance and Standard Deviation flattens the array and then calculates the \n",
        "var and std. If axis is set to 1 then row wise var if set to 0 then col wise\n",
        "var'''\n",
        "\n",
        "print(tf.math.reduce_variance(tf.cast(tensor, dtype=tf.float32)))\n",
        "\n",
        "print(tf.math.reduce_std(tensor))"
      ],
      "metadata": {
        "id": "Qbi-85y__vTU",
        "outputId": "cd4fa033-5491-49cc-939f-41e4792c8b70",
        "colab": {
          "base_uri": "https://localhost:8080/"
        }
      },
      "execution_count": 29,
      "outputs": [
        {
          "output_type": "stream",
          "name": "stdout",
          "text": [
            "tf.Tensor(0.9697489, shape=(), dtype=float32)\n",
            "tf.Tensor(0.9847583, shape=(), dtype=float32)\n"
          ]
        }
      ]
    },
    {
      "cell_type": "markdown",
      "source": [
        "### Finding Postional Max and Min"
      ],
      "metadata": {
        "id": "1lLeah2O7TqG"
      }
    },
    {
      "cell_type": "code",
      "source": [
        "## Creating a new tensor\n",
        "tf.random.set_seed(42)\n",
        "tensor = tf.random.Generator.from_seed(30)\n",
        "tensor = tensor.uniform(shape=[50])\n",
        "\n",
        "tensor"
      ],
      "metadata": {
        "id": "-IXe8mUz7YcH",
        "outputId": "71837f1d-b15b-467d-dcf4-b2ef07c2778f",
        "colab": {
          "base_uri": "https://localhost:8080/"
        }
      },
      "execution_count": 32,
      "outputs": [
        {
          "output_type": "execute_result",
          "data": {
            "text/plain": [
              "<tf.Tensor: shape=(50,), dtype=float32, numpy=\n",
              "array([0.6900625 , 0.21108961, 0.00885725, 0.42452395, 0.08308113,\n",
              "       0.40762496, 0.5765996 , 0.49922466, 0.20822704, 0.07357836,\n",
              "       0.88440466, 0.17085445, 0.42289293, 0.9806658 , 0.43658388,\n",
              "       0.13378775, 0.11820638, 0.8686751 , 0.1863147 , 0.33849728,\n",
              "       0.71682584, 0.39619052, 0.00361979, 0.9058354 , 0.79911244,\n",
              "       0.7933638 , 0.9325619 , 0.93585527, 0.9039284 , 0.18606544,\n",
              "       0.4984331 , 0.81359017, 0.83634424, 0.05538046, 0.02855921,\n",
              "       0.6655563 , 0.3166381 , 0.09027731, 0.30410647, 0.00227296,\n",
              "       0.6332247 , 0.15466881, 0.6757076 , 0.90766454, 0.33765244,\n",
              "       0.4655341 , 0.30376935, 0.43766797, 0.7493447 , 0.73561966],\n",
              "      dtype=float32)>"
            ]
          },
          "metadata": {},
          "execution_count": 32
        }
      ]
    },
    {
      "cell_type": "code",
      "source": [
        "## Find positional max\n",
        "print(tf.argmax(tensor))\n",
        "print(np.argmax(tensor))\n",
        "print(tf.reduce_max(tensor))"
      ],
      "metadata": {
        "id": "NAoaKdftGF1h",
        "outputId": "6d17d198-4477-4642-ca1e-2e05217b330b",
        "colab": {
          "base_uri": "https://localhost:8080/"
        }
      },
      "execution_count": 40,
      "outputs": [
        {
          "output_type": "stream",
          "name": "stdout",
          "text": [
            "tf.Tensor(13, shape=(), dtype=int64)\n",
            "13\n",
            "tf.Tensor(0.9806658, shape=(), dtype=float32)\n"
          ]
        }
      ]
    },
    {
      "cell_type": "code",
      "source": [
        "##Find positional minimum\n",
        "print(tf.argmin(tensor))"
      ],
      "metadata": {
        "id": "M6Bz_ItRGiuX",
        "outputId": "feda62e6-a6f3-47f8-a1cf-48413a1b3586",
        "colab": {
          "base_uri": "https://localhost:8080/"
        }
      },
      "execution_count": 41,
      "outputs": [
        {
          "output_type": "stream",
          "name": "stdout",
          "text": [
            "tf.Tensor(39, shape=(), dtype=int64)\n"
          ]
        }
      ]
    },
    {
      "cell_type": "markdown",
      "source": [
        "### Squuezing a tensor\n"
      ],
      "metadata": {
        "id": "eIiDvc-HLx4J"
      }
    },
    {
      "cell_type": "code",
      "source": [
        "## Removing all single dimension\n",
        "\n",
        "'''E.g. shape = (1,1,1,1,50) ===> (50)'''\n",
        "\n",
        "G = tf.constant(tf.random.uniform(shape=[50]), shape = (1,1,1,1,50))\n",
        "G"
      ],
      "metadata": {
        "id": "kEe4SsUrLUkb",
        "outputId": "c5c3c38b-d2cf-4950-b110-b24015f1d54f",
        "colab": {
          "base_uri": "https://localhost:8080/"
        }
      },
      "execution_count": 58,
      "outputs": [
        {
          "output_type": "execute_result",
          "data": {
            "text/plain": [
              "<tf.Tensor: shape=(1, 1, 1, 1, 50), dtype=float32, numpy=\n",
              "array([[[[[0.6645621 , 0.44100678, 0.3528825 , 0.46448255, 0.03366041,\n",
              "           0.68467236, 0.74011743, 0.8724445 , 0.22632635, 0.22319686,\n",
              "           0.3103881 , 0.7223358 , 0.13318717, 0.5480639 , 0.5746088 ,\n",
              "           0.8996835 , 0.00946367, 0.5212307 , 0.6345445 , 0.1993283 ,\n",
              "           0.72942245, 0.54583454, 0.10756552, 0.6767061 , 0.6602763 ,\n",
              "           0.33695042, 0.60141766, 0.21062577, 0.8527372 , 0.44062173,\n",
              "           0.9485276 , 0.23752594, 0.81179297, 0.5263394 , 0.494308  ,\n",
              "           0.21612847, 0.8457197 , 0.8718841 , 0.3083862 , 0.6868038 ,\n",
              "           0.23764038, 0.7817228 , 0.9671384 , 0.06870162, 0.79873943,\n",
              "           0.66028714, 0.5871513 , 0.16461694, 0.7381023 , 0.32054043]]]]],\n",
              "      dtype=float32)>"
            ]
          },
          "metadata": {},
          "execution_count": 58
        }
      ]
    },
    {
      "cell_type": "code",
      "source": [
        "G_squeezed = tf.squeeze(G)\n",
        "G_squeezed"
      ],
      "metadata": {
        "id": "epNLc6aSL_Wz",
        "outputId": "791580e7-bc38-4295-9eb6-05493e4acaab",
        "colab": {
          "base_uri": "https://localhost:8080/"
        }
      },
      "execution_count": 60,
      "outputs": [
        {
          "output_type": "execute_result",
          "data": {
            "text/plain": [
              "<tf.Tensor: shape=(50,), dtype=float32, numpy=\n",
              "array([0.6645621 , 0.44100678, 0.3528825 , 0.46448255, 0.03366041,\n",
              "       0.68467236, 0.74011743, 0.8724445 , 0.22632635, 0.22319686,\n",
              "       0.3103881 , 0.7223358 , 0.13318717, 0.5480639 , 0.5746088 ,\n",
              "       0.8996835 , 0.00946367, 0.5212307 , 0.6345445 , 0.1993283 ,\n",
              "       0.72942245, 0.54583454, 0.10756552, 0.6767061 , 0.6602763 ,\n",
              "       0.33695042, 0.60141766, 0.21062577, 0.8527372 , 0.44062173,\n",
              "       0.9485276 , 0.23752594, 0.81179297, 0.5263394 , 0.494308  ,\n",
              "       0.21612847, 0.8457197 , 0.8718841 , 0.3083862 , 0.6868038 ,\n",
              "       0.23764038, 0.7817228 , 0.9671384 , 0.06870162, 0.79873943,\n",
              "       0.66028714, 0.5871513 , 0.16461694, 0.7381023 , 0.32054043],\n",
              "      dtype=float32)>"
            ]
          },
          "metadata": {},
          "execution_count": 60
        }
      ]
    },
    {
      "cell_type": "markdown",
      "source": [
        "### One Hot Encoding"
      ],
      "metadata": {
        "id": "sxDfa0AbM5HZ"
      }
    },
    {
      "cell_type": "code",
      "source": [
        "##First row has val red, second row green and so on\n",
        "sm_list = [1,2,3,4,4]##indices where 1 is to be filled\n",
        "\n",
        "##depth is the number of unique values+1(New Cols) to be formed\n",
        "oneHot = tf.one_hot(sm_list, depth=5)\n",
        "oneHot\n",
        "\n",
        "'''We can also pass on_value or off_value so on_value gives a certain value for\n",
        "the mentioned indices instead of 1 and off_value at all other positions'''\n",
        "\n",
        "oneHot = tf.one_hot(sm_list, depth=5, on_value=.9, off_value=.2)\n",
        "oneHot"
      ],
      "metadata": {
        "id": "f3hv1Aa_MoIj",
        "outputId": "1ac3bd42-8d19-486e-abe1-191ada2b9a25",
        "colab": {
          "base_uri": "https://localhost:8080/"
        }
      },
      "execution_count": 68,
      "outputs": [
        {
          "output_type": "execute_result",
          "data": {
            "text/plain": [
              "<tf.Tensor: shape=(5, 5), dtype=float32, numpy=\n",
              "array([[0.2, 0.9, 0.2, 0.2, 0.2],\n",
              "       [0.2, 0.2, 0.9, 0.2, 0.2],\n",
              "       [0.2, 0.2, 0.2, 0.9, 0.2],\n",
              "       [0.2, 0.2, 0.2, 0.2, 0.9],\n",
              "       [0.2, 0.2, 0.2, 0.2, 0.9]], dtype=float32)>"
            ]
          },
          "metadata": {},
          "execution_count": 68
        }
      ]
    },
    {
      "cell_type": "code",
      "source": [
        ""
      ],
      "metadata": {
        "id": "QrP7OBVRTldb"
      },
      "execution_count": null,
      "outputs": []
    }
  ]
}