{
  "nbformat": 4,
  "nbformat_minor": 0,
  "metadata": {
    "colab": {
      "name": "00_Tensorflow_fundamentals.ipynb",
      "provenance": [],
      "authorship_tag": "ABX9TyNxoIQo6/SPv3KAlSyz/GyT",
      "include_colab_link": true
    },
    "kernelspec": {
      "name": "python3",
      "display_name": "Python 3"
    },
    "language_info": {
      "name": "python"
    }
  },
  "cells": [
    {
      "cell_type": "markdown",
      "metadata": {
        "id": "view-in-github",
        "colab_type": "text"
      },
      "source": [
        "<a href=\"https://colab.research.google.com/github/Shreyas-13/Tensorflow-Developer/blob/main/00_Tensorflow_fundamentals.ipynb\" target=\"_parent\"><img src=\"https://colab.research.google.com/assets/colab-badge.svg\" alt=\"Open In Colab\"/></a>"
      ]
    },
    {
      "cell_type": "markdown",
      "source": [
        "# Tensorflow Fundamentals\n",
        "\n",
        "Outline:\n",
        "* Intro to tensors\n",
        "* Getting info from tensors\n",
        "* Manipulating tensors\n",
        "* Tensors and Numpy\n",
        "* Using @tf.function(a way to speed up regular python func)\n",
        "* Using GPU with tensorflow"
      ],
      "metadata": {
        "id": "WsQFYkDoF98P"
      }
    },
    {
      "cell_type": "markdown",
      "source": [
        "# Intro to Tensors"
      ],
      "metadata": {
        "id": "LfgjKT2rIIc2"
      }
    },
    {
      "cell_type": "markdown",
      "source": [
        "### Creating tensors using `tf.constant`"
      ],
      "metadata": {
        "id": "6PSyRbS-MqK7"
      }
    },
    {
      "cell_type": "code",
      "source": [
        "import tensorflow as tf\n",
        "\n",
        "print(tf.__version__)\n",
        "\n",
        "##Creating a tensor\n",
        "scalar = tf.constant(7)\n",
        "scalar"
      ],
      "metadata": {
        "colab": {
          "base_uri": "https://localhost:8080/"
        },
        "id": "lPaQcHU5F_xK",
        "outputId": "9c0a69e1-e884-4f26-baa6-0deb91c5edd7"
      },
      "execution_count": 3,
      "outputs": [
        {
          "output_type": "stream",
          "name": "stdout",
          "text": [
            "2.8.0\n"
          ]
        },
        {
          "output_type": "execute_result",
          "data": {
            "text/plain": [
              "<tf.Tensor: shape=(), dtype=int32, numpy=7>"
            ]
          },
          "metadata": {},
          "execution_count": 3
        }
      ]
    },
    {
      "cell_type": "code",
      "source": [
        "#Creating a vector\n",
        "\n",
        "vector = tf.constant([13,2], dtype=tf.float16)\n",
        "vector"
      ],
      "metadata": {
        "colab": {
          "base_uri": "https://localhost:8080/"
        },
        "id": "HXMYikuvIQK6",
        "outputId": "c08b270b-0ab3-4a47-8f94-6a73d1a49a79"
      },
      "execution_count": 4,
      "outputs": [
        {
          "output_type": "execute_result",
          "data": {
            "text/plain": [
              "<tf.Tensor: shape=(2,), dtype=float16, numpy=array([13.,  2.], dtype=float16)>"
            ]
          },
          "metadata": {},
          "execution_count": 4
        }
      ]
    },
    {
      "cell_type": "code",
      "source": [
        "vector.ndim"
      ],
      "metadata": {
        "colab": {
          "base_uri": "https://localhost:8080/"
        },
        "id": "-62KvzwdInSE",
        "outputId": "c97b7de5-5412-4f2e-e6af-94db365b83fd"
      },
      "execution_count": 5,
      "outputs": [
        {
          "output_type": "execute_result",
          "data": {
            "text/plain": [
              "1"
            ]
          },
          "metadata": {},
          "execution_count": 5
        }
      ]
    },
    {
      "cell_type": "code",
      "source": [
        "#Creating a matrix\n",
        "\n",
        "matrix = tf.constant([[10,20],\n",
        "                      [20,30],\n",
        "                     [30,40]])\n",
        "matrix"
      ],
      "metadata": {
        "colab": {
          "base_uri": "https://localhost:8080/"
        },
        "id": "No-C8zTsItwy",
        "outputId": "88b4fb31-1a6e-468d-d6a4-e6747a542e30"
      },
      "execution_count": 6,
      "outputs": [
        {
          "output_type": "execute_result",
          "data": {
            "text/plain": [
              "<tf.Tensor: shape=(3, 2), dtype=int32, numpy=\n",
              "array([[10, 20],\n",
              "       [20, 30],\n",
              "       [30, 40]], dtype=int32)>"
            ]
          },
          "metadata": {},
          "execution_count": 6
        }
      ]
    },
    {
      "cell_type": "code",
      "source": [
        "matrix.ndim"
      ],
      "metadata": {
        "colab": {
          "base_uri": "https://localhost:8080/"
        },
        "id": "ZHwWdbtjI8uU",
        "outputId": "89ec68f9-8a93-48c9-9d24-b644fe4d5ac3"
      },
      "execution_count": 7,
      "outputs": [
        {
          "output_type": "execute_result",
          "data": {
            "text/plain": [
              "2"
            ]
          },
          "metadata": {},
          "execution_count": 7
        }
      ]
    },
    {
      "cell_type": "code",
      "source": [
        "#Creating a 3-D tensor\n",
        "\n",
        "tensor = tf.constant([[[10,20,30],\n",
        "                       [20,30,40]],\n",
        "                      [[13,2,2000],\n",
        "                       [13,2,2001]],\n",
        "                      [[16,11,2002],\n",
        "                       [12,12,12]],\n",
        "                      [[12,23,43],\n",
        "                      [12,45,76]]])\n",
        "tensor"
      ],
      "metadata": {
        "colab": {
          "base_uri": "https://localhost:8080/"
        },
        "id": "Ne16iukjJAS7",
        "outputId": "32d3f0d6-f783-4bce-cce6-61a7a210c7a7"
      },
      "execution_count": 8,
      "outputs": [
        {
          "output_type": "execute_result",
          "data": {
            "text/plain": [
              "<tf.Tensor: shape=(4, 2, 3), dtype=int32, numpy=\n",
              "array([[[  10,   20,   30],\n",
              "        [  20,   30,   40]],\n",
              "\n",
              "       [[  13,    2, 2000],\n",
              "        [  13,    2, 2001]],\n",
              "\n",
              "       [[  16,   11, 2002],\n",
              "        [  12,   12,   12]],\n",
              "\n",
              "       [[  12,   23,   43],\n",
              "        [  12,   45,   76]]], dtype=int32)>"
            ]
          },
          "metadata": {},
          "execution_count": 8
        }
      ]
    },
    {
      "cell_type": "code",
      "source": [
        "tensor.ndim"
      ],
      "metadata": {
        "colab": {
          "base_uri": "https://localhost:8080/"
        },
        "id": "IkL02RSYJixv",
        "outputId": "0917d6a7-4159-45a6-88d7-57f99619eb6c"
      },
      "execution_count": 9,
      "outputs": [
        {
          "output_type": "execute_result",
          "data": {
            "text/plain": [
              "3"
            ]
          },
          "metadata": {},
          "execution_count": 9
        }
      ]
    },
    {
      "cell_type": "markdown",
      "source": [
        "* scalar: A variable with single value\n",
        "* vector: A set of values in single dimension[a single subscript is requiured hence 1-D]\n",
        "* matrix: A set of vector having 2-dimension[2 subscripts required hence 2-D e.g. arr[0][0]]\n",
        "* tensor: A set of matrices having n-dimension(dimension refers to the no. of digits required to indicate a particular element in an array)"
      ],
      "metadata": {
        "id": "-5GpUF8GJrrO"
      }
    },
    {
      "cell_type": "markdown",
      "source": [
        "### Creating tensors with `tf.Variable`"
      ],
      "metadata": {
        "id": "LwrJj9KML6on"
      }
    },
    {
      "cell_type": "code",
      "source": [
        "##Creating a tensor using tf.Variable\n",
        "\n",
        "changable_tensor = tf.Variable([10,23])\n",
        "changable_tensor"
      ],
      "metadata": {
        "colab": {
          "base_uri": "https://localhost:8080/"
        },
        "id": "U3u0OoEnJqJ_",
        "outputId": "cb0e63df-05e4-4782-c8ab-fa4941c5e304"
      },
      "execution_count": 10,
      "outputs": [
        {
          "output_type": "execute_result",
          "data": {
            "text/plain": [
              "<tf.Variable 'Variable:0' shape=(2,) dtype=int32, numpy=array([10, 23], dtype=int32)>"
            ]
          },
          "metadata": {},
          "execution_count": 10
        }
      ]
    },
    {
      "cell_type": "code",
      "source": [
        "##Updating the tensor value\n",
        "changable_tensor[0].assign(13)\n",
        "changable_tensor"
      ],
      "metadata": {
        "id": "Wk175jy7MWbm",
        "outputId": "ecb5d801-e3a3-4068-f3a6-c03e193a0e32",
        "colab": {
          "base_uri": "https://localhost:8080/"
        }
      },
      "execution_count": 11,
      "outputs": [
        {
          "output_type": "execute_result",
          "data": {
            "text/plain": [
              "<tf.Variable 'Variable:0' shape=(2,) dtype=int32, numpy=array([13, 23], dtype=int32)>"
            ]
          },
          "metadata": {},
          "execution_count": 11
        }
      ]
    },
    {
      "cell_type": "markdown",
      "source": [
        "Summary:\n",
        "  * tf.Variable unlike tf.constant can create tensors that can be updated when required\n",
        "\n",
        "**Note-** It is good practice to declare your tensors as constant and change them to variable when required."
      ],
      "metadata": {
        "id": "4qSLsx_XEbfJ"
      }
    },
    {
      "cell_type": "markdown",
      "source": [
        "### Creating Random Tensors\n",
        "\n",
        "Random tensors are used when we're trying to initialize the weights of a NN"
      ],
      "metadata": {
        "id": "Eda9O2gUE49-"
      }
    },
    {
      "cell_type": "code",
      "source": [
        "'''Creating a random tensor with with values ranging b/w -1,1 i.e. Normal\n",
        "Distribution'''\n",
        "tf.random.set_seed(1)\n",
        "\n",
        "random_1 = tf.random.Generator.from_seed(42)\n",
        "random_1 = random_1.normal(shape=(3,2))\n",
        "random_2 = tf.random.Generator.from_seed(42)\n",
        "random_2 = random_2.normal(shape=(3,2))\n",
        "\n",
        "random_1 == random_2\n",
        "\n",
        "'''We can also use Uniform Distribution if we want a value between 0,1'''\n",
        "\n",
        "random_3 = tf.random.Generator.from_seed(9)\n",
        "random_3 = random_3.uniform(shape=(1,2))\n",
        "random_3"
      ],
      "metadata": {
        "id": "zgH_UhExEZzr",
        "outputId": "f8899911-7613-4d01-99f0-ec9ac8adf53e",
        "colab": {
          "base_uri": "https://localhost:8080/"
        }
      },
      "execution_count": 54,
      "outputs": [
        {
          "output_type": "execute_result",
          "data": {
            "text/plain": [
              "<tf.Tensor: shape=(1, 2), dtype=float32, numpy=array([[0.8203654 , 0.70470357]], dtype=float32)>"
            ]
          },
          "metadata": {},
          "execution_count": 54
        }
      ]
    },
    {
      "cell_type": "markdown",
      "source": [
        "### Shuffling the tensors\n",
        "\n",
        "Required so that the dataset is mixedd randomly and not same type of data is repeated together."
      ],
      "metadata": {
        "id": "3gWNqUfIJTf1"
      }
    },
    {
      "cell_type": "code",
      "source": [
        "import numpy as np\n",
        "\n",
        "matrix = np.random.rand(6).reshape(3,2)\n",
        "\n",
        "not_shuffeled = tf.constant(matrix)\n",
        "not_shuffeled"
      ],
      "metadata": {
        "id": "qQn3iptDFR-q",
        "outputId": "4a08c490-3f77-4b0c-e5ce-f82256b9f7a2",
        "colab": {
          "base_uri": "https://localhost:8080/"
        }
      },
      "execution_count": 26,
      "outputs": [
        {
          "output_type": "execute_result",
          "data": {
            "text/plain": [
              "<tf.Tensor: shape=(3, 2), dtype=float64, numpy=\n",
              "array([[0.72707183, 0.59029776],\n",
              "       [0.15850232, 0.71818428],\n",
              "       [0.41240095, 0.38722149]])>"
            ]
          },
          "metadata": {},
          "execution_count": 26
        }
      ]
    },
    {
      "cell_type": "code",
      "source": [
        "'''Here even using seed doesn't guarantee same output everytime cz of global and \n",
        "operational-level seed'''\n",
        "\n",
        "shuffeled = tf.random.shuffle(not_shuffeled, seed=1)\n",
        "shuffeled"
      ],
      "metadata": {
        "id": "sKfZXEfvJyc0",
        "outputId": "ad9efdd6-77fa-4142-a7f0-be576294b1fd",
        "colab": {
          "base_uri": "https://localhost:8080/"
        }
      },
      "execution_count": 37,
      "outputs": [
        {
          "output_type": "execute_result",
          "data": {
            "text/plain": [
              "<tf.Tensor: shape=(3, 2), dtype=float64, numpy=\n",
              "array([[0.15850232, 0.71818428],\n",
              "       [0.41240095, 0.38722149],\n",
              "       [0.72707183, 0.59029776]])>"
            ]
          },
          "metadata": {},
          "execution_count": 37
        }
      ]
    },
    {
      "cell_type": "code",
      "source": [
        "'''Here setting tf.random.set_seed() resolves the problem'''\n",
        "\n",
        "tf.random.set_seed(1)\n",
        "shuffeled = tf.random.shuffle(not_shuffeled, seed=11)\n",
        "shuffeled"
      ],
      "metadata": {
        "id": "jGEHiTslKxtF",
        "outputId": "f0d8f3c4-ff96-47ac-8b4e-8d090492a616",
        "colab": {
          "base_uri": "https://localhost:8080/"
        }
      },
      "execution_count": 52,
      "outputs": [
        {
          "output_type": "execute_result",
          "data": {
            "text/plain": [
              "<tf.Tensor: shape=(3, 2), dtype=float64, numpy=\n",
              "array([[0.15850232, 0.71818428],\n",
              "       [0.41240095, 0.38722149],\n",
              "       [0.72707183, 0.59029776]])>"
            ]
          },
          "metadata": {},
          "execution_count": 52
        }
      ]
    },
    {
      "cell_type": "markdown",
      "source": [
        "### X"
      ],
      "metadata": {
        "id": "erSfprdPMjkx"
      }
    },
    {
      "cell_type": "code",
      "source": [
        ""
      ],
      "metadata": {
        "id": "3Th-FiEBLbJK"
      },
      "execution_count": 38,
      "outputs": []
    }
  ]
}