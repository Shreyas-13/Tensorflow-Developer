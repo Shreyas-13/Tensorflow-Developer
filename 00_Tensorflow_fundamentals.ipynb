{
  "nbformat": 4,
  "nbformat_minor": 0,
  "metadata": {
    "colab": {
      "name": "00_Tensorflow_fundamentals.ipynb",
      "provenance": [],
      "authorship_tag": "ABX9TyOC8mzCBSVpUgfdXMz5BoBy",
      "include_colab_link": true
    },
    "kernelspec": {
      "name": "python3",
      "display_name": "Python 3"
    },
    "language_info": {
      "name": "python"
    }
  },
  "cells": [
    {
      "cell_type": "markdown",
      "metadata": {
        "id": "view-in-github",
        "colab_type": "text"
      },
      "source": [
        "<a href=\"https://colab.research.google.com/github/Shreyas-13/Tensorflow-Developer/blob/main/00_Tensorflow_fundamentals.ipynb\" target=\"_parent\"><img src=\"https://colab.research.google.com/assets/colab-badge.svg\" alt=\"Open In Colab\"/></a>"
      ]
    },
    {
      "cell_type": "markdown",
      "source": [
        "# Tensorflow Fundamentals\n",
        "\n",
        "Outline:\n",
        "* Intro to tensors\n",
        "* Getting info from tensors\n",
        "* Manipulating tensors\n",
        "* Tensors and Numpy\n",
        "* Using @tf.function(a way to speed up regular python func)\n",
        "* Using GPU with tensorflow"
      ],
      "metadata": {
        "id": "WsQFYkDoF98P"
      }
    },
    {
      "cell_type": "markdown",
      "source": [
        "# Intro to Tensors"
      ],
      "metadata": {
        "id": "LfgjKT2rIIc2"
      }
    },
    {
      "cell_type": "markdown",
      "source": [
        "### Creating tensors using `tf.constant`"
      ],
      "metadata": {
        "id": "6PSyRbS-MqK7"
      }
    },
    {
      "cell_type": "code",
      "source": [
        "import tensorflow as tf\n",
        "\n",
        "print(tf.__version__)\n",
        "\n",
        "##Creating a tensor\n",
        "scalar = tf.constant(7)\n",
        "scalar"
      ],
      "metadata": {
        "colab": {
          "base_uri": "https://localhost:8080/"
        },
        "id": "lPaQcHU5F_xK",
        "outputId": "c4fec417-9c2b-466f-c2c7-52454bbfd404"
      },
      "execution_count": 1,
      "outputs": [
        {
          "output_type": "stream",
          "name": "stdout",
          "text": [
            "2.8.0\n"
          ]
        },
        {
          "output_type": "execute_result",
          "data": {
            "text/plain": [
              "<tf.Tensor: shape=(), dtype=int32, numpy=7>"
            ]
          },
          "metadata": {},
          "execution_count": 1
        }
      ]
    },
    {
      "cell_type": "code",
      "source": [
        "#Creating a vector\n",
        "\n",
        "vector = tf.constant([13,2], dtype=tf.float16)\n",
        "vector"
      ],
      "metadata": {
        "colab": {
          "base_uri": "https://localhost:8080/"
        },
        "id": "HXMYikuvIQK6",
        "outputId": "b4f661b4-2c1b-4421-d585-3b0f3f2ee255"
      },
      "execution_count": 2,
      "outputs": [
        {
          "output_type": "execute_result",
          "data": {
            "text/plain": [
              "<tf.Tensor: shape=(2,), dtype=float16, numpy=array([13.,  2.], dtype=float16)>"
            ]
          },
          "metadata": {},
          "execution_count": 2
        }
      ]
    },
    {
      "cell_type": "code",
      "source": [
        "vector.ndim"
      ],
      "metadata": {
        "colab": {
          "base_uri": "https://localhost:8080/"
        },
        "id": "-62KvzwdInSE",
        "outputId": "00644b8f-afc0-4e77-aacc-66a1d2966e35"
      },
      "execution_count": 3,
      "outputs": [
        {
          "output_type": "execute_result",
          "data": {
            "text/plain": [
              "1"
            ]
          },
          "metadata": {},
          "execution_count": 3
        }
      ]
    },
    {
      "cell_type": "code",
      "source": [
        "#Creating a matrix\n",
        "\n",
        "matrix = tf.constant([[10,20],\n",
        "                      [20,30],\n",
        "                     [30,40]])\n",
        "matrix"
      ],
      "metadata": {
        "colab": {
          "base_uri": "https://localhost:8080/"
        },
        "id": "No-C8zTsItwy",
        "outputId": "3d9b9174-c213-4690-9cf3-f28e47239479"
      },
      "execution_count": 4,
      "outputs": [
        {
          "output_type": "execute_result",
          "data": {
            "text/plain": [
              "<tf.Tensor: shape=(3, 2), dtype=int32, numpy=\n",
              "array([[10, 20],\n",
              "       [20, 30],\n",
              "       [30, 40]], dtype=int32)>"
            ]
          },
          "metadata": {},
          "execution_count": 4
        }
      ]
    },
    {
      "cell_type": "code",
      "source": [
        "matrix.ndim"
      ],
      "metadata": {
        "colab": {
          "base_uri": "https://localhost:8080/"
        },
        "id": "ZHwWdbtjI8uU",
        "outputId": "c5354cd9-671a-4e73-e89e-85a624c86066"
      },
      "execution_count": 5,
      "outputs": [
        {
          "output_type": "execute_result",
          "data": {
            "text/plain": [
              "2"
            ]
          },
          "metadata": {},
          "execution_count": 5
        }
      ]
    },
    {
      "cell_type": "code",
      "source": [
        "#Creating a 3-D tensor\n",
        "\n",
        "tensor = tf.constant([[[10,20,30],\n",
        "                       [20,30,40]],\n",
        "                      [[13,2,2000],\n",
        "                       [13,2,2001]],\n",
        "                      [[16,11,2002],\n",
        "                       [12,12,12]],\n",
        "                      [[12,23,43],\n",
        "                      [12,45,76]]])\n",
        "tensor"
      ],
      "metadata": {
        "colab": {
          "base_uri": "https://localhost:8080/"
        },
        "id": "Ne16iukjJAS7",
        "outputId": "3cb8ef6f-e29b-4426-fbe1-817683d4f954"
      },
      "execution_count": 6,
      "outputs": [
        {
          "output_type": "execute_result",
          "data": {
            "text/plain": [
              "<tf.Tensor: shape=(4, 2, 3), dtype=int32, numpy=\n",
              "array([[[  10,   20,   30],\n",
              "        [  20,   30,   40]],\n",
              "\n",
              "       [[  13,    2, 2000],\n",
              "        [  13,    2, 2001]],\n",
              "\n",
              "       [[  16,   11, 2002],\n",
              "        [  12,   12,   12]],\n",
              "\n",
              "       [[  12,   23,   43],\n",
              "        [  12,   45,   76]]], dtype=int32)>"
            ]
          },
          "metadata": {},
          "execution_count": 6
        }
      ]
    },
    {
      "cell_type": "code",
      "source": [
        "tensor.ndim"
      ],
      "metadata": {
        "colab": {
          "base_uri": "https://localhost:8080/"
        },
        "id": "IkL02RSYJixv",
        "outputId": "7ed700b3-b7de-4028-fe52-79cce256dec7"
      },
      "execution_count": 7,
      "outputs": [
        {
          "output_type": "execute_result",
          "data": {
            "text/plain": [
              "3"
            ]
          },
          "metadata": {},
          "execution_count": 7
        }
      ]
    },
    {
      "cell_type": "markdown",
      "source": [
        "* scalar: A variable with single value\n",
        "* vector: A set of values in single dimension[a single subscript is requiured hence 1-D]\n",
        "* matrix: A set of vector having 2-dimension[2 subscripts required hence 2-D e.g. arr[0][0]]\n",
        "* tensor: A set of matrices having n-dimension(dimension refers to the no. of digits required to indicate a particular element in an array)"
      ],
      "metadata": {
        "id": "-5GpUF8GJrrO"
      }
    },
    {
      "cell_type": "markdown",
      "source": [
        "### Creating tensors with `tf.Variable`"
      ],
      "metadata": {
        "id": "LwrJj9KML6on"
      }
    },
    {
      "cell_type": "code",
      "source": [
        "##Creating a tensor using tf.Variable\n",
        "\n",
        "changable_tensor = tf.Variable([10,23])\n",
        "changable_tensor"
      ],
      "metadata": {
        "colab": {
          "base_uri": "https://localhost:8080/"
        },
        "id": "U3u0OoEnJqJ_",
        "outputId": "9c4fd219-9c87-4ea5-8674-d1d89680712c"
      },
      "execution_count": 8,
      "outputs": [
        {
          "output_type": "execute_result",
          "data": {
            "text/plain": [
              "<tf.Variable 'Variable:0' shape=(2,) dtype=int32, numpy=array([10, 23], dtype=int32)>"
            ]
          },
          "metadata": {},
          "execution_count": 8
        }
      ]
    },
    {
      "cell_type": "code",
      "source": [
        "##Updating the tensor value\n",
        "changable_tensor[0].assign(13)\n",
        "changable_tensor"
      ],
      "metadata": {
        "id": "Wk175jy7MWbm",
        "outputId": "3d2bffc8-be89-48c6-e1d4-c3c0558bc93f",
        "colab": {
          "base_uri": "https://localhost:8080/"
        }
      },
      "execution_count": 9,
      "outputs": [
        {
          "output_type": "execute_result",
          "data": {
            "text/plain": [
              "<tf.Variable 'Variable:0' shape=(2,) dtype=int32, numpy=array([13, 23], dtype=int32)>"
            ]
          },
          "metadata": {},
          "execution_count": 9
        }
      ]
    },
    {
      "cell_type": "markdown",
      "source": [
        "Summary:\n",
        "  * tf.Variable unlike tf.constant can create tensors that can be updated when required\n",
        "\n",
        "**Note-** It is good practice to declare your tensors as constant and change them to variable when required."
      ],
      "metadata": {
        "id": "4qSLsx_XEbfJ"
      }
    },
    {
      "cell_type": "markdown",
      "source": [
        "### Creating Random Tensors\n",
        "\n",
        "Random tensors are used when we're trying to initialize the weights of a NN"
      ],
      "metadata": {
        "id": "Eda9O2gUE49-"
      }
    },
    {
      "cell_type": "code",
      "source": [
        "'''Creating a random tensor with with values ranging b/w -1,1 i.e. Normal\n",
        "Distribution'''\n",
        "tf.random.set_seed(1)\n",
        "\n",
        "random_1 = tf.random.Generator.from_seed(42)\n",
        "random_1 = random_1.normal(shape=(3,2))\n",
        "random_2 = tf.random.Generator.from_seed(42)\n",
        "random_2 = random_2.normal(shape=(3,2))\n",
        "\n",
        "random_1 == random_2\n",
        "\n",
        "'''We can also use Uniform Distribution if we want a value between 0,1'''\n",
        "\n",
        "random_3 = tf.random.Generator.from_seed(9)\n",
        "random_3 = random_3.uniform(shape=(1,2))\n",
        "random_3"
      ],
      "metadata": {
        "id": "zgH_UhExEZzr",
        "outputId": "ed878f91-112d-4b87-ca86-5d6f158ccc8d",
        "colab": {
          "base_uri": "https://localhost:8080/"
        }
      },
      "execution_count": 10,
      "outputs": [
        {
          "output_type": "execute_result",
          "data": {
            "text/plain": [
              "<tf.Tensor: shape=(1, 2), dtype=float32, numpy=array([[0.8203654 , 0.70470357]], dtype=float32)>"
            ]
          },
          "metadata": {},
          "execution_count": 10
        }
      ]
    },
    {
      "cell_type": "markdown",
      "source": [
        "### Shuffling the tensors\n",
        "\n",
        "Required so that the dataset is mixedd randomly and not same type of data is repeated together."
      ],
      "metadata": {
        "id": "3gWNqUfIJTf1"
      }
    },
    {
      "cell_type": "code",
      "source": [
        "import numpy as np\n",
        "\n",
        "matrix = np.random.rand(6).reshape(3,2)\n",
        "\n",
        "not_shuffeled = tf.constant(matrix)\n",
        "not_shuffeled"
      ],
      "metadata": {
        "id": "qQn3iptDFR-q",
        "outputId": "720900a6-b954-49d3-8bb3-1501cb50bb9b",
        "colab": {
          "base_uri": "https://localhost:8080/"
        }
      },
      "execution_count": 11,
      "outputs": [
        {
          "output_type": "execute_result",
          "data": {
            "text/plain": [
              "<tf.Tensor: shape=(3, 2), dtype=float64, numpy=\n",
              "array([[0.56345189, 0.72348053],\n",
              "       [0.61771805, 0.61072883],\n",
              "       [0.5019371 , 0.50079547]])>"
            ]
          },
          "metadata": {},
          "execution_count": 11
        }
      ]
    },
    {
      "cell_type": "code",
      "source": [
        "'''Here even using seed doesn't guarantee same output everytime cz of global and \n",
        "operational-level seed'''\n",
        "\n",
        "shuffeled = tf.random.shuffle(not_shuffeled, seed=1)\n",
        "shuffeled"
      ],
      "metadata": {
        "id": "sKfZXEfvJyc0",
        "outputId": "efaa7b76-9b6c-4c04-a23e-2e6dccefb985",
        "colab": {
          "base_uri": "https://localhost:8080/"
        }
      },
      "execution_count": 12,
      "outputs": [
        {
          "output_type": "execute_result",
          "data": {
            "text/plain": [
              "<tf.Tensor: shape=(3, 2), dtype=float64, numpy=\n",
              "array([[0.56345189, 0.72348053],\n",
              "       [0.61771805, 0.61072883],\n",
              "       [0.5019371 , 0.50079547]])>"
            ]
          },
          "metadata": {},
          "execution_count": 12
        }
      ]
    },
    {
      "cell_type": "code",
      "source": [
        "'''Here setting tf.random.set_seed() resolves the problem'''\n",
        "\n",
        "tf.random.set_seed(1)\n",
        "shuffeled = tf.random.shuffle(not_shuffeled, seed=11)\n",
        "shuffeled"
      ],
      "metadata": {
        "id": "jGEHiTslKxtF",
        "outputId": "ae5a471c-3ac1-4214-b9ec-8fc1bf8d185e",
        "colab": {
          "base_uri": "https://localhost:8080/"
        }
      },
      "execution_count": 13,
      "outputs": [
        {
          "output_type": "execute_result",
          "data": {
            "text/plain": [
              "<tf.Tensor: shape=(3, 2), dtype=float64, numpy=\n",
              "array([[0.61771805, 0.61072883],\n",
              "       [0.5019371 , 0.50079547],\n",
              "       [0.56345189, 0.72348053]])>"
            ]
          },
          "metadata": {},
          "execution_count": 13
        }
      ]
    },
    {
      "cell_type": "markdown",
      "source": [
        "### Getting Information from tensors\n",
        "\n",
        "A tensor has following attributes:\n",
        "  * Shape - Shape of tensor tensor.shape\n",
        "  * Rank - No of dimensions tensor.ndim\n",
        "  * Axis - tensor[0] or tensor[:, 1]\n",
        "  * Size - No of elements in the tensor tf.size(tensor)"
      ],
      "metadata": {
        "id": "erSfprdPMjkx"
      }
    },
    {
      "cell_type": "code",
      "source": [
        "##func to extract all these info\n",
        "\n",
        "def info(tensor):\n",
        "  print('Datatype of Elements: ', tensor.dtype)\n",
        "  print('Rank: ', tensor.ndim)\n",
        "  print('Shape: ', tensor.shape)\n",
        "  print('Axis 0: ', tensor[0])\n",
        "  print('Size: ', tf.size(tensor).numpy())\n",
        "\n",
        "if __name__ == '__main__':\n",
        "  tf.random.set_seed(100)\n",
        "  rank_4_tensor = tf.random.Generator.from_seed(32)\n",
        "  rank_4_tensor = rank_4_tensor.normal(shape=(2,3,4,5))\n",
        "  info(rank_4_tensor)"
      ],
      "metadata": {
        "id": "3Th-FiEBLbJK",
        "colab": {
          "base_uri": "https://localhost:8080/"
        },
        "outputId": "872eb92d-f019-418e-ba5c-ddd9ce3180fb"
      },
      "execution_count": 14,
      "outputs": [
        {
          "output_type": "stream",
          "name": "stdout",
          "text": [
            "Datatype of Elements:  <dtype: 'float32'>\n",
            "Rank:  4\n",
            "Shape:  (2, 3, 4, 5)\n",
            "Axis 0:  tf.Tensor(\n",
            "[[[ 0.7901182   1.585549    0.4356279   0.23645182 -0.1589871 ]\n",
            "  [ 1.302304    0.9592239   0.85874265 -1.5181769   1.4020647 ]\n",
            "  [ 1.5570306  -0.96762174  0.495291   -0.648484   -1.8700892 ]\n",
            "  [ 2.7830641  -0.645002    0.18022095 -0.14656258  0.34374258]]\n",
            "\n",
            " [[ 0.41367555  0.17573498 -1.0871261   0.45905176  0.20386009]\n",
            "  [ 0.562024   -2.3001142  -1.349454    0.81485     1.2790666 ]\n",
            "  [ 0.02203509  1.5428121   0.78953624  0.53897345 -0.48535708]\n",
            "  [ 0.74055266  0.31662667 -1.4391748   0.58923835 -1.4268045 ]]\n",
            "\n",
            " [[-0.7565803  -0.06854702  0.07595026 -1.2573844  -0.23193763]\n",
            "  [-1.8107855   0.09988727 -0.50998646 -0.7535805  -0.57166284]\n",
            "  [ 0.1480774  -0.23362993 -0.3522796   0.40621263 -1.0523509 ]\n",
            "  [ 1.2054597   1.6874489  -0.4462975  -2.3410842   0.99009085]]], shape=(3, 4, 5), dtype=float32)\n",
            "Size:  120\n"
          ]
        }
      ]
    },
    {
      "cell_type": "markdown",
      "source": [
        "### Indexing Tensor"
      ],
      "metadata": {
        "id": "ypdDQpu-bxvV"
      }
    },
    {
      "cell_type": "code",
      "source": [
        "##Slicing in tensorflow is same as python\n",
        "\n",
        "rank_4_tensor[:1, :2, :3, :]"
      ],
      "metadata": {
        "colab": {
          "base_uri": "https://localhost:8080/"
        },
        "id": "SKIkpmGjb2n0",
        "outputId": "0965c7e1-8e4d-42e4-fea8-16f2a6804947"
      },
      "execution_count": 15,
      "outputs": [
        {
          "output_type": "execute_result",
          "data": {
            "text/plain": [
              "<tf.Tensor: shape=(1, 2, 3, 5), dtype=float32, numpy=\n",
              "array([[[[ 0.7901182 ,  1.585549  ,  0.4356279 ,  0.23645182,\n",
              "          -0.1589871 ],\n",
              "         [ 1.302304  ,  0.9592239 ,  0.85874265, -1.5181769 ,\n",
              "           1.4020647 ],\n",
              "         [ 1.5570306 , -0.96762174,  0.495291  , -0.648484  ,\n",
              "          -1.8700892 ]],\n",
              "\n",
              "        [[ 0.41367555,  0.17573498, -1.0871261 ,  0.45905176,\n",
              "           0.20386009],\n",
              "         [ 0.562024  , -2.3001142 , -1.349454  ,  0.81485   ,\n",
              "           1.2790666 ],\n",
              "         [ 0.02203509,  1.5428121 ,  0.78953624,  0.53897345,\n",
              "          -0.48535708]]]], dtype=float32)>"
            ]
          },
          "metadata": {},
          "execution_count": 15
        }
      ]
    },
    {
      "cell_type": "code",
      "source": [
        "##Expanding dimension of a tensor this is done to make uniform tensors of same size\n",
        "'''Axis denotes the index at which one wants to add a dimension for example if \n",
        "shape of the tensor is like(2,3,4,5) and axis=1 is passed then the new shape \n",
        "will be (2,1,3,4,5)'''\n",
        "rank_2_tensor = tf.random.Generator.from_seed(32)\n",
        "rank_2_tensor = rank_2_tensor.normal(shape=(2,2))\n",
        "print(rank_2_tensor)\n",
        "print('=================')\n",
        "tf.expand_dims(rank_2_tensor, axis=-1) ##axis=-1 indicates adding one extra dimension at the end\n"
      ],
      "metadata": {
        "colab": {
          "base_uri": "https://localhost:8080/"
        },
        "id": "bIFTzsTddjij",
        "outputId": "b0dbd589-7780-4c47-fd65-9a8ef6a1f0ee"
      },
      "execution_count": 16,
      "outputs": [
        {
          "output_type": "stream",
          "name": "stdout",
          "text": [
            "tf.Tensor(\n",
            "[[0.7901182  1.585549  ]\n",
            " [0.4356279  0.23645182]], shape=(2, 2), dtype=float32)\n",
            "=================\n"
          ]
        },
        {
          "output_type": "execute_result",
          "data": {
            "text/plain": [
              "<tf.Tensor: shape=(2, 2, 1), dtype=float32, numpy=\n",
              "array([[[0.7901182 ],\n",
              "        [1.585549  ]],\n",
              "\n",
              "       [[0.4356279 ],\n",
              "        [0.23645182]]], dtype=float32)>"
            ]
          },
          "metadata": {},
          "execution_count": 16
        }
      ]
    },
    {
      "cell_type": "markdown",
      "source": [
        "### Manipulating tensors\n",
        "**Basic Operations-**\n",
        "`+`, `-`, `*`, `/`"
      ],
      "metadata": {
        "id": "WIsuPQvWglrn"
      }
    },
    {
      "cell_type": "code",
      "source": [
        "##Basic Operation Addition\n",
        "\n",
        "tensor = tf.constant([[2,3], \n",
        "                      [4,5]])\n",
        "print('Add=',  tensor+10)\n",
        "print('Mul=',  tensor*10)\n",
        "print('Sub=',  tensor-10)\n",
        "print('Div=',  tensor/10)"
      ],
      "metadata": {
        "colab": {
          "base_uri": "https://localhost:8080/"
        },
        "id": "zuoI3cjteSLg",
        "outputId": "dd48615b-20c6-449d-f8b5-da7bc5555eb9"
      },
      "execution_count": 17,
      "outputs": [
        {
          "output_type": "stream",
          "name": "stdout",
          "text": [
            "Add= tf.Tensor(\n",
            "[[12 13]\n",
            " [14 15]], shape=(2, 2), dtype=int32)\n",
            "Mul= tf.Tensor(\n",
            "[[20 30]\n",
            " [40 50]], shape=(2, 2), dtype=int32)\n",
            "Sub= tf.Tensor(\n",
            "[[-8 -7]\n",
            " [-6 -5]], shape=(2, 2), dtype=int32)\n",
            "Div= tf.Tensor(\n",
            "[[0.2 0.3]\n",
            " [0.4 0.5]], shape=(2, 2), dtype=float64)\n"
          ]
        }
      ]
    },
    {
      "cell_type": "code",
      "source": [
        "##We can use built-in functions as well(faster as makes use of GPU)\n",
        "print('Multiply=',tf.math.multiply(tensor, 10))\n",
        "print('Add=',tf.math.add(tensor, 10))\n",
        "print('Div=',tf.math.divide(tensor, 10))\n",
        "# print('Add=',tf.math.multiply(tensor, 10))\n"
      ],
      "metadata": {
        "colab": {
          "base_uri": "https://localhost:8080/"
        },
        "id": "ahk1t8jce1ou",
        "outputId": "3a322b24-a0df-48a1-fde3-c57099dfa5e7"
      },
      "execution_count": 18,
      "outputs": [
        {
          "output_type": "stream",
          "name": "stdout",
          "text": [
            "Multiply= tf.Tensor(\n",
            "[[20 30]\n",
            " [40 50]], shape=(2, 2), dtype=int32)\n",
            "Add= tf.Tensor(\n",
            "[[12 13]\n",
            " [14 15]], shape=(2, 2), dtype=int32)\n",
            "Div= tf.Tensor(\n",
            "[[0.2 0.3]\n",
            " [0.4 0.5]], shape=(2, 2), dtype=float64)\n"
          ]
        }
      ]
    },
    {
      "cell_type": "markdown",
      "source": [
        "### Matrix Multiplication"
      ],
      "metadata": {
        "id": "om7GMwb_Y2ZI"
      }
    },
    {
      "cell_type": "code",
      "source": [
        "## Matrix Multiplication\n",
        "\n",
        "print(tf.matmul(tensor, tensor))\n",
        "\n",
        "## In python we use @ symbol for matrix multiplication\n",
        "print(tensor @ tensor)"
      ],
      "metadata": {
        "id": "eAksHQ7ChIM2",
        "colab": {
          "base_uri": "https://localhost:8080/"
        },
        "outputId": "430476e7-df74-405c-f21c-130cb3c50862"
      },
      "execution_count": 19,
      "outputs": [
        {
          "output_type": "stream",
          "name": "stdout",
          "text": [
            "tf.Tensor(\n",
            "[[16 21]\n",
            " [28 37]], shape=(2, 2), dtype=int32)\n",
            "tf.Tensor(\n",
            "[[16 21]\n",
            " [28 37]], shape=(2, 2), dtype=int32)\n"
          ]
        }
      ]
    },
    {
      "cell_type": "code",
      "source": [
        "## Other useful operations\n",
        "##Transpose of a matrix\n",
        "\n",
        "tf.random.set_seed(10)\n",
        "\n",
        "newMat = tf.random.Generator.from_seed(32)\n",
        "newMat2 = tf.random.Generator.from_seed(2)\n",
        "newMat = newMat.normal(shape=(3,2))\n",
        "newMat2 = newMat2.normal(shape=(3,2))\n",
        "\n",
        "newMat, newMat2\n",
        "\n",
        "##transposing newMat\n",
        "tf.transpose(newMat)\n",
        "\n",
        "##Reshaping a matrix\n",
        "tf.reshape(newMat2, shape=(2,3))"
      ],
      "metadata": {
        "colab": {
          "base_uri": "https://localhost:8080/"
        },
        "id": "S122fpQaZowg",
        "outputId": "50fefcb8-e51e-4736-deb6-6617df2d0e8d"
      },
      "execution_count": 20,
      "outputs": [
        {
          "output_type": "execute_result",
          "data": {
            "text/plain": [
              "<tf.Tensor: shape=(2, 3), dtype=float32, numpy=\n",
              "array([[-0.1012345 , -0.2744976 ,  1.4204658 ],\n",
              "       [ 1.2609464 , -0.43640924, -1.9633987 ]], dtype=float32)>"
            ]
          },
          "metadata": {},
          "execution_count": 20
        }
      ]
    },
    {
      "cell_type": "code",
      "source": [
        ""
      ],
      "metadata": {
        "id": "gR3o6yX6bFUL"
      },
      "execution_count": 20,
      "outputs": []
    },
    {
      "cell_type": "markdown",
      "source": [
        "### Changing DataType of Tensor"
      ],
      "metadata": {
        "id": "qVCW5f6QdeAq"
      }
    },
    {
      "cell_type": "code",
      "source": [
        "'''Float16 works faster on GPUs as compared to float32 thus reduced precision is\n",
        "required'''\n",
        "\n",
        "B = tf.random.Generator.from_seed(10)\n",
        "B = B.normal(shape=(2,2))\n",
        "B"
      ],
      "metadata": {
        "colab": {
          "base_uri": "https://localhost:8080/"
        },
        "id": "AScTNyOmdiK_",
        "outputId": "2221981c-3726-466d-9d05-b277447ff029"
      },
      "execution_count": 21,
      "outputs": [
        {
          "output_type": "execute_result",
          "data": {
            "text/plain": [
              "<tf.Tensor: shape=(2, 2), dtype=float32, numpy=\n",
              "array([[-0.29604465, -0.21134205],\n",
              "       [ 0.01063002,  1.5165398 ]], dtype=float32)>"
            ]
          },
          "metadata": {},
          "execution_count": 21
        }
      ]
    },
    {
      "cell_type": "code",
      "source": [
        "'''Changing dtype to float16 using `tf.cast()`'''\n",
        "\n",
        "B = tf.cast(B, dtype=tf.float16)\n",
        "B"
      ],
      "metadata": {
        "colab": {
          "base_uri": "https://localhost:8080/"
        },
        "id": "WfiKLVg-e4Ja",
        "outputId": "5764362c-9a5d-45ec-c232-d245968a51d1"
      },
      "execution_count": 22,
      "outputs": [
        {
          "output_type": "execute_result",
          "data": {
            "text/plain": [
              "<tf.Tensor: shape=(2, 2), dtype=float16, numpy=\n",
              "array([[-0.2961 , -0.2113 ],\n",
              "       [ 0.01063,  1.517  ]], dtype=float16)>"
            ]
          },
          "metadata": {},
          "execution_count": 22
        }
      ]
    },
    {
      "cell_type": "markdown",
      "source": [
        "### Tensor Aggregation\n",
        "  * Max\n",
        "  * Min\n",
        "  * Mean\n",
        "  * Sum\n",
        "  * Absolute"
      ],
      "metadata": {
        "id": "0plBcdDTf2L8"
      }
    },
    {
      "cell_type": "code",
      "source": [
        "tensor = tf.random.Generator.from_seed(5)\n",
        "tensor = tensor.normal(shape=(3,3))\n",
        "tensor"
      ],
      "metadata": {
        "colab": {
          "base_uri": "https://localhost:8080/"
        },
        "id": "DGuOnhQjfA2o",
        "outputId": "c59dac79-8058-40d3-c94d-593a733eb4d1"
      },
      "execution_count": 23,
      "outputs": [
        {
          "output_type": "execute_result",
          "data": {
            "text/plain": [
              "<tf.Tensor: shape=(3, 3), dtype=float32, numpy=\n",
              "array([[ 1.0278524 ,  0.27974114, -0.01347923],\n",
              "       [ 1.845181  ,  0.97061104, -1.0242516 ],\n",
              "       [-0.6544423 , -0.29738766, -1.3240396 ]], dtype=float32)>"
            ]
          },
          "metadata": {},
          "execution_count": 23
        }
      ]
    },
    {
      "cell_type": "code",
      "source": [
        "## Max along axis 0 and axis 1\n",
        "print(tf.reduce_max(tensor, axis=0))\n",
        "print(tf.reduce_max(tensor, axis=1))\n"
      ],
      "metadata": {
        "colab": {
          "base_uri": "https://localhost:8080/"
        },
        "id": "9wgJFyBkg5X3",
        "outputId": "8bdfbb3d-d5e2-434b-9986-916ad064a02c"
      },
      "execution_count": 24,
      "outputs": [
        {
          "output_type": "stream",
          "name": "stdout",
          "text": [
            "tf.Tensor([ 1.845181    0.97061104 -0.01347923], shape=(3,), dtype=float32)\n",
            "tf.Tensor([ 1.0278524   1.845181   -0.29738766], shape=(3,), dtype=float32)\n"
          ]
        }
      ]
    },
    {
      "cell_type": "code",
      "source": [
        "## Min along the axis 0 and axis 1\n",
        "print(tf.reduce_min(tensor, axis=0))\n",
        "print(tf.reduce_min(tensor, axis=1))"
      ],
      "metadata": {
        "colab": {
          "base_uri": "https://localhost:8080/"
        },
        "id": "iz2i_kvChnc3",
        "outputId": "439c73a2-e00b-4bed-8ed0-49bfdb93e2bb"
      },
      "execution_count": 25,
      "outputs": [
        {
          "output_type": "stream",
          "name": "stdout",
          "text": [
            "tf.Tensor([-0.6544423  -0.29738766 -1.3240396 ], shape=(3,), dtype=float32)\n",
            "tf.Tensor([-0.01347923 -1.0242516  -1.3240396 ], shape=(3,), dtype=float32)\n"
          ]
        }
      ]
    },
    {
      "cell_type": "code",
      "source": [
        "## Mean along the axes\n",
        "print(tf.reduce_mean(tensor))\n",
        "# print(tf.reduce_mean(tensor))"
      ],
      "metadata": {
        "colab": {
          "base_uri": "https://localhost:8080/"
        },
        "id": "bvAih3WRh9-C",
        "outputId": "5006ecd1-bd3c-4539-a0ef-67d651c75db1"
      },
      "execution_count": 26,
      "outputs": [
        {
          "output_type": "stream",
          "name": "stdout",
          "text": [
            "tf.Tensor(0.08997614, shape=(), dtype=float32)\n"
          ]
        }
      ]
    },
    {
      "cell_type": "code",
      "source": [
        "## Sum\n",
        "print(tf.reduce_sum(tensor))\n",
        "# print(tf.reduce_sum(tensor, axis=1))"
      ],
      "metadata": {
        "colab": {
          "base_uri": "https://localhost:8080/"
        },
        "id": "2UvOqI2wiJTY",
        "outputId": "12debedf-7945-46ef-c977-26bad865ab4a"
      },
      "execution_count": 27,
      "outputs": [
        {
          "output_type": "stream",
          "name": "stdout",
          "text": [
            "tf.Tensor(0.80978525, shape=(), dtype=float32)\n"
          ]
        }
      ]
    },
    {
      "cell_type": "code",
      "source": [
        "print(tf.abs(tensor))"
      ],
      "metadata": {
        "colab": {
          "base_uri": "https://localhost:8080/"
        },
        "id": "fYkaCbCGijRU",
        "outputId": "a7438849-3fe7-4c39-b8f3-4b5cc07d9d29"
      },
      "execution_count": 29,
      "outputs": [
        {
          "output_type": "stream",
          "name": "stdout",
          "text": [
            "tf.Tensor(\n",
            "[[1.0278524  0.27974114 0.01347923]\n",
            " [1.845181   0.97061104 1.0242516 ]\n",
            " [0.6544423  0.29738766 1.3240396 ]], shape=(3, 3), dtype=float32)\n"
          ]
        }
      ]
    },
    {
      "cell_type": "code",
      "source": [
        "##Variance and Standard Deviation=> use numpy instead\n",
        "\n",
        "import tensorflow_probability as tfp\n",
        "\n",
        "print(tfp.stats.variance(tensor))\n",
        "\n",
        "print(tf.math.reduce_std(tensor))"
      ],
      "metadata": {
        "id": "Qbi-85y__vTU",
        "outputId": "1d06ff3a-7513-4144-b584-d323bf4174b9",
        "colab": {
          "base_uri": "https://localhost:8080/"
        }
      },
      "execution_count": 52,
      "outputs": [
        {
          "output_type": "stream",
          "name": "stdout",
          "text": [
            "tf.Tensor([1.0829176  0.26868883 0.31434467], shape=(3,), dtype=float32)\n",
            "tf.Tensor(0.9847583, shape=(), dtype=float32)\n"
          ]
        }
      ]
    },
    {
      "cell_type": "markdown",
      "source": [
        "### ABC"
      ],
      "metadata": {
        "id": "1lLeah2O7TqG"
      }
    },
    {
      "cell_type": "code",
      "source": [
        ""
      ],
      "metadata": {
        "id": "-IXe8mUz7YcH"
      },
      "execution_count": 27,
      "outputs": []
    }
  ]
}