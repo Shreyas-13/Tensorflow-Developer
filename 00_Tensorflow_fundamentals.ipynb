{
  "nbformat": 4,
  "nbformat_minor": 0,
  "metadata": {
    "colab": {
      "name": "00_Tensorflow_fundamentals.ipynb",
      "provenance": [],
      "authorship_tag": "ABX9TyNCfLxlod8Lhoq/EKlfLAYb",
      "include_colab_link": true
    },
    "kernelspec": {
      "name": "python3",
      "display_name": "Python 3"
    },
    "language_info": {
      "name": "python"
    }
  },
  "cells": [
    {
      "cell_type": "markdown",
      "metadata": {
        "id": "view-in-github",
        "colab_type": "text"
      },
      "source": [
        "<a href=\"https://colab.research.google.com/github/Shreyas-13/Tensorflow-Developer/blob/main/00_Tensorflow_fundamentals.ipynb\" target=\"_parent\"><img src=\"https://colab.research.google.com/assets/colab-badge.svg\" alt=\"Open In Colab\"/></a>"
      ]
    },
    {
      "cell_type": "markdown",
      "source": [
        "# Tensorflow Fundamentals\n",
        "\n",
        "Outline:\n",
        "* Intro to tensors\n",
        "* Getting info from tensors\n",
        "* Manipulating tensors\n",
        "* Tensors and Numpy\n",
        "* Using @tf.function(a way to speed up regular python func)\n",
        "* Using GPU with tensorflow"
      ],
      "metadata": {
        "id": "WsQFYkDoF98P"
      }
    },
    {
      "cell_type": "markdown",
      "source": [
        "# Intro to Tensors"
      ],
      "metadata": {
        "id": "LfgjKT2rIIc2"
      }
    },
    {
      "cell_type": "markdown",
      "source": [
        "### Creating tensors using `tf.constant`"
      ],
      "metadata": {
        "id": "6PSyRbS-MqK7"
      }
    },
    {
      "cell_type": "code",
      "source": [
        "import tensorflow as tf\n",
        "\n",
        "print(tf.__version__)\n",
        "\n",
        "##Creating a tensor\n",
        "scalar = tf.constant(7)\n",
        "scalar"
      ],
      "metadata": {
        "colab": {
          "base_uri": "https://localhost:8080/"
        },
        "id": "lPaQcHU5F_xK",
        "outputId": "6b7455e5-51da-4a7f-bb57-20e4f65b9a3b"
      },
      "execution_count": 1,
      "outputs": [
        {
          "output_type": "stream",
          "name": "stdout",
          "text": [
            "2.8.0\n"
          ]
        },
        {
          "output_type": "execute_result",
          "data": {
            "text/plain": [
              "<tf.Tensor: shape=(), dtype=int32, numpy=7>"
            ]
          },
          "metadata": {},
          "execution_count": 1
        }
      ]
    },
    {
      "cell_type": "code",
      "source": [
        "#Creating a vector\n",
        "\n",
        "vector = tf.constant([13,2], dtype=tf.float16)\n",
        "vector"
      ],
      "metadata": {
        "colab": {
          "base_uri": "https://localhost:8080/"
        },
        "id": "HXMYikuvIQK6",
        "outputId": "39f7ab48-4faa-490b-b1bc-3e176112d442"
      },
      "execution_count": 2,
      "outputs": [
        {
          "output_type": "execute_result",
          "data": {
            "text/plain": [
              "<tf.Tensor: shape=(2,), dtype=float16, numpy=array([13.,  2.], dtype=float16)>"
            ]
          },
          "metadata": {},
          "execution_count": 2
        }
      ]
    },
    {
      "cell_type": "code",
      "source": [
        "vector.ndim"
      ],
      "metadata": {
        "colab": {
          "base_uri": "https://localhost:8080/"
        },
        "id": "-62KvzwdInSE",
        "outputId": "93baf345-a890-4eb5-cff5-ebbe2762cb23"
      },
      "execution_count": 3,
      "outputs": [
        {
          "output_type": "execute_result",
          "data": {
            "text/plain": [
              "1"
            ]
          },
          "metadata": {},
          "execution_count": 3
        }
      ]
    },
    {
      "cell_type": "code",
      "source": [
        "#Creating a matrix\n",
        "\n",
        "matrix = tf.constant([[10,20],\n",
        "                      [20,30],\n",
        "                     [30,40]])\n",
        "matrix"
      ],
      "metadata": {
        "colab": {
          "base_uri": "https://localhost:8080/"
        },
        "id": "No-C8zTsItwy",
        "outputId": "e623554b-9c1f-4132-e31d-26d6040ebac4"
      },
      "execution_count": 4,
      "outputs": [
        {
          "output_type": "execute_result",
          "data": {
            "text/plain": [
              "<tf.Tensor: shape=(3, 2), dtype=int32, numpy=\n",
              "array([[10, 20],\n",
              "       [20, 30],\n",
              "       [30, 40]], dtype=int32)>"
            ]
          },
          "metadata": {},
          "execution_count": 4
        }
      ]
    },
    {
      "cell_type": "code",
      "source": [
        "matrix.ndim"
      ],
      "metadata": {
        "colab": {
          "base_uri": "https://localhost:8080/"
        },
        "id": "ZHwWdbtjI8uU",
        "outputId": "affac7a1-c93c-475d-aabf-b68d31dde660"
      },
      "execution_count": 5,
      "outputs": [
        {
          "output_type": "execute_result",
          "data": {
            "text/plain": [
              "2"
            ]
          },
          "metadata": {},
          "execution_count": 5
        }
      ]
    },
    {
      "cell_type": "code",
      "source": [
        "#Creating a 3-D tensor\n",
        "\n",
        "tensor = tf.constant([[[10,20,30],\n",
        "                       [20,30,40]],\n",
        "                      [[13,2,2000],\n",
        "                       [13,2,2001]],\n",
        "                      [[16,11,2002],\n",
        "                       [12,12,12]],\n",
        "                      [[12,23,43],\n",
        "                      [12,45,76]]])\n",
        "tensor"
      ],
      "metadata": {
        "colab": {
          "base_uri": "https://localhost:8080/"
        },
        "id": "Ne16iukjJAS7",
        "outputId": "e1ef46dc-8393-4d4a-ad03-39e9989c6f1f"
      },
      "execution_count": 6,
      "outputs": [
        {
          "output_type": "execute_result",
          "data": {
            "text/plain": [
              "<tf.Tensor: shape=(4, 2, 3), dtype=int32, numpy=\n",
              "array([[[  10,   20,   30],\n",
              "        [  20,   30,   40]],\n",
              "\n",
              "       [[  13,    2, 2000],\n",
              "        [  13,    2, 2001]],\n",
              "\n",
              "       [[  16,   11, 2002],\n",
              "        [  12,   12,   12]],\n",
              "\n",
              "       [[  12,   23,   43],\n",
              "        [  12,   45,   76]]], dtype=int32)>"
            ]
          },
          "metadata": {},
          "execution_count": 6
        }
      ]
    },
    {
      "cell_type": "code",
      "source": [
        "tensor.ndim"
      ],
      "metadata": {
        "colab": {
          "base_uri": "https://localhost:8080/"
        },
        "id": "IkL02RSYJixv",
        "outputId": "223cc7a0-98b7-46ab-bc78-9d36eb09d1b5"
      },
      "execution_count": 7,
      "outputs": [
        {
          "output_type": "execute_result",
          "data": {
            "text/plain": [
              "3"
            ]
          },
          "metadata": {},
          "execution_count": 7
        }
      ]
    },
    {
      "cell_type": "markdown",
      "source": [
        "* scalar: A variable with single value\n",
        "* vector: A set of values in single dimension[a single subscript is requiured hence 1-D]\n",
        "* matrix: A set of vector having 2-dimension[2 subscripts required hence 2-D e.g. arr[0][0]]\n",
        "* tensor: A set of matrices having n-dimension(dimension refers to the no. of digits required to indicate a particular element in an array)"
      ],
      "metadata": {
        "id": "-5GpUF8GJrrO"
      }
    },
    {
      "cell_type": "markdown",
      "source": [
        "### Creating tensors with `tf.Variable`"
      ],
      "metadata": {
        "id": "LwrJj9KML6on"
      }
    },
    {
      "cell_type": "code",
      "source": [
        "##Creating a tensor using tf.Variable\n",
        "\n",
        "changable_tensor = tf.Variable([10,23])\n",
        "changable_tensor"
      ],
      "metadata": {
        "colab": {
          "base_uri": "https://localhost:8080/"
        },
        "id": "U3u0OoEnJqJ_",
        "outputId": "5d19c1bd-474e-4829-dc49-b9003fdd4eec"
      },
      "execution_count": 8,
      "outputs": [
        {
          "output_type": "execute_result",
          "data": {
            "text/plain": [
              "<tf.Variable 'Variable:0' shape=(2,) dtype=int32, numpy=array([10, 23], dtype=int32)>"
            ]
          },
          "metadata": {},
          "execution_count": 8
        }
      ]
    },
    {
      "cell_type": "code",
      "source": [
        "##Updating the tensor value\n",
        "changable_tensor[0].assign(13)\n",
        "changable_tensor"
      ],
      "metadata": {
        "id": "Wk175jy7MWbm",
        "outputId": "fba3f040-cd0c-4d21-f2a1-7e207c8a2b0f",
        "colab": {
          "base_uri": "https://localhost:8080/"
        }
      },
      "execution_count": 9,
      "outputs": [
        {
          "output_type": "execute_result",
          "data": {
            "text/plain": [
              "<tf.Variable 'Variable:0' shape=(2,) dtype=int32, numpy=array([13, 23], dtype=int32)>"
            ]
          },
          "metadata": {},
          "execution_count": 9
        }
      ]
    },
    {
      "cell_type": "markdown",
      "source": [
        "Summary:\n",
        "  * tf.Variable unlike tf.constant can create tensors that can be updated when required\n",
        "\n",
        "**Note-** It is good practice to declare your tensors as constant and change them to variable when required."
      ],
      "metadata": {
        "id": "4qSLsx_XEbfJ"
      }
    },
    {
      "cell_type": "markdown",
      "source": [
        "### Creating Random Tensors\n",
        "\n",
        "Random tensors are used when we're trying to initialize the weights of a NN"
      ],
      "metadata": {
        "id": "Eda9O2gUE49-"
      }
    },
    {
      "cell_type": "code",
      "source": [
        "'''Creating a random tensor with with values ranging b/w -1,1 i.e. Normal\n",
        "Distribution'''\n",
        "tf.random.set_seed(1)\n",
        "\n",
        "random_1 = tf.random.Generator.from_seed(42)\n",
        "random_1 = random_1.normal(shape=(3,2))\n",
        "random_2 = tf.random.Generator.from_seed(42)\n",
        "random_2 = random_2.normal(shape=(3,2))\n",
        "\n",
        "random_1 == random_2\n",
        "\n",
        "'''We can also use Uniform Distribution if we want a value between 0,1'''\n",
        "\n",
        "random_3 = tf.random.Generator.from_seed(9)\n",
        "random_3 = random_3.uniform(shape=(1,2))\n",
        "random_3"
      ],
      "metadata": {
        "id": "zgH_UhExEZzr",
        "outputId": "0f4650a6-2bcb-4bdd-c96f-3ebd750e26ac",
        "colab": {
          "base_uri": "https://localhost:8080/"
        }
      },
      "execution_count": 10,
      "outputs": [
        {
          "output_type": "execute_result",
          "data": {
            "text/plain": [
              "<tf.Tensor: shape=(1, 2), dtype=float32, numpy=array([[0.8203654 , 0.70470357]], dtype=float32)>"
            ]
          },
          "metadata": {},
          "execution_count": 10
        }
      ]
    },
    {
      "cell_type": "markdown",
      "source": [
        "### Shuffling the tensors\n",
        "\n",
        "Required so that the dataset is mixedd randomly and not same type of data is repeated together."
      ],
      "metadata": {
        "id": "3gWNqUfIJTf1"
      }
    },
    {
      "cell_type": "code",
      "source": [
        "import numpy as np\n",
        "\n",
        "matrix = np.random.rand(6).reshape(3,2)\n",
        "\n",
        "not_shuffeled = tf.constant(matrix)\n",
        "not_shuffeled"
      ],
      "metadata": {
        "id": "qQn3iptDFR-q",
        "outputId": "5150cb21-ccfa-4885-de5b-154b22133d43",
        "colab": {
          "base_uri": "https://localhost:8080/"
        }
      },
      "execution_count": 11,
      "outputs": [
        {
          "output_type": "execute_result",
          "data": {
            "text/plain": [
              "<tf.Tensor: shape=(3, 2), dtype=float64, numpy=\n",
              "array([[0.56946872, 0.11395717],\n",
              "       [0.07649994, 0.50488376],\n",
              "       [0.56584344, 0.85768969]])>"
            ]
          },
          "metadata": {},
          "execution_count": 11
        }
      ]
    },
    {
      "cell_type": "code",
      "source": [
        "'''Here even using seed doesn't guarantee same output everytime cz of global and \n",
        "operational-level seed'''\n",
        "\n",
        "shuffeled = tf.random.shuffle(not_shuffeled, seed=1)\n",
        "shuffeled"
      ],
      "metadata": {
        "id": "sKfZXEfvJyc0",
        "outputId": "33434b62-19cd-42ea-e952-db93858ce34e",
        "colab": {
          "base_uri": "https://localhost:8080/"
        }
      },
      "execution_count": 12,
      "outputs": [
        {
          "output_type": "execute_result",
          "data": {
            "text/plain": [
              "<tf.Tensor: shape=(3, 2), dtype=float64, numpy=\n",
              "array([[0.56946872, 0.11395717],\n",
              "       [0.07649994, 0.50488376],\n",
              "       [0.56584344, 0.85768969]])>"
            ]
          },
          "metadata": {},
          "execution_count": 12
        }
      ]
    },
    {
      "cell_type": "code",
      "source": [
        "'''Here setting tf.random.set_seed() resolves the problem'''\n",
        "\n",
        "tf.random.set_seed(1)\n",
        "shuffeled = tf.random.shuffle(not_shuffeled, seed=11)\n",
        "shuffeled"
      ],
      "metadata": {
        "id": "jGEHiTslKxtF",
        "outputId": "5bb78455-e5bd-4888-f110-8bb9d8ea7464",
        "colab": {
          "base_uri": "https://localhost:8080/"
        }
      },
      "execution_count": 13,
      "outputs": [
        {
          "output_type": "execute_result",
          "data": {
            "text/plain": [
              "<tf.Tensor: shape=(3, 2), dtype=float64, numpy=\n",
              "array([[0.07649994, 0.50488376],\n",
              "       [0.56584344, 0.85768969],\n",
              "       [0.56946872, 0.11395717]])>"
            ]
          },
          "metadata": {},
          "execution_count": 13
        }
      ]
    },
    {
      "cell_type": "markdown",
      "source": [
        "### Getting Information from tensors\n",
        "\n",
        "A tensor has following attributes:\n",
        "  * Shape - Shape of tensor tensor.shape\n",
        "  * Rank - No of dimensions tensor.ndim\n",
        "  * Axis - tensor[0] or tensor[:, 1]\n",
        "  * Size - No of elements in the tensor tf.size(tensor)"
      ],
      "metadata": {
        "id": "erSfprdPMjkx"
      }
    },
    {
      "cell_type": "code",
      "source": [
        "##func to extract all these info\n",
        "\n",
        "def info(tensor):\n",
        "  print('Datatype of Elements: ', tensor.dtype)\n",
        "  print('Rank: ', tensor.ndim)\n",
        "  print('Shape: ', tensor.shape)\n",
        "  print('Axis 0: ', tensor[0])\n",
        "  print('Size: ', tf.size(tensor).numpy())\n",
        "\n",
        "if __name__ == '__main__':\n",
        "  tf.random.set_seed(100)\n",
        "  rank_4_tensor = tf.random.Generator.from_seed(32)\n",
        "  rank_4_tensor = rank_4_tensor.normal(shape=(2,3,4,5))\n",
        "  info(rank_4_tensor)"
      ],
      "metadata": {
        "id": "3Th-FiEBLbJK",
        "outputId": "08d0f1a4-8728-4633-ac87-52077b94e30f",
        "colab": {
          "base_uri": "https://localhost:8080/"
        }
      },
      "execution_count": 18,
      "outputs": [
        {
          "output_type": "stream",
          "name": "stdout",
          "text": [
            "Datatype of Elements:  <dtype: 'float32'>\n",
            "Rank:  4\n",
            "Shape:  (2, 3, 4, 5)\n",
            "Axis 0:  tf.Tensor(\n",
            "[[[ 0.7901182   1.585549    0.4356279   0.23645182 -0.1589871 ]\n",
            "  [ 1.302304    0.9592239   0.85874265 -1.5181769   1.4020647 ]\n",
            "  [ 1.5570306  -0.96762174  0.495291   -0.648484   -1.8700892 ]\n",
            "  [ 2.7830641  -0.645002    0.18022095 -0.14656258  0.34374258]]\n",
            "\n",
            " [[ 0.41367555  0.17573498 -1.0871261   0.45905176  0.20386009]\n",
            "  [ 0.562024   -2.3001142  -1.349454    0.81485     1.2790666 ]\n",
            "  [ 0.02203509  1.5428121   0.78953624  0.53897345 -0.48535708]\n",
            "  [ 0.74055266  0.31662667 -1.4391748   0.58923835 -1.4268045 ]]\n",
            "\n",
            " [[-0.7565803  -0.06854702  0.07595026 -1.2573844  -0.23193763]\n",
            "  [-1.8107855   0.09988727 -0.50998646 -0.7535805  -0.57166284]\n",
            "  [ 0.1480774  -0.23362993 -0.3522796   0.40621263 -1.0523509 ]\n",
            "  [ 1.2054597   1.6874489  -0.4462975  -2.3410842   0.99009085]]], shape=(3, 4, 5), dtype=float32)\n",
            "Size:  120\n"
          ]
        }
      ]
    },
    {
      "cell_type": "markdown",
      "source": [
        "### Indexing Tensor"
      ],
      "metadata": {
        "id": "ypdDQpu-bxvV"
      }
    },
    {
      "cell_type": "code",
      "source": [
        ""
      ],
      "metadata": {
        "id": "SKIkpmGjb2n0"
      },
      "execution_count": null,
      "outputs": []
    }
  ]
}