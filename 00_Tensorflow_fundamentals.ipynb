{
  "nbformat": 4,
  "nbformat_minor": 0,
  "metadata": {
    "colab": {
      "name": "00_Tensorflow_fundamentals.ipynb",
      "provenance": [],
      "authorship_tag": "ABX9TyPQZDfujjQAkUqxhoNLGWMG",
      "include_colab_link": true
    },
    "kernelspec": {
      "name": "python3",
      "display_name": "Python 3"
    },
    "language_info": {
      "name": "python"
    }
  },
  "cells": [
    {
      "cell_type": "markdown",
      "metadata": {
        "id": "view-in-github",
        "colab_type": "text"
      },
      "source": [
        "<a href=\"https://colab.research.google.com/github/Shreyas-13/Tensorflow-Developer/blob/main/00_Tensorflow_fundamentals.ipynb\" target=\"_parent\"><img src=\"https://colab.research.google.com/assets/colab-badge.svg\" alt=\"Open In Colab\"/></a>"
      ]
    },
    {
      "cell_type": "markdown",
      "source": [
        "# Tensorflow Fundamentals\n",
        "\n",
        "Outline:\n",
        "* Intro to tensors\n",
        "* Getting info from tensors\n",
        "* Manipulating tensors\n",
        "* Tensors and Numpy\n",
        "* Using @tf.function(a way to speed up regular python func)\n",
        "* Using GPU with tensorflow"
      ],
      "metadata": {
        "id": "WsQFYkDoF98P"
      }
    },
    {
      "cell_type": "markdown",
      "source": [
        "# Intro to Tensors"
      ],
      "metadata": {
        "id": "LfgjKT2rIIc2"
      }
    },
    {
      "cell_type": "markdown",
      "source": [
        "### Creating tensors using `tf.constant`"
      ],
      "metadata": {
        "id": "6PSyRbS-MqK7"
      }
    },
    {
      "cell_type": "code",
      "source": [
        "import tensorflow as tf\n",
        "\n",
        "print(tf.__version__)\n",
        "\n",
        "##Creating a tensor\n",
        "scalar = tf.constant(7)\n",
        "scalar"
      ],
      "metadata": {
        "colab": {
          "base_uri": "https://localhost:8080/"
        },
        "id": "lPaQcHU5F_xK",
        "outputId": "798c6ddc-2822-4cf0-e0b3-0e11ba89b714"
      },
      "execution_count": 16,
      "outputs": [
        {
          "output_type": "stream",
          "name": "stdout",
          "text": [
            "2.8.0\n"
          ]
        },
        {
          "output_type": "execute_result",
          "data": {
            "text/plain": [
              "<tf.Tensor: shape=(), dtype=int32, numpy=7>"
            ]
          },
          "metadata": {},
          "execution_count": 16
        }
      ]
    },
    {
      "cell_type": "code",
      "source": [
        "#Creating a vector\n",
        "\n",
        "vector = tf.constant([13,2], dtype=tf.float16)\n",
        "vector"
      ],
      "metadata": {
        "colab": {
          "base_uri": "https://localhost:8080/"
        },
        "id": "HXMYikuvIQK6",
        "outputId": "7ccbf9ac-5c3c-47a5-eeeb-df7a0d04e2be"
      },
      "execution_count": 17,
      "outputs": [
        {
          "output_type": "execute_result",
          "data": {
            "text/plain": [
              "<tf.Tensor: shape=(2,), dtype=float16, numpy=array([13.,  2.], dtype=float16)>"
            ]
          },
          "metadata": {},
          "execution_count": 17
        }
      ]
    },
    {
      "cell_type": "code",
      "source": [
        "vector.ndim"
      ],
      "metadata": {
        "colab": {
          "base_uri": "https://localhost:8080/"
        },
        "id": "-62KvzwdInSE",
        "outputId": "5b64171b-a447-4b82-a053-352e1be869b6"
      },
      "execution_count": 18,
      "outputs": [
        {
          "output_type": "execute_result",
          "data": {
            "text/plain": [
              "1"
            ]
          },
          "metadata": {},
          "execution_count": 18
        }
      ]
    },
    {
      "cell_type": "code",
      "source": [
        "#Creating a matrix\n",
        "\n",
        "matrix = tf.constant([[10,20],\n",
        "                      [20,30],\n",
        "                     [30,40]])\n",
        "matrix"
      ],
      "metadata": {
        "colab": {
          "base_uri": "https://localhost:8080/"
        },
        "id": "No-C8zTsItwy",
        "outputId": "29292707-d57e-4e2c-c8a0-a1bd35febf36"
      },
      "execution_count": 19,
      "outputs": [
        {
          "output_type": "execute_result",
          "data": {
            "text/plain": [
              "<tf.Tensor: shape=(3, 2), dtype=int32, numpy=\n",
              "array([[10, 20],\n",
              "       [20, 30],\n",
              "       [30, 40]], dtype=int32)>"
            ]
          },
          "metadata": {},
          "execution_count": 19
        }
      ]
    },
    {
      "cell_type": "code",
      "source": [
        "matrix.ndim"
      ],
      "metadata": {
        "colab": {
          "base_uri": "https://localhost:8080/"
        },
        "id": "ZHwWdbtjI8uU",
        "outputId": "c49dbe18-8be1-4ed5-c2bf-5c029cef893d"
      },
      "execution_count": 20,
      "outputs": [
        {
          "output_type": "execute_result",
          "data": {
            "text/plain": [
              "2"
            ]
          },
          "metadata": {},
          "execution_count": 20
        }
      ]
    },
    {
      "cell_type": "code",
      "source": [
        "#Creating a 3-D tensor\n",
        "\n",
        "tensor = tf.constant([[[10,20,30],\n",
        "                       [20,30,40]],\n",
        "                      [[13,2,2000],\n",
        "                       [13,2,2001]],\n",
        "                      [[16,11,2002],\n",
        "                       [12,12,12]],\n",
        "                      [[12,23,43],\n",
        "                      [12,45,76]]])\n",
        "tensor"
      ],
      "metadata": {
        "colab": {
          "base_uri": "https://localhost:8080/"
        },
        "id": "Ne16iukjJAS7",
        "outputId": "589e3192-1000-4587-f432-904053bf4fe1"
      },
      "execution_count": 21,
      "outputs": [
        {
          "output_type": "execute_result",
          "data": {
            "text/plain": [
              "<tf.Tensor: shape=(4, 2, 3), dtype=int32, numpy=\n",
              "array([[[  10,   20,   30],\n",
              "        [  20,   30,   40]],\n",
              "\n",
              "       [[  13,    2, 2000],\n",
              "        [  13,    2, 2001]],\n",
              "\n",
              "       [[  16,   11, 2002],\n",
              "        [  12,   12,   12]],\n",
              "\n",
              "       [[  12,   23,   43],\n",
              "        [  12,   45,   76]]], dtype=int32)>"
            ]
          },
          "metadata": {},
          "execution_count": 21
        }
      ]
    },
    {
      "cell_type": "code",
      "source": [
        "tensor.ndim"
      ],
      "metadata": {
        "colab": {
          "base_uri": "https://localhost:8080/"
        },
        "id": "IkL02RSYJixv",
        "outputId": "fe8da725-5966-4cf7-ed93-646c21ba426d"
      },
      "execution_count": 22,
      "outputs": [
        {
          "output_type": "execute_result",
          "data": {
            "text/plain": [
              "3"
            ]
          },
          "metadata": {},
          "execution_count": 22
        }
      ]
    },
    {
      "cell_type": "markdown",
      "source": [
        "* scalar: A variable with single value\n",
        "* vector: A set of values in single dimension[a single subscript is requiured hence 1-D]\n",
        "* matrix: A set of vector having 2-dimension[2 subscripts required hence 2-D e.g. arr[0][0]]\n",
        "* tensor: A set of matrices having n-dimension(dimension refers to the no. of digits required to indicate a particular element in an array)"
      ],
      "metadata": {
        "id": "-5GpUF8GJrrO"
      }
    },
    {
      "cell_type": "markdown",
      "source": [
        "### Creating tensors with `tf.Variable`"
      ],
      "metadata": {
        "id": "LwrJj9KML6on"
      }
    },
    {
      "cell_type": "code",
      "source": [
        "tf.Variable"
      ],
      "metadata": {
        "colab": {
          "base_uri": "https://localhost:8080/"
        },
        "id": "U3u0OoEnJqJ_",
        "outputId": "58880858-b78d-4158-ee84-cf5e9d5fcaf3"
      },
      "execution_count": 23,
      "outputs": [
        {
          "output_type": "execute_result",
          "data": {
            "text/plain": [
              "tensorflow.python.ops.variables.Variable"
            ]
          },
          "metadata": {},
          "execution_count": 23
        }
      ]
    },
    {
      "cell_type": "code",
      "source": [
        ""
      ],
      "metadata": {
        "id": "Wk175jy7MWbm"
      },
      "execution_count": 23,
      "outputs": []
    }
  ]
}